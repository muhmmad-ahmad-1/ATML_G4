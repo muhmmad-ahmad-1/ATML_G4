{
 "cells": [
  {
   "cell_type": "code",
   "execution_count": 1,
   "metadata": {},
   "outputs": [
    {
     "name": "stdout",
     "output_type": "stream",
     "text": [
      "Files already downloaded and verified\n",
      "Files already downloaded and verified\n",
      "Files already downloaded and verified\n",
      "Files already downloaded and verified\n"
     ]
    }
   ],
   "source": [
    "from models import *\n",
    "from utils import *\n",
    "import torch\n",
    "from torch import nn"
   ]
  },
  {
   "cell_type": "markdown",
   "metadata": {},
   "source": [
    "### Step 1: Obtain the student and teacher models which allow feature map extraction"
   ]
  },
  {
   "cell_type": "code",
   "execution_count": 2,
   "metadata": {},
   "outputs": [
    {
     "name": "stderr",
     "output_type": "stream",
     "text": [
      "C:\\Users\\PCF\\AppData\\Local\\Temp\\ipykernel_26796\\1514609959.py:2: FutureWarning: You are using `torch.load` with `weights_only=False` (the current default value), which uses the default pickle module implicitly. It is possible to construct malicious pickle data which will execute arbitrary code during unpickling (See https://github.com/pytorch/pytorch/blob/main/SECURITY.md#untrusted-models for more details). In a future release, the default value for `weights_only` will be flipped to `True`. This limits the functions that could be executed during unpickling. Arbitrary objects will no longer be allowed to be loaded via this mode unless they are explicitly allowlisted by the user via `torch.serialization.add_safe_globals`. We recommend you start setting `weights_only=True` for any use case where you don't have full control of the loaded file. Please open an issue on GitHub for any issues related to this experimental feature.\n",
      "  VGG16_teacher.load_state_dict(torch.load('teacher_model_vgg16_bn.pth'))\n"
     ]
    },
    {
     "data": {
      "text/plain": [
       "<All keys matched successfully>"
      ]
     },
     "execution_count": 2,
     "metadata": {},
     "output_type": "execute_result"
    }
   ],
   "source": [
    "VGG16_teacher = vgg16_bn_f(False,100)\n",
    "VGG16_teacher.load_state_dict(torch.load('teacher_model_vgg16_bn.pth'))"
   ]
  },
  {
   "cell_type": "code",
   "execution_count": 3,
   "metadata": {},
   "outputs": [],
   "source": [
    "VGG11_student = vgg11_bn_f(False,100)"
   ]
  },
  {
   "cell_type": "markdown",
   "metadata": {},
   "source": [
    "Distill using CRD"
   ]
  },
  {
   "cell_type": "code",
   "execution_count": 4,
   "metadata": {},
   "outputs": [
    {
     "name": "stdout",
     "output_type": "stream",
     "text": [
      "Epoch: 1 Train Loss: 12.94 Train Accuracy: 0.03\n",
      "Epoch: 2 Train Loss: 12.84 Train Accuracy: 0.04\n",
      "Epoch: 3 Train Loss: 12.77 Train Accuracy: 0.05\n",
      "Epoch: 4 Train Loss: 12.70 Train Accuracy: 0.07\n",
      "Epoch: 5 Train Loss: 12.62 Train Accuracy: 0.08\n",
      "Epoch: 6 Train Loss: 12.56 Train Accuracy: 0.10\n",
      "Epoch: 7 Train Loss: 12.50 Train Accuracy: 0.11\n",
      "Epoch: 8 Train Loss: 12.44 Train Accuracy: 0.13\n",
      "Epoch: 9 Train Loss: 12.38 Train Accuracy: 0.15\n",
      "Epoch: 10 Train Loss: 12.33 Train Accuracy: 0.17\n",
      "Epoch: 11 Train Loss: 12.28 Train Accuracy: 0.19\n",
      "Epoch: 12 Train Loss: 12.24 Train Accuracy: 0.21\n",
      "Epoch: 13 Train Loss: 12.19 Train Accuracy: 0.23\n",
      "Epoch: 14 Train Loss: 12.15 Train Accuracy: 0.25\n",
      "Epoch: 15 Train Loss: 12.11 Train Accuracy: 0.27\n",
      "Epoch: 16 Train Loss: 12.07 Train Accuracy: 0.28\n",
      "Epoch: 17 Train Loss: 12.04 Train Accuracy: 0.30\n",
      "Epoch: 18 Train Loss: 12.01 Train Accuracy: 0.32\n",
      "Epoch: 19 Train Loss: 11.97 Train Accuracy: 0.33\n",
      "Epoch: 20 Train Loss: 11.94 Train Accuracy: 0.35\n",
      "Epoch: 21 Train Loss: 11.91 Train Accuracy: 0.36\n",
      "Epoch: 22 Train Loss: 11.89 Train Accuracy: 0.38\n",
      "Epoch: 23 Train Loss: 11.87 Train Accuracy: 0.39\n",
      "Epoch: 24 Train Loss: 11.84 Train Accuracy: 0.40\n",
      "Epoch: 25 Train Loss: 11.82 Train Accuracy: 0.41\n",
      "Epoch: 26 Train Loss: 11.80 Train Accuracy: 0.42\n",
      "Epoch: 27 Train Loss: 11.78 Train Accuracy: 0.44\n",
      "Epoch: 28 Train Loss: 11.75 Train Accuracy: 0.45\n",
      "Epoch: 29 Train Loss: 11.73 Train Accuracy: 0.46\n",
      "Epoch: 30 Train Loss: 11.72 Train Accuracy: 0.47\n",
      "Epoch: 30 Train Loss: 11.72 Train Accuracy: 0.47 Test Loss: 2.28 Test Accuracy: 0.42\n"
     ]
    }
   ],
   "source": [
    "crd_net = create_crd_model(VGG16_teacher, VGG11_student)\n",
    "device = 'cuda' if torch.cuda.is_available() else 'cpu'\n",
    "crd_net.student = crd_net.student.to(device)\n",
    "crd_net.teacher = crd_net.teacher.to(device)\n",
    "crd_net.crd_block = crd_net.crd_block.to(device)\n",
    "EPOCHS = 30\n",
    "loss_func = nn.CrossEntropyLoss()\n",
    "optimizer = torch.optim.Adam(get_learnable_parameters(crd_net), lr=0.002)\n",
    "tr_metric = {\"Accuracy\":[],\"Loss\":[]}\n",
    "ts_metric = {\"Accuracy\":[],\"Loss\":[]}\n",
    "\n",
    "for epoch in range(EPOCHS):\n",
    "    tr_loss, tr_acc = train_crd(crd_net,train_loader_idx,optimizer,device)\n",
    "    tr_metric[\"Accuracy\"].append(tr_acc)\n",
    "    tr_metric[\"Loss\"].append(tr_loss)\n",
    "\n",
    "    print(\"Epoch: {} Train Loss: {:.2f} Train Accuracy: {:.2f}\".format(epoch+1, tr_loss, tr_acc))\n",
    "ts_loss, ts_acc = eval_f(crd_net.student,test_loader,nn.CrossEntropyLoss(),device)\n",
    "ts_metric[\"Accuracy\"].append(ts_acc)\n",
    "ts_metric[\"Loss\"].append(ts_loss)\n",
    "print(\"Epoch: {} Train Loss: {:.2f} Train Accuracy: {:.2f} Test Loss: {:.2f} Test Accuracy: {:.2f}\".format(epoch+1, tr_loss, tr_acc, ts_loss, ts_acc))\n",
    "\n"
   ]
  },
  {
   "cell_type": "code",
   "execution_count": 5,
   "metadata": {},
   "outputs": [
    {
     "data": {
      "text/plain": [
       "(2.279502033428022, array(0.4204, dtype=float32))"
      ]
     },
     "execution_count": 5,
     "metadata": {},
     "output_type": "execute_result"
    }
   ],
   "source": [
    "eval_f(crd_net.student,test_loader,nn.CrossEntropyLoss(),device)"
   ]
  },
  {
   "cell_type": "code",
   "execution_count": 9,
   "metadata": {},
   "outputs": [
    {
     "name": "stdout",
     "output_type": "stream",
     "text": [
      "Final Train Accuracy: 0.47193998\n",
      "Final Test Accuracy: 0.4188\n",
      "Final Train Loss: 11.715296087972343\n",
      "Final Test Loss: 2.2781109870619076\n"
     ]
    }
   ],
   "source": [
    "print(\"Final Train Accuracy:\",tr_metric[\"Accuracy\"][-1])\n",
    "print(\"Final Test Accuracy:\",ts_metric[\"Accuracy\"][-1])\n",
    "print(\"Final Train Loss:\",tr_metric[\"Loss\"][-1])\n",
    "print(\"Final Test Loss:\",ts_metric[\"Loss\"][-1])"
   ]
  },
  {
   "cell_type": "code",
   "execution_count": 7,
   "metadata": {},
   "outputs": [],
   "source": [
    "import pandas as pd\n",
    "pd.DataFrame(tr_metric).to_csv(\"vgg11_cifar100_crd_tr.csv\") \n",
    "pd.DataFrame(ts_metric).to_csv(\"vgg11_cifar100_crd_ts.csv\")"
   ]
  },
  {
   "cell_type": "code",
   "execution_count": 10,
   "metadata": {},
   "outputs": [],
   "source": [
    "torch.save(crd_net.student.state_dict(),\"vgg11_cifar100_crd_student.pth\")\n",
    "torch.save(crd_net.crd_block.state_dict(),\"vgg11_cifar100_crd_embedder.pth\")"
   ]
  }
 ],
 "metadata": {
  "kernelspec": {
   "display_name": "SProj",
   "language": "python",
   "name": "python3"
  },
  "language_info": {
   "codemirror_mode": {
    "name": "ipython",
    "version": 3
   },
   "file_extension": ".py",
   "mimetype": "text/x-python",
   "name": "python",
   "nbconvert_exporter": "python",
   "pygments_lexer": "ipython3",
   "version": "3.11.5"
  }
 },
 "nbformat": 4,
 "nbformat_minor": 2
}
