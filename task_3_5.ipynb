{
 "cells": [
  {
   "cell_type": "code",
   "execution_count": 1,
   "metadata": {},
   "outputs": [
    {
     "name": "stdout",
     "output_type": "stream",
     "text": [
      "Files already downloaded and verified\n",
      "Files already downloaded and verified\n",
      "Files already downloaded and verified\n",
      "Files already downloaded and verified\n",
      "Files already downloaded and verified\n",
      "Files already downloaded and verified\n"
     ]
    }
   ],
   "source": [
    "from models import *\n",
    "from utils import *\n",
    "import torch \n",
    "from torch import nn"
   ]
  },
  {
   "cell_type": "markdown",
   "metadata": {},
   "source": [
    "Load in the VGG16 pretrained teacher"
   ]
  },
  {
   "cell_type": "code",
   "execution_count": 6,
   "metadata": {},
   "outputs": [
    {
     "name": "stderr",
     "output_type": "stream",
     "text": [
      "C:\\Users\\PCF\\AppData\\Local\\Temp\\ipykernel_31672\\1506645479.py:3: FutureWarning: You are using `torch.load` with `weights_only=False` (the current default value), which uses the default pickle module implicitly. It is possible to construct malicious pickle data which will execute arbitrary code during unpickling (See https://github.com/pytorch/pytorch/blob/main/SECURITY.md#untrusted-models for more details). In a future release, the default value for `weights_only` will be flipped to `True`. This limits the functions that could be executed during unpickling. Arbitrary objects will no longer be allowed to be loaded via this mode unless they are explicitly allowlisted by the user via `torch.serialization.add_safe_globals`. We recommend you start setting `weights_only=True` for any use case where you don't have full control of the loaded file. Please open an issue on GitHub for any issues related to this experimental feature.\n",
      "  t.load_state_dict(torch.load('teacher_model_vgg16_bn.pth'))\n"
     ]
    },
    {
     "data": {
      "text/plain": [
       "<All keys matched successfully>"
      ]
     },
     "execution_count": 6,
     "metadata": {},
     "output_type": "execute_result"
    }
   ],
   "source": [
    "device = 'cuda' if torch.cuda.is_available() else 'cpu'\n",
    "t = vgg16_bn_f(False,100).to(device)\n",
    "t.load_state_dict(torch.load('teacher_model_vgg16_bn.pth'))"
   ]
  },
  {
   "cell_type": "markdown",
   "metadata": {},
   "source": [
    "Evaluate initial performance of teacher on test data with color jitter and test data without color jitter"
   ]
  },
  {
   "cell_type": "code",
   "execution_count": 3,
   "metadata": {},
   "outputs": [
    {
     "name": "stdout",
     "output_type": "stream",
     "text": [
      "Teacher Test Accuracy:  0.62009996\n"
     ]
    }
   ],
   "source": [
    "print(\"Teacher Test Accuracy: \", eval_f(t, test_loader,nn.CrossEntropyLoss(),device)[1])"
   ]
  },
  {
   "cell_type": "code",
   "execution_count": 4,
   "metadata": {},
   "outputs": [
    {
     "name": "stdout",
     "output_type": "stream",
     "text": [
      "Teacher Test Accuracy with Jitter:  0.51089996\n"
     ]
    }
   ],
   "source": [
    "print(\"Teacher Test Accuracy with Jitter: \", eval_f(t, color_jitter_test_loader,nn.CrossEntropyLoss(),device)[1])"
   ]
  },
  {
   "cell_type": "markdown",
   "metadata": {},
   "source": [
    "Tune the teacher model on 5 epochs with color jitter train dataset (or until we regain near initial performance)"
   ]
  },
  {
   "cell_type": "code",
   "execution_count": 7,
   "metadata": {},
   "outputs": [
    {
     "name": "stdout",
     "output_type": "stream",
     "text": [
      "Epoch:  1\n",
      "Teacher Test Accuracy:  0.6501\n",
      "Teacher Test Accuracy with Jitter:  0.6062\n",
      "Epoch:  2\n",
      "Teacher Test Accuracy:  0.6518\n",
      "Teacher Test Accuracy with Jitter:  0.61539996\n",
      "Epoch:  3\n",
      "Teacher Test Accuracy:  0.6563\n",
      "Teacher Test Accuracy with Jitter:  0.6192\n",
      "Epoch:  4\n",
      "Teacher Test Accuracy:  0.66179997\n",
      "Teacher Test Accuracy with Jitter:  0.6232\n",
      "Epoch:  5\n",
      "Teacher Test Accuracy:  0.6551\n",
      "Teacher Test Accuracy with Jitter:  0.62229997\n"
     ]
    }
   ],
   "source": [
    "t.train()\n",
    "EPOCHS = 5\n",
    "criterion = nn.CrossEntropyLoss()\n",
    "optimizer = torch.optim.Adam(t.parameters(), lr=0.0005)\n",
    "for epoch in range(EPOCHS):\n",
    "    independent_train_f(t, color_jitter_train_loader, criterion, optimizer, device)\n",
    "    print(\"Epoch: \", epoch+1)\n",
    "    print(\"Teacher Test Accuracy: \", eval_f(t, test_loader,nn.CrossEntropyLoss(),device)[1])\n",
    "    print(\"Teacher Test Accuracy with Jitter: \", eval_f(t, color_jitter_test_loader,nn.CrossEntropyLoss(),device)[1])"
   ]
  },
  {
   "cell_type": "markdown",
   "metadata": {},
   "source": [
    "Save this color invariant teacher model"
   ]
  },
  {
   "cell_type": "code",
   "execution_count": 8,
   "metadata": {},
   "outputs": [],
   "source": [
    "torch.save(t.state_dict(), 'teacher_model_vgg16_bn_color_inv.pth')"
   ]
  },
  {
   "cell_type": "markdown",
   "metadata": {},
   "source": [
    "Train a CRD with regular augmentations on the invariant model"
   ]
  },
  {
   "cell_type": "code",
   "execution_count": 10,
   "metadata": {},
   "outputs": [
    {
     "name": "stderr",
     "output_type": "stream",
     "text": [
      "C:\\Users\\PCF\\AppData\\Local\\Temp\\ipykernel_31672\\1999419255.py:2: FutureWarning: You are using `torch.load` with `weights_only=False` (the current default value), which uses the default pickle module implicitly. It is possible to construct malicious pickle data which will execute arbitrary code during unpickling (See https://github.com/pytorch/pytorch/blob/main/SECURITY.md#untrusted-models for more details). In a future release, the default value for `weights_only` will be flipped to `True`. This limits the functions that could be executed during unpickling. Arbitrary objects will no longer be allowed to be loaded via this mode unless they are explicitly allowlisted by the user via `torch.serialization.add_safe_globals`. We recommend you start setting `weights_only=True` for any use case where you don't have full control of the loaded file. Please open an issue on GitHub for any issues related to this experimental feature.\n",
      "  teacher.load_state_dict(torch.load('teacher_model_vgg16_bn_color_inv.pth'))\n"
     ]
    },
    {
     "name": "stdout",
     "output_type": "stream",
     "text": [
      "Epoch: 1 Train Loss: 12.92 Train Accuracy: 0.03\n",
      "Epoch: 2 Train Loss: 12.82 Train Accuracy: 0.05\n",
      "Epoch: 3 Train Loss: 12.75 Train Accuracy: 0.06\n",
      "Epoch: 4 Train Loss: 12.68 Train Accuracy: 0.07\n",
      "Epoch: 5 Train Loss: 12.59 Train Accuracy: 0.10\n",
      "Epoch: 6 Train Loss: 12.51 Train Accuracy: 0.12\n",
      "Epoch: 7 Train Loss: 12.44 Train Accuracy: 0.14\n",
      "Epoch: 8 Train Loss: 12.38 Train Accuracy: 0.16\n",
      "Epoch: 9 Train Loss: 12.33 Train Accuracy: 0.18\n",
      "Epoch: 10 Train Loss: 12.28 Train Accuracy: 0.20\n",
      "Epoch: 11 Train Loss: 12.23 Train Accuracy: 0.22\n",
      "Epoch: 12 Train Loss: 12.19 Train Accuracy: 0.24\n",
      "Epoch: 13 Train Loss: 12.15 Train Accuracy: 0.25\n",
      "Epoch: 14 Train Loss: 12.11 Train Accuracy: 0.27\n",
      "Epoch: 15 Train Loss: 12.08 Train Accuracy: 0.29\n",
      "Epoch: 16 Train Loss: 12.05 Train Accuracy: 0.30\n",
      "Epoch: 17 Train Loss: 12.02 Train Accuracy: 0.32\n",
      "Epoch: 18 Train Loss: 11.99 Train Accuracy: 0.33\n",
      "Epoch: 19 Train Loss: 11.96 Train Accuracy: 0.35\n",
      "Epoch: 20 Train Loss: 11.93 Train Accuracy: 0.36\n",
      "Epoch: 21 Train Loss: 11.91 Train Accuracy: 0.38\n",
      "Epoch: 22 Train Loss: 11.88 Train Accuracy: 0.39\n",
      "Epoch: 23 Train Loss: 11.85 Train Accuracy: 0.40\n",
      "Epoch: 24 Train Loss: 11.83 Train Accuracy: 0.41\n",
      "Epoch: 25 Train Loss: 11.81 Train Accuracy: 0.43\n",
      "Epoch: 26 Train Loss: 11.78 Train Accuracy: 0.45\n",
      "Epoch: 27 Train Loss: 11.76 Train Accuracy: 0.46\n",
      "Epoch: 28 Train Loss: 11.75 Train Accuracy: 0.47\n",
      "Epoch: 29 Train Loss: 11.72 Train Accuracy: 0.48\n",
      "Epoch: 30 Train Loss: 11.71 Train Accuracy: 0.49\n",
      "Epoch: 30 Train Loss: 11.71 Train Accuracy: 0.49 Test Loss: 2.33 Test Accuracy: 0.42\n",
      "Epoch: 30 Test Color Jitter Loss: 3.03 Test Color Jitter Accuracy: 0.32\n"
     ]
    }
   ],
   "source": [
    "teacher = vgg16_bn_f(False,100).to(device)\n",
    "teacher.load_state_dict(torch.load('teacher_model_vgg16_bn_color_inv.pth')) \n",
    "student = vgg11_bn_f(False,100).to(device)  \n",
    "crd_net = create_crd_model(teacher, student)\n",
    "crd_net.student.to(device)\n",
    "crd_net.teacher.to(device)\n",
    "crd_net.crd_block.to(device)\n",
    "EPOCHS = 30\n",
    "criterion = nn.CrossEntropyLoss()\n",
    "optimizer = torch.optim.Adam(get_learnable_parameters(crd_net), lr=0.002)\n",
    "tr_metric = {\"Accuracy\":[],\"Loss\":[]}\n",
    "ts_metric = {\"Accuracy\":[],\"Loss\":[]}\n",
    "\n",
    "\n",
    "for epoch in range(EPOCHS):\n",
    "    tr_loss, tr_acc = train_crd(crd_net,train_loader_idx,optimizer,device)\n",
    "    tr_metric[\"Accuracy\"].append(tr_acc)\n",
    "    tr_metric[\"Loss\"].append(tr_loss)\n",
    "\n",
    "    print(\"Epoch: {} Train Loss: {:.2f} Train Accuracy: {:.2f}\".format(epoch+1, tr_loss, tr_acc))\n",
    "ts_loss, ts_acc = eval_f(crd_net.student,test_loader,nn.CrossEntropyLoss(),device)\n",
    "ts_metric[\"Accuracy\"].append(ts_acc)\n",
    "ts_metric[\"Loss\"].append(ts_loss)\n",
    "ts_color_loss, ts_color_acc = eval_f(crd_net.student,color_jitter_test_loader,nn.CrossEntropyLoss(),device)\n",
    "print(\"Epoch: {} Train Loss: {:.2f} Train Accuracy: {:.2f} Test Loss: {:.2f} Test Accuracy: {:.2f}\".format(epoch+1, tr_loss, tr_acc, ts_loss, ts_acc))\n",
    "print(\"Epoch: {} Test Color Jitter Loss: {:.2f} Test Color Jitter Accuracy: {:.2f}\".format(epoch+1, ts_color_loss, ts_color_acc))"
   ]
  },
  {
   "cell_type": "code",
   "execution_count": 11,
   "metadata": {},
   "outputs": [
    {
     "name": "stdout",
     "output_type": "stream",
     "text": [
      "Final Train Accuracy: 0.4881\n",
      "Final Test Accuracy: 0.4181\n",
      "Final Train Loss: 11.707672150848467\n",
      "Final Test Loss: 2.3314421161724503\n",
      "Final Test Color Jitter Accuracy: 0.3216\n",
      "Final Test Color Jitter Loss: 3.0349377629103933\n"
     ]
    }
   ],
   "source": [
    "print(\"Final Train Accuracy:\",tr_metric[\"Accuracy\"][-1])\n",
    "print(\"Final Test Accuracy:\",ts_metric[\"Accuracy\"][-1])\n",
    "print(\"Final Train Loss:\",tr_metric[\"Loss\"][-1])\n",
    "print(\"Final Test Loss:\",ts_metric[\"Loss\"][-1])\n",
    "print(\"Final Test Color Jitter Accuracy:\",ts_color_acc)\n",
    "print(\"Final Test Color Jitter Loss:\",ts_color_loss)"
   ]
  },
  {
   "cell_type": "code",
   "execution_count": 12,
   "metadata": {},
   "outputs": [],
   "source": [
    "import pandas as pd\n",
    "pd.DataFrame(tr_metric).to_csv(\"vgg11_cifar100_crd_color_tr.csv\") \n",
    "pd.DataFrame(ts_metric).to_csv(\"vgg11_cifar100_crd_color_ts.csv\")"
   ]
  },
  {
   "cell_type": "code",
   "execution_count": 13,
   "metadata": {},
   "outputs": [],
   "source": [
    "torch.save(crd_net.student.state_dict(),\"vgg11_cifar100_crd_color_student.pth\")\n",
    "torch.save(crd_net.crd_block.state_dict(),\"vgg11_cifar100_crd_color_embedder.pth\")"
   ]
  },
  {
   "cell_type": "markdown",
   "metadata": {},
   "source": [
    "Compare this with the color jitter accuracy of regular augmentations trained CRD student"
   ]
  },
  {
   "cell_type": "code",
   "execution_count": 14,
   "metadata": {},
   "outputs": [
    {
     "name": "stderr",
     "output_type": "stream",
     "text": [
      "C:\\Users\\PCF\\AppData\\Local\\Temp\\ipykernel_31672\\1082311228.py:2: FutureWarning: You are using `torch.load` with `weights_only=False` (the current default value), which uses the default pickle module implicitly. It is possible to construct malicious pickle data which will execute arbitrary code during unpickling (See https://github.com/pytorch/pytorch/blob/main/SECURITY.md#untrusted-models for more details). In a future release, the default value for `weights_only` will be flipped to `True`. This limits the functions that could be executed during unpickling. Arbitrary objects will no longer be allowed to be loaded via this mode unless they are explicitly allowlisted by the user via `torch.serialization.add_safe_globals`. We recommend you start setting `weights_only=True` for any use case where you don't have full control of the loaded file. Please open an issue on GitHub for any issues related to this experimental feature.\n",
      "  student_crd.load_state_dict(torch.load('vgg11_cifar100_crd_student.pth'))\n"
     ]
    },
    {
     "name": "stdout",
     "output_type": "stream",
     "text": [
      "Student Test Accuracy:  0.47059998\n",
      "Student Test Accuracy with Jitter:  0.3362\n"
     ]
    }
   ],
   "source": [
    "student_crd = vgg11_bn_f(False,100).to(device)\n",
    "student_crd.load_state_dict(torch.load('vgg11_cifar100_crd_student.pth'))\n",
    "student_crd.eval()\n",
    "print(\"Student Test Accuracy: \", eval_f(student_crd, test_loader,nn.CrossEntropyLoss(),device)[1])\n",
    "print(\"Student Test Accuracy with Jitter: \", eval_f(student_crd, color_jitter_test_loader,nn.CrossEntropyLoss(),device)[1])"
   ]
  },
  {
   "cell_type": "markdown",
   "metadata": {},
   "source": [
    "Repeat the procedure with FitNets (Hint)"
   ]
  },
  {
   "cell_type": "code",
   "execution_count": 15,
   "metadata": {},
   "outputs": [
    {
     "name": "stderr",
     "output_type": "stream",
     "text": [
      "C:\\Users\\PCF\\AppData\\Local\\Temp\\ipykernel_31672\\1016480240.py:2: FutureWarning: You are using `torch.load` with `weights_only=False` (the current default value), which uses the default pickle module implicitly. It is possible to construct malicious pickle data which will execute arbitrary code during unpickling (See https://github.com/pytorch/pytorch/blob/main/SECURITY.md#untrusted-models for more details). In a future release, the default value for `weights_only` will be flipped to `True`. This limits the functions that could be executed during unpickling. Arbitrary objects will no longer be allowed to be loaded via this mode unless they are explicitly allowlisted by the user via `torch.serialization.add_safe_globals`. We recommend you start setting `weights_only=True` for any use case where you don't have full control of the loaded file. Please open an issue on GitHub for any issues related to this experimental feature.\n",
      "  VGG16_teacher.load_state_dict(torch.load('teacher_model_vgg16_bn_color_inv.pth'))\n"
     ]
    },
    {
     "name": "stdout",
     "output_type": "stream",
     "text": [
      "Epoch: 1 Train Loss: 1.09 Train Accuracy: 0.03\n",
      "Epoch: 2 Train Loss: 1.04 Train Accuracy: 0.04\n",
      "Epoch: 3 Train Loss: 1.01 Train Accuracy: 0.05\n",
      "Epoch: 4 Train Loss: 0.99 Train Accuracy: 0.06\n",
      "Epoch: 5 Train Loss: 0.96 Train Accuracy: 0.08\n",
      "Epoch: 6 Train Loss: 0.93 Train Accuracy: 0.09\n",
      "Epoch: 7 Train Loss: 0.91 Train Accuracy: 0.10\n",
      "Epoch: 8 Train Loss: 0.88 Train Accuracy: 0.12\n",
      "Epoch: 9 Train Loss: 0.86 Train Accuracy: 0.13\n",
      "Epoch: 10 Train Loss: 0.84 Train Accuracy: 0.14\n",
      "Epoch: 11 Train Loss: 0.82 Train Accuracy: 0.16\n",
      "Epoch: 12 Train Loss: 0.81 Train Accuracy: 0.17\n",
      "Epoch: 13 Train Loss: 0.79 Train Accuracy: 0.18\n",
      "Epoch: 14 Train Loss: 0.77 Train Accuracy: 0.20\n",
      "Epoch: 15 Train Loss: 0.75 Train Accuracy: 0.21\n",
      "Epoch: 16 Train Loss: 0.74 Train Accuracy: 0.22\n",
      "Epoch: 17 Train Loss: 0.72 Train Accuracy: 0.24\n",
      "Epoch: 18 Train Loss: 0.71 Train Accuracy: 0.25\n",
      "Epoch: 19 Train Loss: 0.69 Train Accuracy: 0.26\n",
      "Epoch: 20 Train Loss: 0.68 Train Accuracy: 0.27\n",
      "Epoch: 21 Train Loss: 0.67 Train Accuracy: 0.28\n",
      "Epoch: 22 Train Loss: 0.66 Train Accuracy: 0.30\n",
      "Epoch: 23 Train Loss: 0.64 Train Accuracy: 0.31\n",
      "Epoch: 24 Train Loss: 0.63 Train Accuracy: 0.32\n",
      "Epoch: 25 Train Loss: 0.61 Train Accuracy: 0.33\n",
      "Epoch: 26 Train Loss: 0.60 Train Accuracy: 0.35\n",
      "Epoch: 27 Train Loss: 0.59 Train Accuracy: 0.36\n",
      "Epoch: 28 Train Loss: 0.58 Train Accuracy: 0.37\n",
      "Epoch: 29 Train Loss: 0.57 Train Accuracy: 0.38\n",
      "Epoch: 30 Train Loss: 0.56 Train Accuracy: 0.39\n",
      "Epoch: 30 Train Loss: 0.56 Train Accuracy: 0.39 Test Loss: 2.26 Test Accuracy: 0.39\n"
     ]
    }
   ],
   "source": [
    "VGG16_teacher = vgg16_bn_f(False,100)\n",
    "VGG16_teacher.load_state_dict(torch.load('teacher_model_vgg16_bn_color_inv.pth'))\n",
    "\n",
    "VGG11_student = vgg11_bn_f(False,100)\n",
    "\n",
    "fitnet = create_model(VGG16_teacher, VGG11_student, 3,0.75)\n",
    "\n",
    "fitnet.student.to(device)\n",
    "fitnet.teacher.to(device)\n",
    "fitnet.regressor = fitnet.regressor.to(device)\n",
    "\n",
    "EPOCHS = 30\n",
    "loss_func = nn.CrossEntropyLoss()\n",
    "optimizer = torch.optim.Adam(fitnet.get_learnable_params(), lr=0.002)\n",
    "tr_metric = {\"Accuracy\":[],\"Loss\":[]}\n",
    "ts_metric = {\"Accuracy\":[],\"Loss\":[]}\n",
    "\n",
    "for epoch in range(EPOCHS):\n",
    "    tr_loss, tr_acc = train_hints(fitnet,train_loader,optimizer,device)\n",
    "    tr_metric[\"Accuracy\"].append(tr_acc)\n",
    "    tr_metric[\"Loss\"].append(tr_loss)\n",
    "\n",
    "    print(\"Epoch: {} Train Loss: {:.2f} Train Accuracy: {:.2f}\".format(epoch+1, tr_loss, tr_acc))\n",
    "ts_loss, ts_acc = eval_hints(fitnet,test_loader,device)\n",
    "ts_metric[\"Accuracy\"].append(ts_acc)\n",
    "ts_metric[\"Loss\"].append(ts_loss)\n",
    "print(\"Epoch: {} Train Loss: {:.2f} Train Accuracy: {:.2f} Test Loss: {:.2f} Test Accuracy: {:.2f}\".format(epoch+1, tr_loss, tr_acc, ts_loss, ts_acc))\n"
   ]
  },
  {
   "cell_type": "code",
   "execution_count": 16,
   "metadata": {},
   "outputs": [
    {
     "name": "stdout",
     "output_type": "stream",
     "text": [
      "Epoch: 30 Test Color Jitter Loss: 3.03 Test Color Jitter Accuracy: 0.26\n",
      "Final Train Accuracy: 0.39292\n",
      "Final Test Accuracy: 0.3917\n",
      "Final Train Loss: 0.5563796124494899\n",
      "Final Test Loss: 2.2606180450718876\n",
      "Final Test Color Jitter Accuracy: 0.2581\n",
      "Final Test Color Jitter Loss: 3.0270283692961284\n"
     ]
    }
   ],
   "source": [
    "ts_color_loss, ts_color_acc = eval_f(fitnet.student,color_jitter_test_loader,nn.CrossEntropyLoss(),device)\n",
    "print(\"Epoch: {} Test Color Jitter Loss: {:.2f} Test Color Jitter Accuracy: {:.2f}\".format(epoch+1, ts_color_loss, ts_color_acc))\n",
    "print(\"Final Train Accuracy:\",tr_metric[\"Accuracy\"][-1])\n",
    "print(\"Final Test Accuracy:\",ts_metric[\"Accuracy\"][-1])\n",
    "print(\"Final Train Loss:\",tr_metric[\"Loss\"][-1])\n",
    "print(\"Final Test Loss:\",ts_metric[\"Loss\"][-1])\n",
    "print(\"Final Test Color Jitter Accuracy:\",ts_color_acc)\n",
    "print(\"Final Test Color Jitter Loss:\",ts_color_loss)"
   ]
  },
  {
   "cell_type": "code",
   "execution_count": 17,
   "metadata": {},
   "outputs": [
    {
     "name": "stdout",
     "output_type": "stream",
     "text": [
      "Final Train Accuracy: 0.39292\n",
      "Final Test Accuracy: 0.3917\n",
      "Final Train Loss: 0.5563796124494899\n",
      "Final Test Loss: 2.2606180450718876\n"
     ]
    }
   ],
   "source": [
    "print(\"Final Train Accuracy:\",tr_metric[\"Accuracy\"][-1])\n",
    "print(\"Final Test Accuracy:\",ts_metric[\"Accuracy\"][-1])\n",
    "print(\"Final Train Loss:\",tr_metric[\"Loss\"][-1])\n",
    "print(\"Final Test Loss:\",ts_metric[\"Loss\"][-1])"
   ]
  },
  {
   "cell_type": "code",
   "execution_count": 18,
   "metadata": {},
   "outputs": [],
   "source": [
    "import pandas as pd\n",
    "pd.DataFrame(tr_metric).to_csv(\"vgg11_cifar100_hint_color_tr.csv\") \n",
    "pd.DataFrame(ts_metric).to_csv(\"vgg11_cifar100_hint_color_ts.csv\")\n",
    "torch.save(fitnet.student.state_dict(),\"vgg11_cifar100_hint_student_color.pth\")\n",
    "torch.save(fitnet.regressor.state_dict(),\"vgg11_cifar100_hint_regressor_color.pth\")"
   ]
  },
  {
   "cell_type": "markdown",
   "metadata": {},
   "source": [
    "Compare this with the color jitter accuracy of regular augmentations trained CRD student"
   ]
  },
  {
   "cell_type": "code",
   "execution_count": 19,
   "metadata": {},
   "outputs": [
    {
     "name": "stderr",
     "output_type": "stream",
     "text": [
      "C:\\Users\\PCF\\AppData\\Local\\Temp\\ipykernel_31672\\1129106845.py:2: FutureWarning: You are using `torch.load` with `weights_only=False` (the current default value), which uses the default pickle module implicitly. It is possible to construct malicious pickle data which will execute arbitrary code during unpickling (See https://github.com/pytorch/pytorch/blob/main/SECURITY.md#untrusted-models for more details). In a future release, the default value for `weights_only` will be flipped to `True`. This limits the functions that could be executed during unpickling. Arbitrary objects will no longer be allowed to be loaded via this mode unless they are explicitly allowlisted by the user via `torch.serialization.add_safe_globals`. We recommend you start setting `weights_only=True` for any use case where you don't have full control of the loaded file. Please open an issue on GitHub for any issues related to this experimental feature.\n",
      "  student_hint.load_state_dict(torch.load('vgg11_cifar100_hint_student.pth'))\n"
     ]
    },
    {
     "name": "stdout",
     "output_type": "stream",
     "text": [
      "Student Test Accuracy:  0.4353\n",
      "Student Test Accuracy with Jitter:  0.3011\n"
     ]
    }
   ],
   "source": [
    "student_hint = vgg11_bn_f(False,100).to(device)\n",
    "student_hint.load_state_dict(torch.load('vgg11_cifar100_hint_student.pth'))\n",
    "student_hint.eval()\n",
    "print(\"Student Test Accuracy: \", eval_f(student_hint, test_loader,nn.CrossEntropyLoss(),device)[1])\n",
    "print(\"Student Test Accuracy with Jitter: \", eval_f(student_hint, color_jitter_test_loader,nn.CrossEntropyLoss(),device)[1])"
   ]
  },
  {
   "cell_type": "markdown",
   "metadata": {},
   "source": [
    "Repeat the procedure with Basic Logit Smoothing (Hinton)"
   ]
  },
  {
   "cell_type": "code",
   "execution_count": 20,
   "metadata": {},
   "outputs": [
    {
     "name": "stderr",
     "output_type": "stream",
     "text": [
      "C:\\Users\\PCF\\AppData\\Local\\Temp\\ipykernel_31672\\948026561.py:4: FutureWarning: You are using `torch.load` with `weights_only=False` (the current default value), which uses the default pickle module implicitly. It is possible to construct malicious pickle data which will execute arbitrary code during unpickling (See https://github.com/pytorch/pytorch/blob/main/SECURITY.md#untrusted-models for more details). In a future release, the default value for `weights_only` will be flipped to `True`. This limits the functions that could be executed during unpickling. Arbitrary objects will no longer be allowed to be loaded via this mode unless they are explicitly allowlisted by the user via `torch.serialization.add_safe_globals`. We recommend you start setting `weights_only=True` for any use case where you don't have full control of the loaded file. Please open an issue on GitHub for any issues related to this experimental feature.\n",
      "  teacher_model_vgg16_bn.load_state_dict(torch.load(\"teacher_model_vgg16_bn_color_inv.pth\"))\n"
     ]
    },
    {
     "name": "stdout",
     "output_type": "stream",
     "text": [
      "Epoch: 1 Train Loss: 8.20 Train Accuracy: 0.03\n",
      "Epoch: 2 Train Loss: 7.70 Train Accuracy: 0.05\n",
      "Epoch: 3 Train Loss: 7.32 Train Accuracy: 0.07\n",
      "Epoch: 4 Train Loss: 6.93 Train Accuracy: 0.09\n",
      "Epoch: 5 Train Loss: 6.59 Train Accuracy: 0.11\n",
      "Epoch: 6 Train Loss: 6.28 Train Accuracy: 0.13\n",
      "Epoch: 7 Train Loss: 5.98 Train Accuracy: 0.16\n",
      "Epoch: 8 Train Loss: 5.72 Train Accuracy: 0.18\n",
      "Epoch: 9 Train Loss: 5.48 Train Accuracy: 0.20\n",
      "Epoch: 10 Train Loss: 5.27 Train Accuracy: 0.22\n",
      "Epoch: 11 Train Loss: 5.08 Train Accuracy: 0.24\n",
      "Epoch: 12 Train Loss: 4.91 Train Accuracy: 0.25\n",
      "Epoch: 13 Train Loss: 4.76 Train Accuracy: 0.27\n",
      "Epoch: 14 Train Loss: 4.59 Train Accuracy: 0.29\n",
      "Epoch: 15 Train Loss: 4.41 Train Accuracy: 0.31\n",
      "Epoch: 16 Train Loss: 4.28 Train Accuracy: 0.32\n",
      "Epoch: 17 Train Loss: 4.16 Train Accuracy: 0.34\n",
      "Epoch: 18 Train Loss: 4.03 Train Accuracy: 0.36\n",
      "Epoch: 19 Train Loss: 3.90 Train Accuracy: 0.37\n",
      "Epoch: 20 Train Loss: 3.81 Train Accuracy: 0.38\n",
      "Epoch: 21 Train Loss: 3.70 Train Accuracy: 0.40\n",
      "Epoch: 22 Train Loss: 3.60 Train Accuracy: 0.41\n",
      "Epoch: 23 Train Loss: 3.50 Train Accuracy: 0.43\n",
      "Epoch: 24 Train Loss: 3.40 Train Accuracy: 0.45\n",
      "Epoch: 25 Train Loss: 3.33 Train Accuracy: 0.46\n",
      "Epoch: 26 Train Loss: 3.25 Train Accuracy: 0.47\n",
      "Epoch: 27 Train Loss: 3.17 Train Accuracy: 0.48\n",
      "Epoch: 28 Train Loss: 3.07 Train Accuracy: 0.49\n",
      "Epoch: 29 Train Loss: 3.02 Train Accuracy: 0.50\n",
      "Epoch: 30 Train Loss: 2.97 Train Accuracy: 0.51\n",
      "Epoch: 30 Train Loss: 2.97 Train Accuracy: 0.51 Test Loss: 2.25 Test Accuracy: 0.46\n",
      "Epoch: 30 Test Color Jitter Loss: 3.05 Test Color Jitter Accuracy: 0.26\n"
     ]
    }
   ],
   "source": [
    "student_model = vgg11_bn_f(False,100)\n",
    "teacher_model_vgg16_bn = vgg16_bn_f(False,100)\n",
    "device = 'cuda' if torch.cuda.is_available() else 'cpu'\n",
    "teacher_model_vgg16_bn.load_state_dict(torch.load(\"teacher_model_vgg16_bn_color_inv.pth\")) \n",
    "for param in student_model.parameters():\n",
    "    param.requires_grad = True          \n",
    "for param in teacher_model_vgg16_bn.parameters():\n",
    "    param.requires_grad = False\n",
    "teacher_model = teacher_model_vgg16_bn.to(device)\n",
    "student_model = student_model.to(device)\n",
    "optimizer = torch.optim.Adam(student_model.parameters(),lr=0.002)\n",
    "loss_func = torch.nn.CrossEntropyLoss()\n",
    "tr_metric = {\"Accuracy\":[],\"Loss\":[]}\n",
    "ts_metric = {\"Accuracy\":[],\"Loss\":[]}\n",
    "\n",
    "for epoch in (range(EPOCHS)):\n",
    "    tr_loss, tr_acc = train(student_model,teacher_model,train_loader,optimizer,device)\n",
    "    tr_metric[\"Accuracy\"].append(tr_acc)\n",
    "    tr_metric[\"Loss\"].append(tr_loss)\n",
    "\n",
    "    print(\"Epoch: {} Train Loss: {:.2f} Train Accuracy: {:.2f}\".format(epoch+1, tr_loss, tr_acc))\n",
    "ts_loss, ts_acc = eval_f(student_model,test_loader,loss_func,device)\n",
    "ts_metric[\"Accuracy\"].append(ts_acc)\n",
    "ts_metric[\"Loss\"].append(ts_loss)\n",
    "print(\"Epoch: {} Train Loss: {:.2f} Train Accuracy: {:.2f} Test Loss: {:.2f} Test Accuracy: {:.2f}\".format(epoch+1, tr_loss, tr_acc, ts_loss, ts_acc))\n",
    "ts_color_loss, ts_color_acc = eval_f(fitnet.student,color_jitter_test_loader,nn.CrossEntropyLoss(),device)\n",
    "print(\"Epoch: {} Test Color Jitter Loss: {:.2f} Test Color Jitter Accuracy: {:.2f}\".format(epoch+1, ts_color_loss, ts_color_acc))"
   ]
  },
  {
   "cell_type": "code",
   "execution_count": 21,
   "metadata": {},
   "outputs": [
    {
     "name": "stdout",
     "output_type": "stream",
     "text": [
      "Final Train Accuracy: 0.51063997\n",
      "Final Test Accuracy: 0.4574\n",
      "Final Train Loss: 2.9687367715798985\n",
      "Final Test Loss: 2.2481329828310925\n",
      "Final Test Color Jitter Accuracy: 0.2602\n",
      "Final Test Color Jitter Loss: 3.054111845174413\n"
     ]
    }
   ],
   "source": [
    "print(\"Final Train Accuracy:\",tr_metric[\"Accuracy\"][-1])\n",
    "print(\"Final Test Accuracy:\",ts_metric[\"Accuracy\"][-1])\n",
    "print(\"Final Train Loss:\",tr_metric[\"Loss\"][-1])\n",
    "print(\"Final Test Loss:\",ts_metric[\"Loss\"][-1])\n",
    "print(\"Final Test Color Jitter Accuracy:\",ts_color_acc)\n",
    "print(\"Final Test Color Jitter Loss:\",ts_color_loss)"
   ]
  },
  {
   "cell_type": "code",
   "execution_count": 22,
   "metadata": {},
   "outputs": [],
   "source": [
    "import pandas as pd\n",
    "pd.DataFrame(tr_metric).to_csv(\"vgg11_cifar100_blm_color_tr.csv\") \n",
    "pd.DataFrame(ts_metric).to_csv(\"vgg11_cifar100_blm_color_ts.csv\")\n",
    "torch.save(student_model.state_dict(),\"vgg11_cifar100_blm_color.pth\")"
   ]
  },
  {
   "cell_type": "markdown",
   "metadata": {},
   "source": [
    "Compare this with the color jitter accuracy of regular augmentations trained CRD student"
   ]
  },
  {
   "cell_type": "code",
   "execution_count": 23,
   "metadata": {},
   "outputs": [
    {
     "name": "stderr",
     "output_type": "stream",
     "text": [
      "C:\\Users\\PCF\\AppData\\Local\\Temp\\ipykernel_31672\\2422101631.py:2: FutureWarning: You are using `torch.load` with `weights_only=False` (the current default value), which uses the default pickle module implicitly. It is possible to construct malicious pickle data which will execute arbitrary code during unpickling (See https://github.com/pytorch/pytorch/blob/main/SECURITY.md#untrusted-models for more details). In a future release, the default value for `weights_only` will be flipped to `True`. This limits the functions that could be executed during unpickling. Arbitrary objects will no longer be allowed to be loaded via this mode unless they are explicitly allowlisted by the user via `torch.serialization.add_safe_globals`. We recommend you start setting `weights_only=True` for any use case where you don't have full control of the loaded file. Please open an issue on GitHub for any issues related to this experimental feature.\n",
      "  student_hint.load_state_dict(torch.load('vgg11_cifar100_blm.pth'))\n"
     ]
    },
    {
     "name": "stdout",
     "output_type": "stream",
     "text": [
      "Student Test Accuracy:  0.5202\n",
      "Student Test Accuracy with Jitter:  0.3895\n"
     ]
    }
   ],
   "source": [
    "student_hint = vgg11_bn_f(False,100).to(device)\n",
    "student_hint.load_state_dict(torch.load('vgg11_cifar100_blm.pth'))\n",
    "student_hint.eval()\n",
    "print(\"Student Test Accuracy: \", eval_f(student_hint, test_loader,nn.CrossEntropyLoss(),device)[1])\n",
    "print(\"Student Test Accuracy with Jitter: \", eval_f(student_hint, color_jitter_test_loader,nn.CrossEntropyLoss(),device)[1])"
   ]
  }
 ],
 "metadata": {
  "kernelspec": {
   "display_name": "SProj",
   "language": "python",
   "name": "python3"
  },
  "language_info": {
   "codemirror_mode": {
    "name": "ipython",
    "version": 3
   },
   "file_extension": ".py",
   "mimetype": "text/x-python",
   "name": "python",
   "nbconvert_exporter": "python",
   "pygments_lexer": "ipython3",
   "version": "3.11.5"
  }
 },
 "nbformat": 4,
 "nbformat_minor": 2
}
