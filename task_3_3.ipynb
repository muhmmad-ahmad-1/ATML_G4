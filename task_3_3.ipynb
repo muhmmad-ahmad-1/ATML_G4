{
 "cells": [
  {
   "cell_type": "code",
   "execution_count": 1,
   "metadata": {},
   "outputs": [
    {
     "name": "stdout",
     "output_type": "stream",
     "text": [
      "Files already downloaded and verified\n",
      "Files already downloaded and verified\n",
      "Files already downloaded and verified\n",
      "Files already downloaded and verified\n"
     ]
    }
   ],
   "source": [
    "from models import *\n",
    "from utils import *\n",
    "import torch\n",
    "import torch.nn as nn"
   ]
  },
  {
   "cell_type": "markdown",
   "metadata": {},
   "source": [
    "Load the independent student (VGG11), the teacher (VGG16), and the distilled models (LM,Hints,CRD)"
   ]
  },
  {
   "cell_type": "code",
   "execution_count": 2,
   "metadata": {},
   "outputs": [
    {
     "name": "stderr",
     "output_type": "stream",
     "text": [
      "C:\\Users\\PCF\\AppData\\Local\\Temp\\ipykernel_33632\\2524539570.py:3: FutureWarning: You are using `torch.load` with `weights_only=False` (the current default value), which uses the default pickle module implicitly. It is possible to construct malicious pickle data which will execute arbitrary code during unpickling (See https://github.com/pytorch/pytorch/blob/main/SECURITY.md#untrusted-models for more details). In a future release, the default value for `weights_only` will be flipped to `True`. This limits the functions that could be executed during unpickling. Arbitrary objects will no longer be allowed to be loaded via this mode unless they are explicitly allowlisted by the user via `torch.serialization.add_safe_globals`. We recommend you start setting `weights_only=True` for any use case where you don't have full control of the loaded file. Please open an issue on GitHub for any issues related to this experimental feature.\n",
      "  s_i.load_state_dict(torch.load('vgg11_cifar100_student.pth'))\n",
      "C:\\Users\\PCF\\AppData\\Local\\Temp\\ipykernel_33632\\2524539570.py:5: FutureWarning: You are using `torch.load` with `weights_only=False` (the current default value), which uses the default pickle module implicitly. It is possible to construct malicious pickle data which will execute arbitrary code during unpickling (See https://github.com/pytorch/pytorch/blob/main/SECURITY.md#untrusted-models for more details). In a future release, the default value for `weights_only` will be flipped to `True`. This limits the functions that could be executed during unpickling. Arbitrary objects will no longer be allowed to be loaded via this mode unless they are explicitly allowlisted by the user via `torch.serialization.add_safe_globals`. We recommend you start setting `weights_only=True` for any use case where you don't have full control of the loaded file. Please open an issue on GitHub for any issues related to this experimental feature.\n",
      "  t.load_state_dict(torch.load('teacher_model_vgg16_bn.pth'))\n",
      "C:\\Users\\PCF\\AppData\\Local\\Temp\\ipykernel_33632\\2524539570.py:7: FutureWarning: You are using `torch.load` with `weights_only=False` (the current default value), which uses the default pickle module implicitly. It is possible to construct malicious pickle data which will execute arbitrary code during unpickling (See https://github.com/pytorch/pytorch/blob/main/SECURITY.md#untrusted-models for more details). In a future release, the default value for `weights_only` will be flipped to `True`. This limits the functions that could be executed during unpickling. Arbitrary objects will no longer be allowed to be loaded via this mode unless they are explicitly allowlisted by the user via `torch.serialization.add_safe_globals`. We recommend you start setting `weights_only=True` for any use case where you don't have full control of the loaded file. Please open an issue on GitHub for any issues related to this experimental feature.\n",
      "  s_lm.load_state_dict(torch.load('vgg11_cifar100_blm.pth'))\n",
      "C:\\Users\\PCF\\AppData\\Local\\Temp\\ipykernel_33632\\2524539570.py:9: FutureWarning: You are using `torch.load` with `weights_only=False` (the current default value), which uses the default pickle module implicitly. It is possible to construct malicious pickle data which will execute arbitrary code during unpickling (See https://github.com/pytorch/pytorch/blob/main/SECURITY.md#untrusted-models for more details). In a future release, the default value for `weights_only` will be flipped to `True`. This limits the functions that could be executed during unpickling. Arbitrary objects will no longer be allowed to be loaded via this mode unless they are explicitly allowlisted by the user via `torch.serialization.add_safe_globals`. We recommend you start setting `weights_only=True` for any use case where you don't have full control of the loaded file. Please open an issue on GitHub for any issues related to this experimental feature.\n",
      "  s_hint.load_state_dict(torch.load('vgg11_cifar100_hint_student.pth'))\n",
      "C:\\Users\\PCF\\AppData\\Local\\Temp\\ipykernel_33632\\2524539570.py:11: FutureWarning: You are using `torch.load` with `weights_only=False` (the current default value), which uses the default pickle module implicitly. It is possible to construct malicious pickle data which will execute arbitrary code during unpickling (See https://github.com/pytorch/pytorch/blob/main/SECURITY.md#untrusted-models for more details). In a future release, the default value for `weights_only` will be flipped to `True`. This limits the functions that could be executed during unpickling. Arbitrary objects will no longer be allowed to be loaded via this mode unless they are explicitly allowlisted by the user via `torch.serialization.add_safe_globals`. We recommend you start setting `weights_only=True` for any use case where you don't have full control of the loaded file. Please open an issue on GitHub for any issues related to this experimental feature.\n",
      "  s_crd.load_state_dict(torch.load('vgg11_cifar100_crd_student.pth'))\n"
     ]
    },
    {
     "data": {
      "text/plain": [
       "<All keys matched successfully>"
      ]
     },
     "execution_count": 2,
     "metadata": {},
     "output_type": "execute_result"
    }
   ],
   "source": [
    "device = 'cuda' if torch.cuda.is_available() else 'cpu'\n",
    "s_i = vgg11_bn_f(False,100).to(device)\n",
    "s_i.load_state_dict(torch.load('vgg11_cifar100_student.pth'))\n",
    "t = vgg16_bn_f(False,100).to(device)\n",
    "t.load_state_dict(torch.load('teacher_model_vgg16_bn.pth'))\n",
    "s_lm = vgg11_bn_f(False,100).to(device)\n",
    "s_lm.load_state_dict(torch.load('vgg11_cifar100_blm.pth'))\n",
    "s_hint = vgg11_bn_f(False,100).to(device)\n",
    "s_hint.load_state_dict(torch.load('vgg11_cifar100_hint_student.pth'))\n",
    "s_crd = vgg11_bn_f(False,100).to(device)\n",
    "s_crd.load_state_dict(torch.load('vgg11_cifar100_crd_student.pth'))"
   ]
  },
  {
   "cell_type": "code",
   "execution_count": 3,
   "metadata": {},
   "outputs": [
    {
     "name": "stdout",
     "output_type": "stream",
     "text": [
      "Teacher Test Accuracy:  0.617\n",
      "Independent Student Test Accuracy:  0.3225\n",
      "Basic Logit Matching Test Accuracy:  0.47529998\n",
      "Hint Test Accuracy:  0.3881\n",
      "CRD Test Accuracy:  0.419\n"
     ]
    }
   ],
   "source": [
    "print(\"Teacher Test Accuracy: \", eval_f(t, test_loader,nn.CrossEntropyLoss(),device)[1])\n",
    "print(\"Independent Student Test Accuracy: \", eval_f(s_i, test_loader,nn.CrossEntropyLoss(),device)[1])\n",
    "print(\"Basic Logit Matching Test Accuracy: \", eval_f(s_lm, test_loader,nn.CrossEntropyLoss(),device)[1])\n",
    "print(\"Hint Test Accuracy: \", eval_f(s_hint, test_loader,nn.CrossEntropyLoss(),device)[1])\n",
    "print(\"CRD Test Accuracy: \", eval_f(s_crd, test_loader,nn.CrossEntropyLoss(),device)[1])"
   ]
  },
  {
   "cell_type": "code",
   "execution_count": 4,
   "metadata": {},
   "outputs": [],
   "source": [
    "for param in t.parameters():\n",
    "    param.requires_grad = False\n",
    "for param in s_i.parameters():\n",
    "    param.requires_grad = False\n",
    "for param in s_lm.parameters():\n",
    "    param.requires_grad = False\n",
    "for param in s_hint.parameters():\n",
    "    param.requires_grad = False\n",
    "for param in s_crd.parameters():\n",
    "    param.requires_grad = False\n",
    "eval_sim_s_i = evaluate_similarities(t,s_i,test_loader)\n",
    "eval_sim_s_lm = evaluate_similarities(t,s_lm,test_loader)\n",
    "eval_sim_s_hint = evaluate_similarities(t,s_hint,test_loader)\n",
    "eval_sim_s_crd = evaluate_similarities(t,s_crd,test_loader)"
   ]
  },
  {
   "cell_type": "code",
   "execution_count": 5,
   "metadata": {},
   "outputs": [
    {
     "name": "stdout",
     "output_type": "stream",
     "text": [
      "For the following metrics, the lower the value the better the similarity between the student and teacher model.\n",
      "KL Divergence:\n",
      "Independent Student:  0.0032531294369607406\n",
      "Basic Logit Matching:  0.002604666963118799\n",
      "Hint:  0.002953586064777367\n",
      "CRD:  0.0028270091105157594\n",
      "Two Sample KS Test:\n",
      "Independent Student:  0.4900487659235669\n",
      "Basic Logit Matching:  0.45020800159235647\n",
      "Hint:  0.4530185111464968\n",
      "CRD:  0.4549482484076433\n",
      "Wasserstein Distance:\n",
      "Independent Student:  0.009407327998410825\n",
      "Basic Logit Matching:  0.0056603262461149715\n",
      "Hint:  0.007995600135410265\n",
      "CRD:  0.007594640925997358\n",
      "For the following metrics, the higher the value the better the similarity between the student and teacher model.\n",
      "Spearmans Rank Correlation:\n",
      "Independent Student:  0.5160102829550471\n",
      "Basic Logit Matching:  0.6614622055358402\n",
      "Hint:  0.5321544232448726\n",
      "CRD:  0.5437021301652458\n"
     ]
    }
   ],
   "source": [
    "print(\"For the following metrics, the lower the value the better the similarity between the student and teacher model.\")\n",
    "print(\"KL Divergence:\")\n",
    "print(\"Independent Student: \",eval_sim_s_i[0])\n",
    "print(\"Basic Logit Matching: \",eval_sim_s_lm[0])\n",
    "print(\"Hint: \",eval_sim_s_hint[0])\n",
    "print(\"CRD: \",eval_sim_s_crd[0])\n",
    "print(\"Two Sample KS Test:\")\n",
    "print(\"Independent Student: \",eval_sim_s_i[1])\n",
    "print(\"Basic Logit Matching: \",eval_sim_s_lm[1])\n",
    "print(\"Hint: \",eval_sim_s_hint[1])\n",
    "print(\"CRD: \",eval_sim_s_crd[1])\n",
    "print(\"Wasserstein Distance:\")\n",
    "print(\"Independent Student: \",eval_sim_s_i[2])\n",
    "print(\"Basic Logit Matching: \",eval_sim_s_lm[2])\n",
    "print(\"Hint: \",eval_sim_s_hint[2])\n",
    "print(\"CRD: \",eval_sim_s_crd[2])\n",
    "print(\"For the following metrics, the higher the value the better the similarity between the student and teacher model.\")\n",
    "print(\"Spearmans Rank Correlation:\")\n",
    "print(\"Independent Student: \",eval_sim_s_i[3])\n",
    "print(\"Basic Logit Matching: \",eval_sim_s_lm[3])\n",
    "print(\"Hint: \",eval_sim_s_hint[3])\n",
    "print(\"CRD: \",eval_sim_s_crd[3])"
   ]
  }
 ],
 "metadata": {
  "kernelspec": {
   "display_name": "SProj",
   "language": "python",
   "name": "python3"
  },
  "language_info": {
   "codemirror_mode": {
    "name": "ipython",
    "version": 3
   },
   "file_extension": ".py",
   "mimetype": "text/x-python",
   "name": "python",
   "nbconvert_exporter": "python",
   "pygments_lexer": "ipython3",
   "version": "3.11.5"
  }
 },
 "nbformat": 4,
 "nbformat_minor": 2
}
