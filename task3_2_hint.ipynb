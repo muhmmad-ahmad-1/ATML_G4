{
 "cells": [
  {
   "cell_type": "code",
   "execution_count": 1,
   "metadata": {},
   "outputs": [
    {
     "name": "stdout",
     "output_type": "stream",
     "text": [
      "Files already downloaded and verified\n",
      "Files already downloaded and verified\n"
     ]
    }
   ],
   "source": [
    "from models import *\n",
    "from utils import  *\n",
    "import torch\n",
    "import warnings\n",
    "warnings.filterwarnings(\"ignore\")\n",
    "import pandas as pd\n",
    "from tqdm import tqdm"
   ]
  },
  {
   "cell_type": "markdown",
   "metadata": {},
   "source": [
    "### Step 1: Obtain the student and teacher models which allow feature map extraction"
   ]
  },
  {
   "cell_type": "code",
   "execution_count": 25,
   "metadata": {},
   "outputs": [
    {
     "data": {
      "text/plain": [
       "<All keys matched successfully>"
      ]
     },
     "execution_count": 25,
     "metadata": {},
     "output_type": "execute_result"
    }
   ],
   "source": [
    "VGG16_teacher = vgg16_bn_f(False,100)\n",
    "VGG16_teacher.load_state_dict(torch.load('teacher_model_vgg16_bn.pth'))"
   ]
  },
  {
   "cell_type": "code",
   "execution_count": 26,
   "metadata": {},
   "outputs": [],
   "source": [
    "VGG11_student = vgg11_bn_f(False,100)"
   ]
  },
  {
   "cell_type": "markdown",
   "metadata": {},
   "source": [
    "Distill using FitNets"
   ]
  },
  {
   "cell_type": "code",
   "execution_count": 9,
   "metadata": {},
   "outputs": [],
   "source": [
    "fitnet = create_model(VGG16_teacher, VGG11_student, 1,0.75)"
   ]
  },
  {
   "cell_type": "code",
   "execution_count": 11,
   "metadata": {},
   "outputs": [
    {
     "name": "stdout",
     "output_type": "stream",
     "text": [
      "Epoch: 1 Train Loss: 1.08 Train Accuracy: 0.03\n",
      "Epoch: 2 Train Loss: 1.04 Train Accuracy: 0.04\n",
      "Epoch: 3 Train Loss: 1.01 Train Accuracy: 0.06\n",
      "Epoch: 4 Train Loss: 0.97 Train Accuracy: 0.07\n",
      "Epoch: 5 Train Loss: 0.94 Train Accuracy: 0.09\n",
      "Epoch: 6 Train Loss: 0.91 Train Accuracy: 0.10\n",
      "Epoch: 7 Train Loss: 0.89 Train Accuracy: 0.11\n",
      "Epoch: 8 Train Loss: 0.87 Train Accuracy: 0.13\n",
      "Epoch: 9 Train Loss: 0.85 Train Accuracy: 0.14\n",
      "Epoch: 10 Train Loss: 0.83 Train Accuracy: 0.15\n",
      "Epoch: 11 Train Loss: 0.81 Train Accuracy: 0.16\n",
      "Epoch: 12 Train Loss: 0.80 Train Accuracy: 0.17\n",
      "Epoch: 13 Train Loss: 0.78 Train Accuracy: 0.18\n",
      "Epoch: 14 Train Loss: 0.77 Train Accuracy: 0.20\n",
      "Epoch: 15 Train Loss: 0.75 Train Accuracy: 0.21\n",
      "Epoch: 16 Train Loss: 0.74 Train Accuracy: 0.22\n",
      "Epoch: 17 Train Loss: 0.72 Train Accuracy: 0.24\n",
      "Epoch: 18 Train Loss: 0.71 Train Accuracy: 0.25\n",
      "Epoch: 19 Train Loss: 0.69 Train Accuracy: 0.26\n",
      "Epoch: 20 Train Loss: 0.68 Train Accuracy: 0.27\n",
      "Epoch: 21 Train Loss: 0.67 Train Accuracy: 0.29\n",
      "Epoch: 22 Train Loss: 0.65 Train Accuracy: 0.30\n",
      "Epoch: 23 Train Loss: 0.64 Train Accuracy: 0.31\n",
      "Epoch: 24 Train Loss: 0.63 Train Accuracy: 0.32\n",
      "Epoch: 25 Train Loss: 0.62 Train Accuracy: 0.33\n",
      "Epoch: 26 Train Loss: 0.61 Train Accuracy: 0.34\n",
      "Epoch: 27 Train Loss: 0.60 Train Accuracy: 0.35\n",
      "Epoch: 28 Train Loss: 0.59 Train Accuracy: 0.36\n",
      "Epoch: 29 Train Loss: 0.57 Train Accuracy: 0.37\n",
      "Epoch: 30 Train Loss: 0.56 Train Accuracy: 0.38\n",
      "Epoch: 30 Train Loss: 0.56 Train Accuracy: 0.38 Test Loss: 2.36 Test Accuracy: 0.38\n"
     ]
    }
   ],
   "source": [
    "device = 'cuda' if torch.cuda.is_available() else 'cpu'\n",
    "fitnet.teacher = fitnet.teacher.to(device)\n",
    "fitnet.student = fitnet.student.to(device)\n",
    "fitnet.regressor = fitnet.regressor.to(device)\n",
    "EPOCHS = 30\n",
    "loss_func = nn.CrossEntropyLoss()\n",
    "optimizer = torch.optim.Adam(fitnet.get_learnable_params(), lr=0.002)\n",
    "tr_metric = {\"Accuracy\":[],\"Loss\":[]}\n",
    "ts_metric = {\"Accuracy\":[],\"Loss\":[]}\n",
    "\n",
    "for epoch in range(EPOCHS):\n",
    "    tr_loss, tr_acc = train_hints(fitnet,train_loader,optimizer,device)\n",
    "    tr_metric[\"Accuracy\"].append(tr_acc)\n",
    "    tr_metric[\"Loss\"].append(tr_loss)\n",
    "\n",
    "    print(\"Epoch: {} Train Loss: {:.2f} Train Accuracy: {:.2f}\".format(epoch+1, tr_loss, tr_acc))\n",
    "ts_loss, ts_acc = eval_hints(fitnet,test_loader,device)\n",
    "ts_metric[\"Accuracy\"].append(ts_acc)\n",
    "ts_metric[\"Loss\"].append(ts_loss)\n",
    "print(\"Epoch: {} Train Loss: {:.2f} Train Accuracy: {:.2f} Test Loss: {:.2f} Test Accuracy: {:.2f}\".format(epoch+1, tr_loss, tr_acc, ts_loss, ts_acc))\n"
   ]
  },
  {
   "cell_type": "code",
   "execution_count": 12,
   "metadata": {},
   "outputs": [
    {
     "name": "stdout",
     "output_type": "stream",
     "text": [
      "Final Train Accuracy: 0.38217998\n",
      "Final Test Accuracy: 0.3769\n",
      "Final Train Loss: 0.5639470582804107\n",
      "Final Test Loss: 2.356790871377204\n"
     ]
    }
   ],
   "source": [
    "print(\"Final Train Accuracy:\",tr_metric[\"Accuracy\"][-1])\n",
    "print(\"Final Test Accuracy:\",ts_metric[\"Accuracy\"][-1])\n",
    "print(\"Final Train Loss:\",tr_metric[\"Loss\"][-1])\n",
    "print(\"Final Test Loss:\",ts_metric[\"Loss\"][-1])"
   ]
  },
  {
   "cell_type": "code",
   "execution_count": 13,
   "metadata": {},
   "outputs": [],
   "source": [
    "import pandas as pd\n",
    "pd.DataFrame(tr_metric).to_csv(\"vgg11_cifar100_hint_tr.csv\") \n",
    "pd.DataFrame(ts_metric).to_csv(\"vgg11_cifar100_hint_ts.csv\")"
   ]
  },
  {
   "cell_type": "code",
   "execution_count": 15,
   "metadata": {},
   "outputs": [],
   "source": [
    "torch.save(fitnet.student.state_dict(),\"vgg11_cifar100_hint_student.pth\")\n",
    "torch.save(fitnet.regressor.state_dict(),\"vgg11_cifar100_hint_regressor.pth\")"
   ]
  },
  {
   "cell_type": "code",
   "execution_count": 19,
   "metadata": {},
   "outputs": [],
   "source": [
    "fitnet = create_model(VGG16_teacher, VGG11_student, 0,0.75)"
   ]
  },
  {
   "cell_type": "code",
   "execution_count": 20,
   "metadata": {},
   "outputs": [
    {
     "name": "stdout",
     "output_type": "stream",
     "text": [
      "Epoch: 1 Train Loss: 1.11 Train Accuracy: 0.02\n",
      "Epoch: 2 Train Loss: 1.06 Train Accuracy: 0.04\n",
      "Epoch: 3 Train Loss: 1.03 Train Accuracy: 0.05\n",
      "Epoch: 4 Train Loss: 1.00 Train Accuracy: 0.06\n",
      "Epoch: 5 Train Loss: 0.97 Train Accuracy: 0.07\n",
      "Epoch: 6 Train Loss: 0.95 Train Accuracy: 0.09\n",
      "Epoch: 7 Train Loss: 0.93 Train Accuracy: 0.09\n",
      "Epoch: 8 Train Loss: 0.91 Train Accuracy: 0.11\n",
      "Epoch: 9 Train Loss: 0.89 Train Accuracy: 0.12\n",
      "Epoch: 10 Train Loss: 0.87 Train Accuracy: 0.13\n",
      "Epoch: 11 Train Loss: 0.85 Train Accuracy: 0.14\n",
      "Epoch: 12 Train Loss: 0.84 Train Accuracy: 0.15\n",
      "Epoch: 13 Train Loss: 0.82 Train Accuracy: 0.16\n",
      "Epoch: 14 Train Loss: 0.81 Train Accuracy: 0.17\n",
      "Epoch: 15 Train Loss: 0.79 Train Accuracy: 0.18\n",
      "Epoch: 16 Train Loss: 0.78 Train Accuracy: 0.19\n",
      "Epoch: 17 Train Loss: 0.76 Train Accuracy: 0.20\n",
      "Epoch: 18 Train Loss: 0.75 Train Accuracy: 0.21\n",
      "Epoch: 19 Train Loss: 0.73 Train Accuracy: 0.22\n",
      "Epoch: 20 Train Loss: 0.72 Train Accuracy: 0.24\n",
      "Epoch: 21 Train Loss: 0.71 Train Accuracy: 0.25\n",
      "Epoch: 22 Train Loss: 0.70 Train Accuracy: 0.26\n",
      "Epoch: 23 Train Loss: 0.69 Train Accuracy: 0.27\n",
      "Epoch: 24 Train Loss: 0.68 Train Accuracy: 0.28\n",
      "Epoch: 25 Train Loss: 0.66 Train Accuracy: 0.29\n",
      "Epoch: 26 Train Loss: 0.65 Train Accuracy: 0.30\n",
      "Epoch: 27 Train Loss: 0.64 Train Accuracy: 0.31\n",
      "Epoch: 28 Train Loss: 0.63 Train Accuracy: 0.32\n",
      "Epoch: 29 Train Loss: 0.62 Train Accuracy: 0.33\n",
      "Epoch: 30 Train Loss: 0.61 Train Accuracy: 0.34\n",
      "Epoch: 30 Train Loss: 0.61 Train Accuracy: 0.34 Test Loss: 2.51 Test Accuracy: 0.33\n"
     ]
    }
   ],
   "source": [
    "device = 'cuda' if torch.cuda.is_available() else 'cpu'\n",
    "fitnet.teacher = fitnet.teacher.to(device)\n",
    "fitnet.student = fitnet.student.to(device)\n",
    "fitnet.regressor = fitnet.regressor.to(device)\n",
    "EPOCHS = 30\n",
    "loss_func = nn.CrossEntropyLoss()\n",
    "optimizer = torch.optim.Adam(fitnet.get_learnable_params(), lr=0.002)\n",
    "tr_metric = {\"Accuracy\":[],\"Loss\":[]}\n",
    "ts_metric = {\"Accuracy\":[],\"Loss\":[]}\n",
    "\n",
    "for epoch in range(EPOCHS):\n",
    "    tr_loss, tr_acc = train_hints(fitnet,train_loader,optimizer,device)\n",
    "    tr_metric[\"Accuracy\"].append(tr_acc)\n",
    "    tr_metric[\"Loss\"].append(tr_loss)\n",
    "\n",
    "    print(\"Epoch: {} Train Loss: {:.2f} Train Accuracy: {:.2f}\".format(epoch+1, tr_loss, tr_acc))\n",
    "ts_loss, ts_acc = eval_hints(fitnet,test_loader,device)\n",
    "ts_metric[\"Accuracy\"].append(ts_acc)\n",
    "ts_metric[\"Loss\"].append(ts_loss)\n",
    "print(\"Epoch: {} Train Loss: {:.2f} Train Accuracy: {:.2f} Test Loss: {:.2f} Test Accuracy: {:.2f}\".format(epoch+1, tr_loss, tr_acc, ts_loss, ts_acc))\n"
   ]
  },
  {
   "cell_type": "code",
   "execution_count": 21,
   "metadata": {},
   "outputs": [
    {
     "name": "stdout",
     "output_type": "stream",
     "text": [
      "Final Train Accuracy: 0.341\n",
      "Final Test Accuracy: 0.33359998\n",
      "Final Train Loss: 0.6087861097682162\n",
      "Final Test Loss: 2.5102844435697906\n"
     ]
    }
   ],
   "source": [
    "print(\"Final Train Accuracy:\",tr_metric[\"Accuracy\"][-1])\n",
    "print(\"Final Test Accuracy:\",ts_metric[\"Accuracy\"][-1])\n",
    "print(\"Final Train Loss:\",tr_metric[\"Loss\"][-1])\n",
    "print(\"Final Test Loss:\",ts_metric[\"Loss\"][-1])"
   ]
  },
  {
   "cell_type": "code",
   "execution_count": 22,
   "metadata": {},
   "outputs": [],
   "source": [
    "import pandas as pd\n",
    "pd.DataFrame(tr_metric).to_csv(\"vgg11_cifar100_hint_tr.csv\") \n",
    "pd.DataFrame(ts_metric).to_csv(\"vgg11_cifar100_hint_ts.csv\")"
   ]
  },
  {
   "cell_type": "code",
   "execution_count": 23,
   "metadata": {},
   "outputs": [],
   "source": [
    "torch.save(fitnet.student.state_dict(),\"vgg11_cifar100_hint_student.pth\")\n",
    "torch.save(fitnet.regressor.state_dict(),\"vgg11_cifar100_hint_regressor.pth\")"
   ]
  },
  {
   "cell_type": "code",
   "execution_count": 27,
   "metadata": {},
   "outputs": [],
   "source": [
    "fitnet = create_model(VGG16_teacher, VGG11_student, 2,0.75)"
   ]
  },
  {
   "cell_type": "code",
   "execution_count": 28,
   "metadata": {},
   "outputs": [
    {
     "name": "stdout",
     "output_type": "stream",
     "text": [
      "Epoch: 1 Train Loss: 1.09 Train Accuracy: 0.03\n",
      "Epoch: 2 Train Loss: 1.04 Train Accuracy: 0.04\n",
      "Epoch: 3 Train Loss: 1.01 Train Accuracy: 0.06\n",
      "Epoch: 4 Train Loss: 0.98 Train Accuracy: 0.07\n",
      "Epoch: 5 Train Loss: 0.95 Train Accuracy: 0.08\n",
      "Epoch: 6 Train Loss: 0.92 Train Accuracy: 0.10\n",
      "Epoch: 7 Train Loss: 0.89 Train Accuracy: 0.11\n",
      "Epoch: 8 Train Loss: 0.87 Train Accuracy: 0.13\n",
      "Epoch: 9 Train Loss: 0.85 Train Accuracy: 0.14\n",
      "Epoch: 10 Train Loss: 0.83 Train Accuracy: 0.16\n",
      "Epoch: 11 Train Loss: 0.80 Train Accuracy: 0.17\n",
      "Epoch: 12 Train Loss: 0.78 Train Accuracy: 0.18\n",
      "Epoch: 13 Train Loss: 0.77 Train Accuracy: 0.20\n",
      "Epoch: 14 Train Loss: 0.75 Train Accuracy: 0.21\n",
      "Epoch: 15 Train Loss: 0.74 Train Accuracy: 0.22\n",
      "Epoch: 16 Train Loss: 0.72 Train Accuracy: 0.24\n",
      "Epoch: 17 Train Loss: 0.70 Train Accuracy: 0.25\n",
      "Epoch: 18 Train Loss: 0.68 Train Accuracy: 0.27\n",
      "Epoch: 19 Train Loss: 0.67 Train Accuracy: 0.28\n",
      "Epoch: 20 Train Loss: 0.66 Train Accuracy: 0.29\n",
      "Epoch: 21 Train Loss: 0.64 Train Accuracy: 0.31\n",
      "Epoch: 22 Train Loss: 0.63 Train Accuracy: 0.32\n",
      "Epoch: 23 Train Loss: 0.61 Train Accuracy: 0.33\n",
      "Epoch: 24 Train Loss: 0.60 Train Accuracy: 0.35\n",
      "Epoch: 25 Train Loss: 0.59 Train Accuracy: 0.36\n",
      "Epoch: 26 Train Loss: 0.57 Train Accuracy: 0.37\n",
      "Epoch: 27 Train Loss: 0.56 Train Accuracy: 0.38\n",
      "Epoch: 28 Train Loss: 0.55 Train Accuracy: 0.40\n",
      "Epoch: 29 Train Loss: 0.54 Train Accuracy: 0.41\n",
      "Epoch: 30 Train Loss: 0.53 Train Accuracy: 0.42\n",
      "Epoch: 30 Train Loss: 0.53 Train Accuracy: 0.42 Test Loss: 2.18 Test Accuracy: 0.42\n"
     ]
    }
   ],
   "source": [
    "device = 'cuda' if torch.cuda.is_available() else 'cpu'\n",
    "fitnet.teacher = fitnet.teacher.to(device)\n",
    "fitnet.student = fitnet.student.to(device)\n",
    "fitnet.regressor = fitnet.regressor.to(device)\n",
    "EPOCHS = 30\n",
    "loss_func = nn.CrossEntropyLoss()\n",
    "optimizer = torch.optim.Adam(fitnet.get_learnable_params(), lr=0.002)\n",
    "tr_metric = {\"Accuracy\":[],\"Loss\":[]}\n",
    "ts_metric = {\"Accuracy\":[],\"Loss\":[]}\n",
    "\n",
    "for epoch in range(EPOCHS):\n",
    "    tr_loss, tr_acc = train_hints(fitnet,train_loader,optimizer,device)\n",
    "    tr_metric[\"Accuracy\"].append(tr_acc)\n",
    "    tr_metric[\"Loss\"].append(tr_loss)\n",
    "\n",
    "    print(\"Epoch: {} Train Loss: {:.2f} Train Accuracy: {:.2f}\".format(epoch+1, tr_loss, tr_acc))\n",
    "ts_loss, ts_acc = eval_hints(fitnet,test_loader,device)\n",
    "ts_metric[\"Accuracy\"].append(ts_acc)\n",
    "ts_metric[\"Loss\"].append(ts_loss)\n",
    "print(\"Epoch: {} Train Loss: {:.2f} Train Accuracy: {:.2f} Test Loss: {:.2f} Test Accuracy: {:.2f}\".format(epoch+1, tr_loss, tr_acc, ts_loss, ts_acc))\n"
   ]
  },
  {
   "cell_type": "code",
   "execution_count": 29,
   "metadata": {},
   "outputs": [
    {
     "name": "stdout",
     "output_type": "stream",
     "text": [
      "Final Train Accuracy: 0.42069998\n",
      "Final Test Accuracy: 0.4217\n",
      "Final Train Loss: 0.5286962235980022\n",
      "Final Test Loss: 2.1754487061956125\n"
     ]
    }
   ],
   "source": [
    "print(\"Final Train Accuracy:\",tr_metric[\"Accuracy\"][-1])\n",
    "print(\"Final Test Accuracy:\",ts_metric[\"Accuracy\"][-1])\n",
    "print(\"Final Train Loss:\",tr_metric[\"Loss\"][-1])\n",
    "print(\"Final Test Loss:\",ts_metric[\"Loss\"][-1])"
   ]
  },
  {
   "cell_type": "code",
   "execution_count": 30,
   "metadata": {},
   "outputs": [],
   "source": [
    "import pandas as pd\n",
    "pd.DataFrame(tr_metric).to_csv(\"vgg11_cifar100_hint_tr.csv\") \n",
    "pd.DataFrame(ts_metric).to_csv(\"vgg11_cifar100_hint_ts.csv\")"
   ]
  },
  {
   "cell_type": "code",
   "execution_count": 31,
   "metadata": {},
   "outputs": [],
   "source": [
    "torch.save(fitnet.student.state_dict(),\"vgg11_cifar100_hint_student.pth\")\n",
    "torch.save(fitnet.regressor.state_dict(),\"vgg11_cifar100_hint_regressor.pth\")"
   ]
  },
  {
   "cell_type": "code",
   "execution_count": null,
   "metadata": {},
   "outputs": [],
   "source": [
    "fitnet = create_model(VGG16_teacher, VGG11_student, 3,0.75)"
   ]
  },
  {
   "cell_type": "code",
   "execution_count": null,
   "metadata": {},
   "outputs": [
    {
     "name": "stdout",
     "output_type": "stream",
     "text": [
      "Epoch: 1 Train Loss: 1.08 Train Accuracy: 0.03\n",
      "Epoch: 2 Train Loss: 1.04 Train Accuracy: 0.04\n",
      "Epoch: 3 Train Loss: 1.01 Train Accuracy: 0.06\n",
      "Epoch: 4 Train Loss: 0.97 Train Accuracy: 0.07\n",
      "Epoch: 5 Train Loss: 0.94 Train Accuracy: 0.09\n",
      "Epoch: 6 Train Loss: 0.91 Train Accuracy: 0.10\n",
      "Epoch: 7 Train Loss: 0.89 Train Accuracy: 0.11\n",
      "Epoch: 8 Train Loss: 0.87 Train Accuracy: 0.13\n",
      "Epoch: 9 Train Loss: 0.85 Train Accuracy: 0.14\n",
      "Epoch: 10 Train Loss: 0.83 Train Accuracy: 0.15\n",
      "Epoch: 11 Train Loss: 0.81 Train Accuracy: 0.16\n",
      "Epoch: 12 Train Loss: 0.80 Train Accuracy: 0.17\n",
      "Epoch: 13 Train Loss: 0.78 Train Accuracy: 0.18\n",
      "Epoch: 14 Train Loss: 0.77 Train Accuracy: 0.20\n",
      "Epoch: 15 Train Loss: 0.75 Train Accuracy: 0.21\n",
      "Epoch: 16 Train Loss: 0.74 Train Accuracy: 0.22\n",
      "Epoch: 17 Train Loss: 0.72 Train Accuracy: 0.24\n",
      "Epoch: 18 Train Loss: 0.71 Train Accuracy: 0.25\n",
      "Epoch: 19 Train Loss: 0.69 Train Accuracy: 0.26\n",
      "Epoch: 20 Train Loss: 0.68 Train Accuracy: 0.27\n",
      "Epoch: 21 Train Loss: 0.67 Train Accuracy: 0.29\n",
      "Epoch: 22 Train Loss: 0.65 Train Accuracy: 0.30\n",
      "Epoch: 23 Train Loss: 0.64 Train Accuracy: 0.31\n",
      "Epoch: 24 Train Loss: 0.63 Train Accuracy: 0.32\n",
      "Epoch: 25 Train Loss: 0.62 Train Accuracy: 0.33\n",
      "Epoch: 26 Train Loss: 0.61 Train Accuracy: 0.34\n",
      "Epoch: 27 Train Loss: 0.60 Train Accuracy: 0.35\n",
      "Epoch: 28 Train Loss: 0.59 Train Accuracy: 0.36\n",
      "Epoch: 29 Train Loss: 0.57 Train Accuracy: 0.37\n",
      "Epoch: 30 Train Loss: 0.56 Train Accuracy: 0.38\n",
      "Epoch: 30 Train Loss: 0.56 Train Accuracy: 0.38 Test Loss: 2.36 Test Accuracy: 0.38\n"
     ]
    }
   ],
   "source": [
    "device = 'cuda' if torch.cuda.is_available() else 'cpu'\n",
    "fitnet.teacher = fitnet.teacher.to(device)\n",
    "fitnet.student = fitnet.student.to(device)\n",
    "fitnet.regressor = fitnet.regressor.to(device)\n",
    "EPOCHS = 30\n",
    "loss_func = nn.CrossEntropyLoss()\n",
    "optimizer = torch.optim.Adam(fitnet.get_learnable_params(), lr=0.002)\n",
    "tr_metric = {\"Accuracy\":[],\"Loss\":[]}\n",
    "ts_metric = {\"Accuracy\":[],\"Loss\":[]}\n",
    "\n",
    "for epoch in range(EPOCHS):\n",
    "    tr_loss, tr_acc = train_hints(fitnet,train_loader,optimizer,device)\n",
    "    tr_metric[\"Accuracy\"].append(tr_acc)\n",
    "    tr_metric[\"Loss\"].append(tr_loss)\n",
    "\n",
    "    print(\"Epoch: {} Train Loss: {:.2f} Train Accuracy: {:.2f}\".format(epoch+1, tr_loss, tr_acc))\n",
    "ts_loss, ts_acc = eval_hints(fitnet,test_loader,device)\n",
    "ts_metric[\"Accuracy\"].append(ts_acc)\n",
    "ts_metric[\"Loss\"].append(ts_loss)\n",
    "print(\"Epoch: {} Train Loss: {:.2f} Train Accuracy: {:.2f} Test Loss: {:.2f} Test Accuracy: {:.2f}\".format(epoch+1, tr_loss, tr_acc, ts_loss, ts_acc))\n"
   ]
  },
  {
   "cell_type": "code",
   "execution_count": null,
   "metadata": {},
   "outputs": [
    {
     "name": "stdout",
     "output_type": "stream",
     "text": [
      "Final Train Accuracy: 0.38217998\n",
      "Final Test Accuracy: 0.3769\n",
      "Final Train Loss: 0.5639470582804107\n",
      "Final Test Loss: 2.356790871377204\n"
     ]
    }
   ],
   "source": [
    "print(\"Final Train Accuracy:\",tr_metric[\"Accuracy\"][-1])\n",
    "print(\"Final Test Accuracy:\",ts_metric[\"Accuracy\"][-1])\n",
    "print(\"Final Train Loss:\",tr_metric[\"Loss\"][-1])\n",
    "print(\"Final Test Loss:\",ts_metric[\"Loss\"][-1])"
   ]
  },
  {
   "cell_type": "code",
   "execution_count": null,
   "metadata": {},
   "outputs": [],
   "source": [
    "import pandas as pd\n",
    "pd.DataFrame(tr_metric).to_csv(\"vgg11_cifar100_hint_tr.csv\") \n",
    "pd.DataFrame(ts_metric).to_csv(\"vgg11_cifar100_hint_ts.csv\")"
   ]
  },
  {
   "cell_type": "code",
   "execution_count": null,
   "metadata": {},
   "outputs": [],
   "source": [
    "torch.save(fitnet.student.state_dict(),\"vgg11_cifar100_hint_student.pth\")\n",
    "torch.save(fitnet.regressor.state_dict(),\"vgg11_cifar100_hint_regressor.pth\")"
   ]
  }
 ],
 "metadata": {
  "kernelspec": {
   "display_name": "SProj",
   "language": "python",
   "name": "python3"
  },
  "language_info": {
   "codemirror_mode": {
    "name": "ipython",
    "version": 3
   },
   "file_extension": ".py",
   "mimetype": "text/x-python",
   "name": "python",
   "nbconvert_exporter": "python",
   "pygments_lexer": "ipython3",
   "version": "3.11.5"
  }
 },
 "nbformat": 4,
 "nbformat_minor": 2
}
