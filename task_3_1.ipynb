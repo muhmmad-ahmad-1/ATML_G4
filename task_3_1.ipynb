{
 "cells": [
  {
   "cell_type": "code",
   "execution_count": 63,
   "metadata": {},
   "outputs": [],
   "source": [
    "import torch\n",
    "from models import *\n",
    "from utils import *"
   ]
  },
  {
   "cell_type": "markdown",
   "metadata": {},
   "source": [
    "Load in the teacher models (and train the independent student model)"
   ]
  },
  {
   "cell_type": "code",
   "execution_count": 64,
   "metadata": {},
   "outputs": [
    {
     "name": "stderr",
     "output_type": "stream",
     "text": [
      "Using cache found in C:\\Users\\PCF/.cache\\torch\\hub\\chenyaofo_pytorch-cifar-models_master\n"
     ]
    },
    {
     "name": "stdout",
     "output_type": "stream",
     "text": [
      "(2.092914149260065, array(0.6892, dtype=float32))\n"
     ]
    }
   ],
   "source": [
    "model = torch.hub.load(\"chenyaofo/pytorch-cifar-models\", \"cifar100_vgg16_bn\", pretrained=True)\n",
    "device = 'cuda'if torch.cuda.is_available() else 'cpu'\n",
    "print(eval(model.to(device),test_loader,nn.CrossEntropyLoss(),'cuda'))"
   ]
  },
  {
   "cell_type": "code",
   "execution_count": 65,
   "metadata": {},
   "outputs": [
    {
     "name": "stdout",
     "output_type": "stream",
     "text": [
      "Loading pretrained weights\n",
      "Mapping: block0.0.weight -> features.0.weight\n",
      "Mapping: block0.1.weight -> features.1.weight\n",
      "Mapping: block0.3.weight -> features.3.weight\n",
      "Mapping: block0.4.weight -> features.4.weight\n",
      "Mapping: block1.0.weight -> features.7.weight\n",
      "Mapping: block1.1.weight -> features.8.weight\n",
      "Mapping: block1.3.weight -> features.10.weight\n",
      "Mapping: block1.4.weight -> features.11.weight\n",
      "Mapping: block2.0.weight -> features.14.weight\n",
      "Mapping: block2.1.weight -> features.15.weight\n",
      "Mapping: block2.3.weight -> features.17.weight\n",
      "Mapping: block2.4.weight -> features.18.weight\n",
      "Mapping: block2.6.weight -> features.20.weight\n",
      "Mapping: block2.7.weight -> features.21.weight\n",
      "Mapping: block3.0.weight -> features.24.weight\n",
      "Mapping: block3.1.weight -> features.25.weight\n",
      "Mapping: block3.3.weight -> features.27.weight\n",
      "Mapping: block3.4.weight -> features.28.weight\n",
      "Mapping: block3.6.weight -> features.30.weight\n",
      "Mapping: block3.7.weight -> features.31.weight\n",
      "Mapping: block4.0.weight -> features.34.weight\n",
      "Mapping: block4.1.weight -> features.35.weight\n",
      "Mapping: block4.3.weight -> features.37.weight\n",
      "Mapping: block4.4.weight -> features.38.weight\n",
      "Mapping: block4.6.weight -> features.40.weight\n",
      "Mapping: block4.7.weight -> features.41.weight\n",
      "Mapping Classifier layer: classifier.0\n",
      "Mapping Classifier layer: classifier.3\n",
      "Mapping Classifier layer: classifier.6\n",
      "(2.6366579790783535, array(0.53429997, dtype=float32))\n"
     ]
    }
   ],
   "source": [
    "teacher_model_vgg16_bn = vgg16_bn_f(True,100,model.state_dict())\n",
    "def eval_f(model,test_loader,loss_func,device):\n",
    "    total_loss = 0\n",
    "    pred_list = None\n",
    "    for i,batch in enumerate(test_loader):\n",
    "        x_batch, y_batch = batch\n",
    "        x_batch, y_batch = x_batch.to(device), y_batch.to(device)\n",
    "        pred,_ = model(x_batch)\n",
    "        loss = loss_func(pred,y_batch.reshape(-1).long())\n",
    "        pred_list = torch.cat([pred_list,torch.argmax(pred,dim=1) == y_batch]) if pred_list is not None else torch.argmax(pred,dim=1) == y_batch\n",
    "\n",
    "        total_loss += loss.item()\n",
    "\n",
    "    total_loss /= len(test_loader)\n",
    "\n",
    "    return total_loss,pred_list.float().mean().cpu().numpy()\n",
    "print(eval_f(teacher_model_vgg16_bn.to(device),test_loader,nn.CrossEntropyLoss(),'cuda'))"
   ]
  },
  {
   "cell_type": "code",
   "execution_count": 69,
   "metadata": {},
   "outputs": [],
   "source": [
    "for epoch in range(5):\n",
    "    independent_train_f(teacher_model_vgg16_bn,train_loader,nn.CrossEntropyLoss(),torch.optim.Adam(teacher_model_vgg16_bn.parameters(),0.001),device)"
   ]
  },
  {
   "cell_type": "code",
   "execution_count": 70,
   "metadata": {},
   "outputs": [
    {
     "data": {
      "text/plain": [
       "(1.6784727193747357, array(0.6185, dtype=float32))"
      ]
     },
     "execution_count": 70,
     "metadata": {},
     "output_type": "execute_result"
    }
   ],
   "source": [
    "eval_f(teacher_model_vgg16_bn.to(device),test_loader,nn.CrossEntropyLoss(),'cuda')"
   ]
  },
  {
   "cell_type": "code",
   "execution_count": 71,
   "metadata": {},
   "outputs": [],
   "source": [
    "torch.save(teacher_model_vgg16_bn.state_dict(),'teacher_model_vgg16_bn.pth')"
   ]
  },
  {
   "cell_type": "code",
   "execution_count": 41,
   "metadata": {},
   "outputs": [
    {
     "name": "stderr",
     "output_type": "stream",
     "text": [
      "Using cache found in C:\\Users\\PCF/.cache\\torch\\hub\\chenyaofo_pytorch-cifar-models_master\n"
     ]
    },
    {
     "name": "stdout",
     "output_type": "stream",
     "text": [
      "(2.2601462093887816, array(0.69409996, dtype=float32))\n"
     ]
    }
   ],
   "source": [
    "model = torch.hub.load(\"chenyaofo/pytorch-cifar-models\", \"cifar100_vgg19_bn\", pretrained=True)\n",
    "device = 'cuda'if torch.cuda.is_available() else 'cpu'\n",
    "print(eval(model.to(device),test_loader,nn.CrossEntropyLoss(),'cuda'))"
   ]
  },
  {
   "cell_type": "code",
   "execution_count": 42,
   "metadata": {},
   "outputs": [
    {
     "name": "stdout",
     "output_type": "stream",
     "text": [
      "Loading pretrained weights\n",
      "Mapping: block0.0.weight -> features.0.weight\n",
      "Mapping: block0.1.weight -> features.1.weight\n",
      "Mapping: block0.3.weight -> features.3.weight\n",
      "Mapping: block0.4.weight -> features.4.weight\n",
      "Mapping: block1.0.weight -> features.7.weight\n",
      "Mapping: block1.1.weight -> features.8.weight\n",
      "Mapping: block1.3.weight -> features.10.weight\n",
      "Mapping: block1.4.weight -> features.11.weight\n",
      "Mapping: block2.0.weight -> features.14.weight\n",
      "Mapping: block2.1.weight -> features.15.weight\n",
      "Mapping: block2.3.weight -> features.17.weight\n",
      "Mapping: block2.4.weight -> features.18.weight\n",
      "Mapping: block2.6.weight -> features.20.weight\n",
      "Mapping: block2.7.weight -> features.21.weight\n",
      "Mapping: block2.9.weight -> features.23.weight\n",
      "Mapping: block2.10.weight -> features.24.weight\n",
      "Mapping: block3.0.weight -> features.27.weight\n",
      "Mapping: block3.1.weight -> features.28.weight\n",
      "Mapping: block3.3.weight -> features.30.weight\n",
      "Mapping: block3.4.weight -> features.31.weight\n",
      "Mapping: block3.6.weight -> features.33.weight\n",
      "Mapping: block3.7.weight -> features.34.weight\n",
      "Mapping: block3.9.weight -> features.36.weight\n",
      "Mapping: block3.10.weight -> features.37.weight\n",
      "Mapping: block4.0.weight -> features.40.weight\n",
      "Mapping: block4.1.weight -> features.41.weight\n",
      "Mapping: block4.3.weight -> features.43.weight\n",
      "Mapping: block4.4.weight -> features.44.weight\n",
      "Mapping: block4.6.weight -> features.46.weight\n",
      "Mapping: block4.7.weight -> features.47.weight\n",
      "Mapping: block4.9.weight -> features.49.weight\n",
      "Mapping: block4.10.weight -> features.50.weight\n",
      "Mapping Classifier layer: classifier.0\n",
      "Mapping Classifier layer: classifier.3\n",
      "Mapping Classifier layer: classifier.6\n",
      "(2.7716632101945815, array(0.4897, dtype=float32))\n"
     ]
    }
   ],
   "source": [
    "teacher_model_vgg19_bn = vgg19_bn_f(True,100,model.state_dict())\n",
    "print(eval_f(teacher_model_vgg19_bn.to(device),test_loader,nn.CrossEntropyLoss(),'cuda'))"
   ]
  },
  {
   "cell_type": "code",
   "execution_count": 60,
   "metadata": {},
   "outputs": [],
   "source": [
    "for epoch in range(5):\n",
    "    independent_train_f(teacher_model_vgg19_bn,train_loader,nn.CrossEntropyLoss(),torch.optim.Adam(teacher_model_vgg16_bn.parameters(),0.001),device)"
   ]
  },
  {
   "cell_type": "code",
   "execution_count": 62,
   "metadata": {},
   "outputs": [
    {
     "data": {
      "text/plain": [
       "(2.7729790317025156, array(0.4992, dtype=float32))"
      ]
     },
     "execution_count": 62,
     "metadata": {},
     "output_type": "execute_result"
    }
   ],
   "source": [
    "eval_f(teacher_model_vgg19_bn.to(device),test_loader,nn.CrossEntropyLoss(),'cuda')"
   ]
  },
  {
   "cell_type": "code",
   "execution_count": 59,
   "metadata": {},
   "outputs": [],
   "source": [
    "torch.save(teacher_model_vgg19_bn.state_dict(),'teacher_model_vgg19_bn.pth')"
   ]
  },
  {
   "cell_type": "code",
   "execution_count": 91,
   "metadata": {},
   "outputs": [],
   "source": [
    "EPOCHS = 30"
   ]
  },
  {
   "cell_type": "code",
   "execution_count": 92,
   "metadata": {},
   "outputs": [],
   "source": [
    "device = 'cuda' if torch.cuda.is_available() else 'cpu'\n",
    "student_model = vgg11_bn_f(False,100)\n",
    "for param in student_model.parameters():\n",
    "    param.requires_grad = True"
   ]
  },
  {
   "cell_type": "code",
   "execution_count": 93,
   "metadata": {},
   "outputs": [],
   "source": [
    "optimizer = torch.optim.Adam(student_model.parameters(),0.002)\n",
    "loss_func = torch.nn.CrossEntropyLoss()"
   ]
  },
  {
   "cell_type": "code",
   "execution_count": 94,
   "metadata": {},
   "outputs": [
    {
     "name": "stdout",
     "output_type": "stream",
     "text": [
      "Epoch: 1 Train Loss: 4.38 Train Accuracy: 0.02\n",
      "Epoch: 2 Train Loss: 4.20 Train Accuracy: 0.04\n",
      "Epoch: 3 Train Loss: 4.09 Train Accuracy: 0.05\n",
      "Epoch: 4 Train Loss: 4.00 Train Accuracy: 0.06\n",
      "Epoch: 5 Train Loss: 3.91 Train Accuracy: 0.06\n",
      "Epoch: 6 Train Loss: 3.81 Train Accuracy: 0.08\n",
      "Epoch: 7 Train Loss: 3.72 Train Accuracy: 0.09\n",
      "Epoch: 8 Train Loss: 3.63 Train Accuracy: 0.10\n",
      "Epoch: 9 Train Loss: 3.56 Train Accuracy: 0.11\n",
      "Epoch: 10 Train Loss: 3.48 Train Accuracy: 0.12\n",
      "Epoch: 11 Train Loss: 3.43 Train Accuracy: 0.13\n",
      "Epoch: 12 Train Loss: 3.35 Train Accuracy: 0.15\n",
      "Epoch: 13 Train Loss: 3.27 Train Accuracy: 0.15\n",
      "Epoch: 14 Train Loss: 3.21 Train Accuracy: 0.17\n",
      "Epoch: 15 Train Loss: 3.14 Train Accuracy: 0.18\n",
      "Epoch: 16 Train Loss: 3.09 Train Accuracy: 0.19\n",
      "Epoch: 17 Train Loss: 3.02 Train Accuracy: 0.20\n",
      "Epoch: 18 Train Loss: 2.95 Train Accuracy: 0.22\n",
      "Epoch: 19 Train Loss: 2.90 Train Accuracy: 0.23\n",
      "Epoch: 20 Train Loss: 2.84 Train Accuracy: 0.24\n",
      "Epoch: 21 Train Loss: 2.79 Train Accuracy: 0.25\n",
      "Epoch: 22 Train Loss: 2.74 Train Accuracy: 0.26\n",
      "Epoch: 23 Train Loss: 2.68 Train Accuracy: 0.27\n",
      "Epoch: 24 Train Loss: 2.64 Train Accuracy: 0.28\n",
      "Epoch: 25 Train Loss: 2.59 Train Accuracy: 0.29\n",
      "Epoch: 26 Train Loss: 2.54 Train Accuracy: 0.31\n",
      "Epoch: 27 Train Loss: 2.49 Train Accuracy: 0.32\n",
      "Epoch: 28 Train Loss: 2.44 Train Accuracy: 0.33\n",
      "Epoch: 29 Train Loss: 2.41 Train Accuracy: 0.34\n",
      "Epoch: 30 Train Loss: 2.35 Train Accuracy: 0.35\n",
      "Epoch: 30 Train Loss: 2.35 Train Accuracy: 0.35 Test Loss: 2.60 Test Accuracy: 0.32\n"
     ]
    }
   ],
   "source": [
    "tr_metric = {\"Accuracy\":[],\"Loss\":[]}\n",
    "ts_metric = {\"Accuracy\":[],\"Loss\":[]}\n",
    "\n",
    "for epoch in (range(EPOCHS)):\n",
    "    tr_loss, tr_acc = independent_train_f(student_model,train_loader,loss_func,optimizer,device)\n",
    "    tr_metric[\"Accuracy\"].append(tr_acc)\n",
    "    tr_metric[\"Loss\"].append(tr_loss)\n",
    "\n",
    "    print(\"Epoch: {} Train Loss: {:.2f} Train Accuracy: {:.2f}\".format(epoch+1, tr_loss, tr_acc))\n",
    "ts_loss, ts_acc = eval_f(student_model,test_loader,loss_func,device)\n",
    "ts_metric[\"Accuracy\"].append(ts_acc)\n",
    "ts_metric[\"Loss\"].append(ts_loss)\n",
    "print(\"Epoch: {} Train Loss: {:.2f} Train Accuracy: {:.2f} Test Loss: {:.2f} Test Accuracy: {:.2f}\".format(epoch+1, tr_loss, tr_acc, ts_loss, ts_acc))"
   ]
  },
  {
   "cell_type": "code",
   "execution_count": 95,
   "metadata": {},
   "outputs": [
    {
     "name": "stdout",
     "output_type": "stream",
     "text": [
      "Final Train Accuracy: 0.352\n",
      "Final Test Accuracy: 0.3204\n",
      "Final Train Loss: 2.3490027318830076\n",
      "Final Test Loss: 2.599426288513621\n"
     ]
    }
   ],
   "source": [
    "print(\"Final Train Accuracy:\",tr_metric[\"Accuracy\"][-1])\n",
    "print(\"Final Test Accuracy:\",ts_metric[\"Accuracy\"][-1])\n",
    "print(\"Final Train Loss:\",tr_metric[\"Loss\"][-1])\n",
    "print(\"Final Test Loss:\",ts_metric[\"Loss\"][-1])"
   ]
  },
  {
   "cell_type": "code",
   "execution_count": 96,
   "metadata": {},
   "outputs": [],
   "source": [
    "import pandas as pd\n",
    "pd.DataFrame(tr_metric).to_csv(\"vgg11_cifar100_student_tr.csv\") \n",
    "pd.DataFrame(ts_metric).to_csv(\"vgg11_cifar100_student_ts.csv\")"
   ]
  },
  {
   "cell_type": "code",
   "execution_count": 97,
   "metadata": {},
   "outputs": [],
   "source": [
    "torch.save(student_model.state_dict(),\"vgg11_cifar100_student.pth\")"
   ]
  },
  {
   "cell_type": "markdown",
   "metadata": {},
   "source": [
    "#### 3.1.2.1: Basic Logit Matching"
   ]
  },
  {
   "cell_type": "code",
   "execution_count": 79,
   "metadata": {},
   "outputs": [
    {
     "name": "stderr",
     "output_type": "stream",
     "text": [
      "C:\\Users\\PCF\\AppData\\Local\\Temp\\ipykernel_25804\\3696582385.py:5: FutureWarning: You are using `torch.load` with `weights_only=False` (the current default value), which uses the default pickle module implicitly. It is possible to construct malicious pickle data which will execute arbitrary code during unpickling (See https://github.com/pytorch/pytorch/blob/main/SECURITY.md#untrusted-models for more details). In a future release, the default value for `weights_only` will be flipped to `True`. This limits the functions that could be executed during unpickling. Arbitrary objects will no longer be allowed to be loaded via this mode unless they are explicitly allowlisted by the user via `torch.serialization.add_safe_globals`. We recommend you start setting `weights_only=True` for any use case where you don't have full control of the loaded file. Please open an issue on GitHub for any issues related to this experimental feature.\n",
      "  teacher_model_vgg16_bn.load_state_dict(torch.load(\"teacher_model_vgg16_bn.pth\"))\n"
     ]
    },
    {
     "name": "stdout",
     "output_type": "stream",
     "text": [
      "Epoch: 1 Train Loss: 7.67 Train Accuracy: 0.04\n",
      "Epoch: 2 Train Loss: 7.10 Train Accuracy: 0.06\n",
      "Epoch: 3 Train Loss: 6.63 Train Accuracy: 0.08\n",
      "Epoch: 4 Train Loss: 6.22 Train Accuracy: 0.11\n",
      "Epoch: 5 Train Loss: 5.85 Train Accuracy: 0.14\n",
      "Epoch: 6 Train Loss: 5.52 Train Accuracy: 0.16\n",
      "Epoch: 7 Train Loss: 5.26 Train Accuracy: 0.19\n",
      "Epoch: 8 Train Loss: 5.04 Train Accuracy: 0.21\n",
      "Epoch: 9 Train Loss: 4.82 Train Accuracy: 0.23\n",
      "Epoch: 10 Train Loss: 4.61 Train Accuracy: 0.25\n",
      "Epoch: 11 Train Loss: 4.45 Train Accuracy: 0.27\n",
      "Epoch: 12 Train Loss: 4.29 Train Accuracy: 0.29\n",
      "Epoch: 13 Train Loss: 4.12 Train Accuracy: 0.30\n",
      "Epoch: 14 Train Loss: 4.01 Train Accuracy: 0.32\n",
      "Epoch: 15 Train Loss: 3.88 Train Accuracy: 0.34\n",
      "Epoch: 16 Train Loss: 3.76 Train Accuracy: 0.35\n",
      "Epoch: 17 Train Loss: 3.63 Train Accuracy: 0.37\n",
      "Epoch: 18 Train Loss: 3.53 Train Accuracy: 0.38\n",
      "Epoch: 19 Train Loss: 3.42 Train Accuracy: 0.40\n",
      "Epoch: 20 Train Loss: 3.33 Train Accuracy: 0.41\n",
      "Epoch: 21 Train Loss: 3.23 Train Accuracy: 0.42\n",
      "Epoch: 22 Train Loss: 3.12 Train Accuracy: 0.44\n",
      "Epoch: 23 Train Loss: 3.06 Train Accuracy: 0.45\n",
      "Epoch: 24 Train Loss: 2.99 Train Accuracy: 0.46\n",
      "Epoch: 25 Train Loss: 2.91 Train Accuracy: 0.47\n",
      "Epoch: 26 Train Loss: 2.84 Train Accuracy: 0.49\n",
      "Epoch: 27 Train Loss: 2.78 Train Accuracy: 0.50\n",
      "Epoch: 28 Train Loss: 2.72 Train Accuracy: 0.51\n",
      "Epoch: 29 Train Loss: 2.67 Train Accuracy: 0.51\n",
      "Epoch: 30 Train Loss: 2.60 Train Accuracy: 0.53\n",
      "Epoch: 30 Train Loss: 2.60 Train Accuracy: 0.53 Test Loss: 2.19 Test Accuracy: 0.48\n"
     ]
    }
   ],
   "source": [
    "from tqdm import tqdm\n",
    "student_model = vgg11_bn_f(False,100)\n",
    "teacher_model_vgg16_bn = vgg16_bn_f(False,100)\n",
    "device = 'cuda' if torch.cuda.is_available() else 'cpu'\n",
    "teacher_model_vgg16_bn.load_state_dict(torch.load(\"teacher_model_vgg16_bn.pth\")) \n",
    "for param in student_model.parameters():\n",
    "    param.requires_grad = True          \n",
    "for param in teacher_model_vgg16_bn.parameters():\n",
    "    param.requires_grad = False\n",
    "teacher_model = teacher_model_vgg16_bn.to(device)\n",
    "student_model = student_model.to(device)\n",
    "optimizer = torch.optim.Adam(student_model.parameters(),lr=0.002)\n",
    "loss_func = torch.nn.CrossEntropyLoss()\n",
    "tr_metric = {\"Accuracy\":[],\"Loss\":[]}\n",
    "ts_metric = {\"Accuracy\":[],\"Loss\":[]}\n",
    "\n",
    "for epoch in (range(EPOCHS)):\n",
    "    tr_loss, tr_acc = train(student_model,teacher_model,train_loader,optimizer,device)\n",
    "    tr_metric[\"Accuracy\"].append(tr_acc)\n",
    "    tr_metric[\"Loss\"].append(tr_loss)\n",
    "\n",
    "    print(\"Epoch: {} Train Loss: {:.2f} Train Accuracy: {:.2f}\".format(epoch+1, tr_loss, tr_acc))\n",
    "ts_loss, ts_acc = eval_f(student_model,test_loader,loss_func,device)\n",
    "ts_metric[\"Accuracy\"].append(ts_acc)\n",
    "ts_metric[\"Loss\"].append(ts_loss)\n",
    "print(\"Epoch: {} Train Loss: {:.2f} Train Accuracy: {:.2f} Test Loss: {:.2f} Test Accuracy: {:.2f}\".format(epoch+1, tr_loss, tr_acc, ts_loss, ts_acc))\n"
   ]
  },
  {
   "cell_type": "code",
   "execution_count": 80,
   "metadata": {},
   "outputs": [
    {
     "name": "stdout",
     "output_type": "stream",
     "text": [
      "Final Train Accuracy: 0.52638\n",
      "Final Test Accuracy: 0.4799\n",
      "Final Train Loss: 2.600411142839495\n",
      "Final Test Loss: 2.1949146340607077\n"
     ]
    }
   ],
   "source": [
    "print(\"Final Train Accuracy:\",tr_metric[\"Accuracy\"][-1])\n",
    "print(\"Final Test Accuracy:\",ts_metric[\"Accuracy\"][-1])\n",
    "print(\"Final Train Loss:\",tr_metric[\"Loss\"][-1])\n",
    "print(\"Final Test Loss:\",ts_metric[\"Loss\"][-1])"
   ]
  },
  {
   "cell_type": "code",
   "execution_count": 81,
   "metadata": {},
   "outputs": [],
   "source": [
    "pd.DataFrame(tr_metric).to_csv(\"vgg11_cifar100_blm_tr.csv\") \n",
    "pd.DataFrame(ts_metric).to_csv(\"vgg11_cifar100_blm_ts.csv\")"
   ]
  },
  {
   "cell_type": "code",
   "execution_count": 82,
   "metadata": {},
   "outputs": [],
   "source": [
    "torch.save(student_model.state_dict(),\"vgg11_cifar100_blm.pth\")"
   ]
  },
  {
   "cell_type": "markdown",
   "metadata": {},
   "source": [
    "#### 3.1.2.2: Label Smooth Regularization"
   ]
  },
  {
   "cell_type": "code",
   "execution_count": 83,
   "metadata": {},
   "outputs": [
    {
     "name": "stderr",
     "output_type": "stream",
     "text": [
      "C:\\Users\\PCF\\AppData\\Local\\Temp\\ipykernel_25804\\2179157929.py:6: FutureWarning: You are using `torch.load` with `weights_only=False` (the current default value), which uses the default pickle module implicitly. It is possible to construct malicious pickle data which will execute arbitrary code during unpickling (See https://github.com/pytorch/pytorch/blob/main/SECURITY.md#untrusted-models for more details). In a future release, the default value for `weights_only` will be flipped to `True`. This limits the functions that could be executed during unpickling. Arbitrary objects will no longer be allowed to be loaded via this mode unless they are explicitly allowlisted by the user via `torch.serialization.add_safe_globals`. We recommend you start setting `weights_only=True` for any use case where you don't have full control of the loaded file. Please open an issue on GitHub for any issues related to this experimental feature.\n",
      "  teacher_model_vgg16_bn.load_state_dict(torch.load(\"teacher_model_vgg16_bn.pth\"))\n"
     ]
    },
    {
     "name": "stdout",
     "output_type": "stream",
     "text": [
      "Epoch: 1 Train Loss: 5.34 Train Accuracy: 0.03\n",
      "Epoch: 2 Train Loss: 5.06 Train Accuracy: 0.05\n",
      "Epoch: 3 Train Loss: 4.84 Train Accuracy: 0.07\n",
      "Epoch: 4 Train Loss: 4.65 Train Accuracy: 0.09\n",
      "Epoch: 5 Train Loss: 4.44 Train Accuracy: 0.11\n",
      "Epoch: 6 Train Loss: 4.27 Train Accuracy: 0.13\n",
      "Epoch: 7 Train Loss: 4.10 Train Accuracy: 0.15\n",
      "Epoch: 8 Train Loss: 3.95 Train Accuracy: 0.17\n",
      "Epoch: 9 Train Loss: 3.81 Train Accuracy: 0.20\n",
      "Epoch: 10 Train Loss: 3.68 Train Accuracy: 0.22\n",
      "Epoch: 11 Train Loss: 3.54 Train Accuracy: 0.24\n",
      "Epoch: 12 Train Loss: 3.44 Train Accuracy: 0.26\n",
      "Epoch: 13 Train Loss: 3.35 Train Accuracy: 0.27\n",
      "Epoch: 14 Train Loss: 3.24 Train Accuracy: 0.30\n",
      "Epoch: 15 Train Loss: 3.15 Train Accuracy: 0.31\n",
      "Epoch: 16 Train Loss: 3.05 Train Accuracy: 0.33\n",
      "Epoch: 17 Train Loss: 2.98 Train Accuracy: 0.35\n",
      "Epoch: 18 Train Loss: 2.90 Train Accuracy: 0.36\n",
      "Epoch: 19 Train Loss: 2.83 Train Accuracy: 0.38\n",
      "Epoch: 20 Train Loss: 2.75 Train Accuracy: 0.39\n",
      "Epoch: 21 Train Loss: 2.68 Train Accuracy: 0.41\n",
      "Epoch: 22 Train Loss: 2.62 Train Accuracy: 0.42\n",
      "Epoch: 23 Train Loss: 2.56 Train Accuracy: 0.44\n",
      "Epoch: 24 Train Loss: 2.49 Train Accuracy: 0.45\n",
      "Epoch: 25 Train Loss: 2.45 Train Accuracy: 0.46\n",
      "Epoch: 26 Train Loss: 2.38 Train Accuracy: 0.48\n",
      "Epoch: 27 Train Loss: 2.34 Train Accuracy: 0.49\n",
      "Epoch: 28 Train Loss: 2.28 Train Accuracy: 0.50\n",
      "Epoch: 29 Train Loss: 2.24 Train Accuracy: 0.51\n",
      "Epoch: 30 Train Loss: 2.19 Train Accuracy: 0.52\n",
      "Epoch: 30 Train Loss: 2.19 Train Accuracy: 0.52 Test Loss: 2.13 Test Accuracy: 0.47\n"
     ]
    }
   ],
   "source": [
    "from tqdm import tqdm\n",
    "\n",
    "student_model = vgg11_bn_f(False,100)\n",
    "teacher_model_vgg16_bn = vgg16_bn_f(False,100)\n",
    "device = 'cuda' if torch.cuda.is_available() else 'cpu'\n",
    "teacher_model_vgg16_bn.load_state_dict(torch.load(\"teacher_model_vgg16_bn.pth\")) \n",
    "for param in student_model.parameters():\n",
    "    param.requires_grad = True          \n",
    "for param in teacher_model_vgg16_bn.parameters():\n",
    "    param.requires_grad = False\n",
    "teacher_model = teacher_model_vgg16_bn.to(device)\n",
    "student_model = student_model.to(device)\n",
    "optimizer = torch.optim.Adam(student_model.parameters(),lr=0.002)\n",
    "\n",
    "for epoch in (range(EPOCHS)):\n",
    "    tr_loss, tr_acc = train(student_model,teacher_model,train_loader,optimizer,device,types=\"lsr\")\n",
    "    tr_metric[\"Accuracy\"].append(tr_acc)\n",
    "    tr_metric[\"Loss\"].append(tr_loss)\n",
    "\n",
    "    print(\"Epoch: {} Train Loss: {:.2f} Train Accuracy: {:.2f}\".format(epoch+1, tr_loss, tr_acc))\n",
    "ts_loss, ts_acc = eval_f(student_model,test_loader,loss_func,device)\n",
    "ts_metric[\"Accuracy\"].append(ts_acc)\n",
    "ts_metric[\"Loss\"].append(ts_loss)\n",
    "print(\"Epoch: {} Train Loss: {:.2f} Train Accuracy: {:.2f} Test Loss: {:.2f} Test Accuracy: {:.2f}\".format(epoch+1, tr_loss, tr_acc, ts_loss, ts_acc))"
   ]
  },
  {
   "cell_type": "code",
   "execution_count": 84,
   "metadata": {},
   "outputs": [
    {
     "name": "stdout",
     "output_type": "stream",
     "text": [
      "Final Train Accuracy: 0.52384\n",
      "Final Test Accuracy: 0.4676\n",
      "Final Train Loss: 2.191634896618631\n",
      "Final Test Loss: 2.1344546998382374\n"
     ]
    }
   ],
   "source": [
    "print(\"Final Train Accuracy:\",tr_metric[\"Accuracy\"][-1])\n",
    "print(\"Final Test Accuracy:\",ts_metric[\"Accuracy\"][-1])\n",
    "print(\"Final Train Loss:\",tr_metric[\"Loss\"][-1])\n",
    "print(\"Final Test Loss:\",ts_metric[\"Loss\"][-1])"
   ]
  },
  {
   "cell_type": "code",
   "execution_count": 85,
   "metadata": {},
   "outputs": [],
   "source": [
    "pd.DataFrame(tr_metric).to_csv(\"vgg11_cifar100_lsr_tr.csv\") \n",
    "pd.DataFrame(ts_metric).to_csv(\"vgg11_cifar100_lsr_ts.csv\")"
   ]
  },
  {
   "cell_type": "code",
   "execution_count": 86,
   "metadata": {},
   "outputs": [],
   "source": [
    "torch.save(student_model.state_dict(),\"vgg11_cifar100_lsr.pth\")"
   ]
  },
  {
   "cell_type": "markdown",
   "metadata": {},
   "source": [
    "#### 3.2.1.3: Decoupled Knowledge Distillation"
   ]
  },
  {
   "cell_type": "code",
   "execution_count": 87,
   "metadata": {},
   "outputs": [
    {
     "name": "stderr",
     "output_type": "stream",
     "text": [
      "C:\\Users\\PCF\\AppData\\Local\\Temp\\ipykernel_25804\\3597643403.py:6: FutureWarning: You are using `torch.load` with `weights_only=False` (the current default value), which uses the default pickle module implicitly. It is possible to construct malicious pickle data which will execute arbitrary code during unpickling (See https://github.com/pytorch/pytorch/blob/main/SECURITY.md#untrusted-models for more details). In a future release, the default value for `weights_only` will be flipped to `True`. This limits the functions that could be executed during unpickling. Arbitrary objects will no longer be allowed to be loaded via this mode unless they are explicitly allowlisted by the user via `torch.serialization.add_safe_globals`. We recommend you start setting `weights_only=True` for any use case where you don't have full control of the loaded file. Please open an issue on GitHub for any issues related to this experimental feature.\n",
      "  teacher_model_vgg16_bn.load_state_dict(torch.load(\"teacher_model_vgg16_bn.pth\"))\n"
     ]
    },
    {
     "name": "stdout",
     "output_type": "stream",
     "text": [
      "Epoch: 1 Train Loss: 9.87 Train Accuracy: 0.04\n",
      "Epoch: 2 Train Loss: 9.06 Train Accuracy: 0.07\n",
      "Epoch: 3 Train Loss: 8.36 Train Accuracy: 0.10\n",
      "Epoch: 4 Train Loss: 7.72 Train Accuracy: 0.13\n",
      "Epoch: 5 Train Loss: 7.23 Train Accuracy: 0.16\n",
      "Epoch: 6 Train Loss: 6.83 Train Accuracy: 0.19\n",
      "Epoch: 7 Train Loss: 6.48 Train Accuracy: 0.21\n",
      "Epoch: 8 Train Loss: 6.15 Train Accuracy: 0.24\n",
      "Epoch: 9 Train Loss: 5.88 Train Accuracy: 0.27\n",
      "Epoch: 10 Train Loss: 5.62 Train Accuracy: 0.29\n",
      "Epoch: 11 Train Loss: 5.39 Train Accuracy: 0.31\n",
      "Epoch: 12 Train Loss: 5.17 Train Accuracy: 0.33\n",
      "Epoch: 13 Train Loss: 5.02 Train Accuracy: 0.35\n",
      "Epoch: 14 Train Loss: 4.83 Train Accuracy: 0.37\n",
      "Epoch: 15 Train Loss: 4.68 Train Accuracy: 0.39\n",
      "Epoch: 16 Train Loss: 4.53 Train Accuracy: 0.41\n",
      "Epoch: 17 Train Loss: 4.43 Train Accuracy: 0.42\n",
      "Epoch: 18 Train Loss: 4.29 Train Accuracy: 0.43\n",
      "Epoch: 19 Train Loss: 4.20 Train Accuracy: 0.44\n",
      "Epoch: 20 Train Loss: 4.11 Train Accuracy: 0.46\n",
      "Epoch: 21 Train Loss: 3.96 Train Accuracy: 0.47\n",
      "Epoch: 22 Train Loss: 3.89 Train Accuracy: 0.48\n",
      "Epoch: 23 Train Loss: 3.80 Train Accuracy: 0.49\n",
      "Epoch: 24 Train Loss: 3.74 Train Accuracy: 0.50\n",
      "Epoch: 25 Train Loss: 3.69 Train Accuracy: 0.51\n",
      "Epoch: 26 Train Loss: 3.60 Train Accuracy: 0.52\n",
      "Epoch: 27 Train Loss: 3.53 Train Accuracy: 0.53\n",
      "Epoch: 28 Train Loss: 3.48 Train Accuracy: 0.54\n",
      "Epoch: 29 Train Loss: 3.40 Train Accuracy: 0.55\n",
      "Epoch: 30 Train Loss: 3.36 Train Accuracy: 0.56\n",
      "Epoch: 30 Train Loss: 3.36 Train Accuracy: 0.56 Test Loss: 2.03 Test Accuracy: 0.50\n"
     ]
    }
   ],
   "source": [
    "from tqdm import tqdm\n",
    "\n",
    "student_model = vgg11_bn_f(False,100)\n",
    "teacher_model_vgg16_bn = vgg16_bn_f(False,100)\n",
    "device = 'cuda' if torch.cuda.is_available() else 'cpu'\n",
    "teacher_model_vgg16_bn.load_state_dict(torch.load(\"teacher_model_vgg16_bn.pth\")) \n",
    "for param in student_model.parameters():\n",
    "    param.requires_grad = True          \n",
    "for param in teacher_model_vgg16_bn.parameters():\n",
    "    param.requires_grad = False\n",
    "\n",
    "tr_metric = {\"Accuracy\":[],\"Loss\":[]}\n",
    "ts_metric = {\"Accuracy\":[],\"Loss\":[]}\n",
    "teacher_model = teacher_model_vgg16_bn.to(device)\n",
    "student_model = student_model.to(device)\n",
    "optimizer = torch.optim.Adam(student_model.parameters(),lr=0.002)\n",
    "loss_func = torch.nn.CrossEntropyLoss()\n",
    "for epoch in (range(EPOCHS)):\n",
    "    tr_loss, tr_acc = train(student_model,teacher_model,train_loader,optimizer,device,types=\"dkd\")\n",
    "    tr_metric[\"Accuracy\"].append(tr_acc)\n",
    "    tr_metric[\"Loss\"].append(tr_loss)\n",
    "\n",
    "    print(\"Epoch: {} Train Loss: {:.2f} Train Accuracy: {:.2f}\".format(epoch+1, tr_loss, tr_acc))\n",
    "ts_loss, ts_acc = eval_f(student_model,test_loader,loss_func,device)\n",
    "ts_metric[\"Accuracy\"].append(ts_acc)\n",
    "ts_metric[\"Loss\"].append(ts_loss)\n",
    "print(\"Epoch: {} Train Loss: {:.2f} Train Accuracy: {:.2f} Test Loss: {:.2f} Test Accuracy: {:.2f}\".format(epoch+1, tr_loss, tr_acc, ts_loss, ts_acc))"
   ]
  },
  {
   "cell_type": "code",
   "execution_count": 88,
   "metadata": {},
   "outputs": [
    {
     "name": "stdout",
     "output_type": "stream",
     "text": [
      "Final Train Accuracy: 0.55597997\n",
      "Final Test Accuracy: 0.4978\n",
      "Final Train Loss: 3.360415622096537\n",
      "Final Test Loss: 2.030430110396853\n"
     ]
    }
   ],
   "source": [
    "print(\"Final Train Accuracy:\",tr_metric[\"Accuracy\"][-1])\n",
    "print(\"Final Test Accuracy:\",ts_metric[\"Accuracy\"][-1])\n",
    "print(\"Final Train Loss:\",tr_metric[\"Loss\"][-1])\n",
    "print(\"Final Test Loss:\",ts_metric[\"Loss\"][-1])"
   ]
  },
  {
   "cell_type": "code",
   "execution_count": 89,
   "metadata": {},
   "outputs": [],
   "source": [
    "import pandas as pd\n",
    "pd.DataFrame(tr_metric).to_csv(\"vgg11_cifar100_dkd_tr.csv\") \n",
    "pd.DataFrame(ts_metric).to_csv(\"vgg11_cifar100_dkd_ts.csv\")"
   ]
  },
  {
   "cell_type": "code",
   "execution_count": 90,
   "metadata": {},
   "outputs": [],
   "source": [
    "torch.save(student_model.state_dict(),\"vgg11_cifar100_dkd.pth\")"
   ]
  }
 ],
 "metadata": {
  "kernelspec": {
   "display_name": "SProj",
   "language": "python",
   "name": "python3"
  },
  "language_info": {
   "codemirror_mode": {
    "name": "ipython",
    "version": 3
   },
   "file_extension": ".py",
   "mimetype": "text/x-python",
   "name": "python",
   "nbconvert_exporter": "python",
   "pygments_lexer": "ipython3",
   "version": "3.11.5"
  }
 },
 "nbformat": 4,
 "nbformat_minor": 2
}
