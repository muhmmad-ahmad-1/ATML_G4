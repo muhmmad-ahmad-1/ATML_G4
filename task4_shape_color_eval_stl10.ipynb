{
 "cells": [
  {
   "cell_type": "code",
   "execution_count": null,
   "metadata": {},
   "outputs": [],
   "source": [
    "from torchvision.datasets import STL10\n",
    "from models.transforms import RandomPatchTexture,Blur,DistortedTexture,Outline,Silhouette, Grayscale, CleanerSilhouette\n",
    "from torchvision import transforms\n",
    "import numpy as np\n",
    "import os\n",
    "import cv2"
   ]
  },
  {
   "cell_type": "code",
   "execution_count": null,
   "metadata": {},
   "outputs": [],
   "source": [
    "# Function to load binary files\n",
    "def load_stl10_bin(file, num_images, image_size=96, num_channels=3):\n",
    "    with open(file, 'rb') as f:\n",
    "        images = np.fromfile(f, dtype=np.uint8)\n",
    "        # Reshape to (num_images, num_channels, height, width)\n",
    "        images = images.reshape((num_images, num_channels, image_size, image_size))\n",
    "        # Reorder to (num_images, height, width, num_channels) to match typical image format\n",
    "        for im in images:\n",
    "            for i in range(num_channels):\n",
    "                im[i] = np.rot90(im[i], k=-1)\n",
    "        images = np.transpose(images, (0, 2, 3, 1))  # Convert to (num_images, H, W, C)\n",
    "        # for i in range(num_channels):\n",
    "        #     images[:,:,:,i] = np.rot90(images[:,:,i], k=-1)\n",
    "    return images\n",
    "\n",
    "# Load train and test datasets\n",
    "train_images = load_stl10_bin('data/stl10_binary/train_X.bin', num_images=5000)\n",
    "train_labels = np.fromfile('data/stl10_binary/train_y.bin', dtype=np.uint8)\n",
    "\n",
    "test_images = load_stl10_bin('data/stl10_binary/test_X.bin', num_images=8000)\n",
    "test_labels = np.fromfile('data/stl10_binary/test_y.bin', dtype=np.uint8)\n",
    "train_labels = train_labels - 1\n",
    "test_labels = test_labels - 1"
   ]
  },
  {
   "cell_type": "markdown",
   "metadata": {},
   "source": [
    "### Basic Evaluation"
   ]
  },
  {
   "cell_type": "code",
   "execution_count": null,
   "metadata": {},
   "outputs": [],
   "source": [
    "from models.model import ResNet50, ViTBase, CLIPModel\n",
    "from models.utils import train_step, eval_step, DataLoaders, CustomDataset\n",
    "from models.transforms import transforms_resnet,transforms_clip_vit, transforms_vit\n",
    "import torch\n",
    "import torch.nn as nn\n",
    "from torchvision.datasets import CIFAR10, CIFAR100, SVHN\n",
    "from tqdm import tqdm\n",
    "import pandas as pd\n",
    "import warnings\n",
    "warnings.filterwarnings(\"ignore\")\n",
    "BATCH_SIZE = 64\n",
    "N_EPOCHS = 3"
   ]
  },
  {
   "cell_type": "code",
   "execution_count": null,
   "metadata": {},
   "outputs": [],
   "source": [
    "def train_and_eval(train_loader,test_loader,model,loss_fn,optimizer,device,modeltype):\n",
    "    tr_metric = {\"Accuracy\":[],\"Loss\":[]}\n",
    "    ts_metric = {\"Accuracy\":[],\"Loss\":[]}\n",
    "\n",
    "    for epoch in tqdm(range(N_EPOCHS)):\n",
    "        tr_loss, tr_acc = train_step(model,train_loader,loss_fn,optimizer,device,modeltype,data='stl10')\n",
    "        ts_loss, ts_acc = eval_step(model,test_loader,loss_fn,device,modeltype,data=\"stl10\")\n",
    "\n",
    "        tr_metric[\"Accuracy\"].append(tr_acc)\n",
    "        tr_metric[\"Loss\"].append(tr_loss)\n",
    "\n",
    "        ts_metric[\"Accuracy\"].append(ts_acc)\n",
    "        ts_metric[\"Loss\"].append(ts_loss)\n",
    "    \n",
    "    return tr_metric, ts_metric"
   ]
  },
  {
   "cell_type": "code",
   "execution_count": null,
   "metadata": {},
   "outputs": [
    {
     "name": "stderr",
     "output_type": "stream",
     "text": [
      "100%|██████████| 3/3 [00:47<00:00, 15.99s/it]"
     ]
    },
    {
     "name": "stdout",
     "output_type": "stream",
     "text": [
      "Final Train Accuracy: 0.9612\n",
      "Final Test Accuracy: 0.95762503\n",
      "Final Train Loss: 0.2038042620767521\n",
      "Final Test Loss: 0.20766171097755431\n"
     ]
    },
    {
     "name": "stderr",
     "output_type": "stream",
     "text": [
      "\n"
     ]
    }
   ],
   "source": [
    "train = CustomDataset(train_images,train_labels,transforms_resnet)\n",
    "test = CustomDataset(test_images,test_labels,transforms_resnet)\n",
    "\n",
    "dl = DataLoaders(train,test,'resnet',BATCH_SIZE,True,'stl10')\n",
    "train_loader, test_loader = dl.get_loaders()\n",
    "\n",
    "resnet_model = ResNet50(n_classes=10)\n",
    "loss_func = nn.CrossEntropyLoss()\n",
    "optimizer = torch.optim.Adam(resnet_model.parameters())\n",
    "device = 'cuda' if torch.cuda.is_available() else 'cpu'\n",
    "\n",
    "\n",
    "tr,ts = train_and_eval(train_loader,test_loader,resnet_model,loss_func,optimizer,device,'resnet50')\n",
    "\n",
    "print(\"Final Train Accuracy:\",tr[\"Accuracy\"][-1])\n",
    "print(\"Final Test Accuracy:\",ts[\"Accuracy\"][-1])\n",
    "print(\"Final Train Loss:\",tr[\"Loss\"][-1])\n",
    "print(\"Final Test Loss:\",ts[\"Loss\"][-1])\n",
    "\n",
    "pd.DataFrame(tr).to_csv(\"stl10_resnet50_tr.csv\") \n",
    "pd.DataFrame(ts).to_csv(\"stl10_resnet50_ts.csv\")\n"
   ]
  },
  {
   "cell_type": "code",
   "execution_count": null,
   "metadata": {},
   "outputs": [],
   "source": [
    "torch.save(resnet_model.state_dict(), \"stl10_resnet50.pth\")"
   ]
  },
  {
   "cell_type": "code",
   "execution_count": null,
   "metadata": {},
   "outputs": [
    {
     "name": "stderr",
     "output_type": "stream",
     "text": [
      "100%|██████████| 3/3 [01:48<00:00, 36.12s/it]"
     ]
    },
    {
     "name": "stdout",
     "output_type": "stream",
     "text": [
      "Final Train Accuracy: 0.9992\n",
      "Final Test Accuracy: 0.9955\n",
      "Final Train Loss: 0.013579745930206926\n",
      "Final Test Loss: 0.021977469671517612\n"
     ]
    },
    {
     "name": "stderr",
     "output_type": "stream",
     "text": [
      "\n"
     ]
    }
   ],
   "source": [
    "train = CustomDataset(train_images,train_labels,transforms_vit)\n",
    "test = CustomDataset(test_images,test_labels,transforms_vit)\n",
    "\n",
    "dl = DataLoaders(train,test,'resnet',BATCH_SIZE,True,'STL10')\n",
    "train_loader, test_loader = dl.get_loaders()\n",
    "\n",
    "vit_model = ViTBase(n_classes=10)\n",
    "loss_func = nn.CrossEntropyLoss()\n",
    "optimizer = torch.optim.Adam(vit_model.parameters())\n",
    "device = 'cuda' if torch.cuda.is_available() else 'cpu'\n",
    "\n",
    "\n",
    "tr,ts = train_and_eval(train_loader,test_loader,vit_model,loss_func,optimizer,device,'vit')\n",
    "\n",
    "print(\"Final Train Accuracy:\",tr[\"Accuracy\"][-1])\n",
    "print(\"Final Test Accuracy:\",ts[\"Accuracy\"][-1])\n",
    "print(\"Final Train Loss:\",tr[\"Loss\"][-1])\n",
    "print(\"Final Test Loss:\",ts[\"Loss\"][-1])\n",
    "\n",
    "\n",
    "pd.DataFrame(tr).to_csv(\"stl10_vitbase_tr.csv\") \n",
    "pd.DataFrame(ts).to_csv(\"stl10_vitbase_ts.csv\")"
   ]
  },
  {
   "cell_type": "code",
   "execution_count": null,
   "metadata": {},
   "outputs": [],
   "source": [
    "torch.save(vit_model.state_dict(), \"stl10_vitbase.pth\")"
   ]
  },
  {
   "cell_type": "code",
   "execution_count": null,
   "metadata": {},
   "outputs": [
    {
     "name": "stderr",
     "output_type": "stream",
     "text": [
      "100%|██████████| 3/3 [01:02<00:00, 20.88s/it]"
     ]
    },
    {
     "name": "stdout",
     "output_type": "stream",
     "text": [
      "Final Train Accuracy: 0.98859996\n",
      "Final Test Accuracy: 0.98925006\n",
      "Final Train Loss: 0.6283798368134292\n",
      "Final Test Loss: 0.22787716377199824\n"
     ]
    },
    {
     "name": "stderr",
     "output_type": "stream",
     "text": [
      "\n"
     ]
    }
   ],
   "source": [
    "train = CustomDataset(train_images,train_labels)\n",
    "test = CustomDataset(test_images,test_labels)\n",
    "\n",
    "dl = DataLoaders(train,test,'clip',BATCH_SIZE,True,'stl10')\n",
    "train_loader, test_loader = dl.get_loaders()\n",
    "\n",
    "clip_model = CLIPModel(256)\n",
    "loss_func = nn.CrossEntropyLoss()\n",
    "optimizer = torch.optim.Adam(clip_model.parameters())\n",
    "device = 'cuda' if torch.cuda.is_available() else 'cpu'\n",
    "\n",
    "\n",
    "tr,ts = train_and_eval(train_loader,test_loader,clip_model,loss_func,optimizer,device,'clip')\n",
    "\n",
    "print(\"Final Train Accuracy:\",tr[\"Accuracy\"][-1])\n",
    "print(\"Final Test Accuracy:\",ts[\"Accuracy\"][-1])\n",
    "print(\"Final Train Loss:\",tr[\"Loss\"][-1])\n",
    "print(\"Final Test Loss:\",ts[\"Loss\"][-1])\n",
    "\n",
    "\n",
    "pd.DataFrame(tr).to_csv(\"stl10_clip_tr.csv\") \n",
    "pd.DataFrame(ts).to_csv(\"stl10_clip_ts.csv\")"
   ]
  },
  {
   "cell_type": "code",
   "execution_count": null,
   "metadata": {},
   "outputs": [],
   "source": [
    "torch.save(clip_model.state_dict(), \"stl10_clip.pth\")"
   ]
  },
  {
   "cell_type": "markdown",
   "metadata": {},
   "source": [
    "## Evaluating Shape Bias"
   ]
  },
  {
   "cell_type": "markdown",
   "metadata": {},
   "source": [
    "### Silhouettes"
   ]
  },
  {
   "cell_type": "code",
   "execution_count": null,
   "metadata": {},
   "outputs": [
    {
     "name": "stderr",
     "output_type": "stream",
     "text": [
      "100%|██████████| 3/3 [00:51<00:00, 17.14s/it]"
     ]
    },
    {
     "name": "stdout",
     "output_type": "stream",
     "text": [
      "Final Train Accuracy: 0.5572\n",
      "Final Test Accuracy: 0.50362504\n",
      "Final Train Loss: 1.307312656052505\n",
      "Final Test Loss: 1.3839964952468873\n"
     ]
    },
    {
     "name": "stderr",
     "output_type": "stream",
     "text": [
      "\n"
     ]
    }
   ],
   "source": [
    "train = CustomDataset(train_images,train_labels,transforms.Compose([Silhouette(),transforms_resnet]))\n",
    "test = CustomDataset(test_images,test_labels,transforms.Compose([Silhouette(),transforms_resnet]))\n",
    "BATCH_SIZE = 64\n",
    "N_EPOCHS = 3\n",
    "dl = DataLoaders(train,test,'resnet',BATCH_SIZE,True,'STL10')\n",
    "train_loader, test_loader = dl.get_loaders()\n",
    "\n",
    "vit_model = ResNet50(n_classes=10)\n",
    "loss_func = nn.CrossEntropyLoss()\n",
    "optimizer = torch.optim.Adam(vit_model.parameters())\n",
    "device = 'cuda' if torch.cuda.is_available() else 'cpu'\n",
    "\n",
    "\n",
    "tr,ts = train_and_eval(train_loader,test_loader,vit_model,loss_func,optimizer,device,'resnet50')\n",
    "\n",
    "print(\"Final Train Accuracy:\",tr[\"Accuracy\"][-1])\n",
    "print(\"Final Test Accuracy:\",ts[\"Accuracy\"][-1])\n",
    "print(\"Final Train Loss:\",tr[\"Loss\"][-1])\n",
    "print(\"Final Test Loss:\",ts[\"Loss\"][-1])\n"
   ]
  },
  {
   "cell_type": "code",
   "execution_count": null,
   "metadata": {},
   "outputs": [
    {
     "name": "stderr",
     "output_type": "stream",
     "text": [
      "100%|██████████| 3/3 [01:53<00:00, 37.80s/it]"
     ]
    },
    {
     "name": "stdout",
     "output_type": "stream",
     "text": [
      "Final Train Accuracy: 0.2872\n",
      "Final Test Accuracy: 0.28062502\n",
      "Final Train Loss: 1.916887268235412\n",
      "Final Test Loss: 1.9133425569534301\n"
     ]
    },
    {
     "name": "stderr",
     "output_type": "stream",
     "text": [
      "\n"
     ]
    }
   ],
   "source": [
    "train = CustomDataset(train_images,train_labels,transforms.Compose([Silhouette(),transforms_vit]))\n",
    "test = CustomDataset(test_images,test_labels,transforms.Compose([Silhouette(),transforms_vit]))\n",
    "BATCH_SIZE = 64\n",
    "N_EPOCHS = 3\n",
    "dl = DataLoaders(train,test,'vit',BATCH_SIZE,True,'stl10')\n",
    "train_loader, test_loader = dl.get_loaders()\n",
    "\n",
    "\n",
    "dl = DataLoaders(train,test,'resnet',BATCH_SIZE,True,'stl10')\n",
    "train_loader, test_loader = dl.get_loaders()\n",
    "\n",
    "vit_model = ViTBase(n_classes=10)\n",
    "loss_func = nn.CrossEntropyLoss()\n",
    "optimizer = torch.optim.Adam(vit_model.parameters())\n",
    "device = 'cuda' if torch.cuda.is_available() else 'cpu'\n",
    "\n",
    "\n",
    "tr,ts = train_and_eval(train_loader,test_loader,vit_model,loss_func,optimizer,device,'vit')\n",
    "\n",
    "print(\"Final Train Accuracy:\",tr[\"Accuracy\"][-1])\n",
    "print(\"Final Test Accuracy:\",ts[\"Accuracy\"][-1])\n",
    "print(\"Final Train Loss:\",tr[\"Loss\"][-1])\n",
    "print(\"Final Test Loss:\",ts[\"Loss\"][-1])\n"
   ]
  },
  {
   "cell_type": "code",
   "execution_count": null,
   "metadata": {},
   "outputs": [
    {
     "name": "stderr",
     "output_type": "stream",
     "text": [
      "100%|██████████| 3/3 [00:57<00:00, 19.24s/it]"
     ]
    },
    {
     "name": "stdout",
     "output_type": "stream",
     "text": [
      "Final Train Accuracy: 0.4052\n",
      "Final Test Accuracy: 0.45862502\n",
      "Final Train Loss: 4.243603162050247\n",
      "Final Test Loss: 1.9466484680175782\n"
     ]
    },
    {
     "name": "stderr",
     "output_type": "stream",
     "text": [
      "\n"
     ]
    }
   ],
   "source": [
    "train = CustomDataset(train_images,train_labels,Silhouette())\n",
    "test = CustomDataset(test_images,test_labels,Silhouette())\n",
    "BATCH_SIZE = 64\n",
    "N_EPOCHS = 3\n",
    "dl = DataLoaders(train,test,'clip',BATCH_SIZE,True,'stl10')\n",
    "train_loader, test_loader = dl.get_loaders()\n",
    "\n",
    "clip_model = CLIPModel(256)\n",
    "loss_func = nn.CrossEntropyLoss()\n",
    "optimizer = torch.optim.Adam(clip_model.parameters())\n",
    "device = 'cuda' if torch.cuda.is_available() else 'cpu'\n",
    "\n",
    "\n",
    "tr,ts = train_and_eval(train_loader,test_loader,clip_model,loss_func,optimizer,device,'clip')\n",
    "\n",
    "print(\"Final Train Accuracy:\",tr[\"Accuracy\"][-1])\n",
    "print(\"Final Test Accuracy:\",ts[\"Accuracy\"][-1])\n",
    "print(\"Final Train Loss:\",tr[\"Loss\"][-1])\n",
    "print(\"Final Test Loss:\",ts[\"Loss\"][-1])"
   ]
  },
  {
   "cell_type": "markdown",
   "metadata": {},
   "source": [
    "### Cleaner Silhouettes"
   ]
  },
  {
   "cell_type": "code",
   "execution_count": null,
   "metadata": {},
   "outputs": [
    {
     "name": "stderr",
     "output_type": "stream",
     "text": [
      "100%|██████████| 3/3 [01:08<00:00, 22.85s/it]"
     ]
    },
    {
     "name": "stdout",
     "output_type": "stream",
     "text": [
      "Final Train Accuracy: 0.473\n",
      "Final Test Accuracy: 0.42025003\n",
      "Final Train Loss: 1.522163572190683\n",
      "Final Test Loss: 1.5924991607666015\n"
     ]
    },
    {
     "name": "stderr",
     "output_type": "stream",
     "text": [
      "\n"
     ]
    }
   ],
   "source": [
    "train = CustomDataset(train_images,train_labels,transforms.Compose([CleanerSilhouette(),transforms_resnet]))\n",
    "test = CustomDataset(test_images,test_labels,transforms.Compose([CleanerSilhouette(),transforms_resnet]))\n",
    "BATCH_SIZE = 64\n",
    "N_EPOCHS = 3\n",
    "dl = DataLoaders(train,test,'resnet',BATCH_SIZE,True,'stl10')\n",
    "train_loader, test_loader = dl.get_loaders()\n",
    "\n",
    "vit_model = ResNet50(n_classes=10)\n",
    "loss_func = nn.CrossEntropyLoss()\n",
    "optimizer = torch.optim.Adam(vit_model.parameters())\n",
    "device = 'cuda' if torch.cuda.is_available() else 'cpu'\n",
    "\n",
    "\n",
    "tr,ts = train_and_eval(train_loader,test_loader,vit_model,loss_func,optimizer,device,'resnet50')\n",
    "\n",
    "print(\"Final Train Accuracy:\",tr[\"Accuracy\"][-1])\n",
    "print(\"Final Test Accuracy:\",ts[\"Accuracy\"][-1])\n",
    "print(\"Final Train Loss:\",tr[\"Loss\"][-1])\n",
    "print(\"Final Test Loss:\",ts[\"Loss\"][-1])\n"
   ]
  },
  {
   "cell_type": "code",
   "execution_count": null,
   "metadata": {},
   "outputs": [
    {
     "name": "stderr",
     "output_type": "stream",
     "text": [
      "100%|██████████| 3/3 [01:59<00:00, 39.92s/it]"
     ]
    },
    {
     "name": "stdout",
     "output_type": "stream",
     "text": [
      "Final Train Accuracy: 0.2572\n",
      "Final Test Accuracy: 0.28525\n",
      "Final Train Loss: 1.970516956305202\n",
      "Final Test Loss: 1.9025903387069703\n"
     ]
    },
    {
     "name": "stderr",
     "output_type": "stream",
     "text": [
      "\n"
     ]
    }
   ],
   "source": [
    "train = CustomDataset(train_images,train_labels,transforms.Compose([CleanerSilhouette(),transforms_vit]))\n",
    "test = CustomDataset(test_images,test_labels,transforms.Compose([CleanerSilhouette(),transforms_vit]))\n",
    "BATCH_SIZE = 64\n",
    "N_EPOCHS = 3\n",
    "dl = DataLoaders(train,test,'vit',BATCH_SIZE,True,'stl10')\n",
    "train_loader, test_loader = dl.get_loaders()\n",
    "\n",
    "\n",
    "dl = DataLoaders(train,test,'resnet',BATCH_SIZE,True,'stl10')\n",
    "train_loader, test_loader = dl.get_loaders()\n",
    "\n",
    "vit_model = ViTBase(n_classes=10)\n",
    "loss_func = nn.CrossEntropyLoss()\n",
    "optimizer = torch.optim.Adam(vit_model.parameters())\n",
    "device = 'cuda' if torch.cuda.is_available() else 'cpu'\n",
    "\n",
    "\n",
    "tr,ts = train_and_eval(train_loader,test_loader,vit_model,loss_func,optimizer,device,'vit')\n",
    "\n",
    "print(\"Final Train Accuracy:\",tr[\"Accuracy\"][-1])\n",
    "print(\"Final Test Accuracy:\",ts[\"Accuracy\"][-1])\n",
    "print(\"Final Train Loss:\",tr[\"Loss\"][-1])\n",
    "print(\"Final Test Loss:\",ts[\"Loss\"][-1])\n"
   ]
  },
  {
   "cell_type": "code",
   "execution_count": null,
   "metadata": {},
   "outputs": [
    {
     "name": "stderr",
     "output_type": "stream",
     "text": [
      "100%|██████████| 3/3 [00:59<00:00, 19.80s/it]"
     ]
    },
    {
     "name": "stdout",
     "output_type": "stream",
     "text": [
      "Final Train Accuracy: 0.3254\n",
      "Final Test Accuracy: 0.34337503\n",
      "Final Train Loss: 3.099897040605545\n",
      "Final Test Loss: 2.047487508773804\n"
     ]
    },
    {
     "name": "stderr",
     "output_type": "stream",
     "text": [
      "\n"
     ]
    }
   ],
   "source": [
    "train = CustomDataset(train_images,train_labels,CleanerSilhouette())\n",
    "test = CustomDataset(test_images,test_labels,CleanerSilhouette())\n",
    "BATCH_SIZE = 64\n",
    "N_EPOCHS = 3\n",
    "dl = DataLoaders(train,test,'clip',BATCH_SIZE,True,'stl10')\n",
    "train_loader, test_loader = dl.get_loaders()\n",
    "\n",
    "clip_model = CLIPModel(256)\n",
    "loss_func = nn.CrossEntropyLoss()\n",
    "optimizer = torch.optim.Adam(clip_model.parameters())\n",
    "device = 'cuda' if torch.cuda.is_available() else 'cpu'\n",
    "\n",
    "\n",
    "tr,ts = train_and_eval(train_loader,test_loader,clip_model,loss_func,optimizer,device,'clip')\n",
    "\n",
    "print(\"Final Train Accuracy:\",tr[\"Accuracy\"][-1])\n",
    "print(\"Final Test Accuracy:\",ts[\"Accuracy\"][-1])\n",
    "print(\"Final Train Loss:\",tr[\"Loss\"][-1])\n",
    "print(\"Final Test Loss:\",ts[\"Loss\"][-1])"
   ]
  },
  {
   "cell_type": "markdown",
   "metadata": {},
   "source": [
    "## GrayScale"
   ]
  },
  {
   "cell_type": "code",
   "execution_count": null,
   "metadata": {},
   "outputs": [
    {
     "name": "stderr",
     "output_type": "stream",
     "text": [
      "100%|██████████| 3/3 [00:50<00:00, 16.97s/it]"
     ]
    },
    {
     "name": "stdout",
     "output_type": "stream",
     "text": [
      "Final Train Accuracy: 0.921\n",
      "Final Test Accuracy: 0.90987504\n",
      "Final Train Loss: 0.33622876290656345\n",
      "Final Test Loss: 0.34240135622024537\n"
     ]
    },
    {
     "name": "stderr",
     "output_type": "stream",
     "text": [
      "\n"
     ]
    }
   ],
   "source": [
    "train = CustomDataset(train_images,train_labels,transforms.Compose([Grayscale(),transforms_resnet]))\n",
    "test = CustomDataset(test_images,test_labels,transforms.Compose([Grayscale(),transforms_resnet]))\n",
    "BATCH_SIZE = 64\n",
    "N_EPOCHS = 3\n",
    "dl = DataLoaders(train,test,'resnet',BATCH_SIZE,True,'STL10')\n",
    "train_loader, test_loader = dl.get_loaders()\n",
    "\n",
    "vit_model = ResNet50(n_classes=10)\n",
    "loss_func = nn.CrossEntropyLoss()\n",
    "optimizer = torch.optim.Adam(vit_model.parameters())\n",
    "device = 'cuda' if torch.cuda.is_available() else 'cpu'\n",
    "\n",
    "\n",
    "tr,ts = train_and_eval(train_loader,test_loader,vit_model,loss_func,optimizer,device,'resnet50')\n",
    "\n",
    "print(\"Final Train Accuracy:\",tr[\"Accuracy\"][-1])\n",
    "print(\"Final Test Accuracy:\",ts[\"Accuracy\"][-1])\n",
    "print(\"Final Train Loss:\",tr[\"Loss\"][-1])\n",
    "print(\"Final Test Loss:\",ts[\"Loss\"][-1])\n"
   ]
  },
  {
   "cell_type": "code",
   "execution_count": null,
   "metadata": {},
   "outputs": [
    {
     "name": "stderr",
     "output_type": "stream",
     "text": [
      "100%|██████████| 3/3 [01:53<00:00, 37.82s/it]"
     ]
    },
    {
     "name": "stdout",
     "output_type": "stream",
     "text": [
      "Final Train Accuracy: 0.99579996\n",
      "Final Test Accuracy: 0.990625\n",
      "Final Train Loss: 0.02246451720336004\n",
      "Final Test Loss: 0.0368765226714313\n"
     ]
    },
    {
     "name": "stderr",
     "output_type": "stream",
     "text": [
      "\n"
     ]
    }
   ],
   "source": [
    "train = CustomDataset(train_images,train_labels,transforms.Compose([Grayscale(),transforms_vit]))\n",
    "test = CustomDataset(test_images,test_labels,transforms.Compose([Grayscale(),transforms_vit]))\n",
    "BATCH_SIZE = 64\n",
    "N_EPOCHS = 3\n",
    "dl = DataLoaders(train,test,'vit',BATCH_SIZE,True,'stl10')\n",
    "train_loader, test_loader = dl.get_loaders()\n",
    "\n",
    "\n",
    "dl = DataLoaders(train,test,'resnet',BATCH_SIZE,True,'stl10')\n",
    "train_loader, test_loader = dl.get_loaders()\n",
    "\n",
    "vit_model = ViTBase(n_classes=10)\n",
    "loss_func = nn.CrossEntropyLoss()\n",
    "optimizer = torch.optim.Adam(vit_model.parameters())\n",
    "device = 'cuda' if torch.cuda.is_available() else 'cpu'\n",
    "\n",
    "\n",
    "tr,ts = train_and_eval(train_loader,test_loader,vit_model,loss_func,optimizer,device,'vit')\n",
    "\n",
    "print(\"Final Train Accuracy:\",tr[\"Accuracy\"][-1])\n",
    "print(\"Final Test Accuracy:\",ts[\"Accuracy\"][-1])\n",
    "print(\"Final Train Loss:\",tr[\"Loss\"][-1])\n",
    "print(\"Final Test Loss:\",ts[\"Loss\"][-1])\n"
   ]
  },
  {
   "cell_type": "code",
   "execution_count": null,
   "metadata": {},
   "outputs": [
    {
     "name": "stderr",
     "output_type": "stream",
     "text": [
      "100%|██████████| 3/3 [00:59<00:00, 19.90s/it]"
     ]
    },
    {
     "name": "stdout",
     "output_type": "stream",
     "text": [
      "Final Train Accuracy: 0.9738\n",
      "Final Test Accuracy: 0.97162503\n",
      "Final Train Loss: 0.7127005766789278\n",
      "Final Test Loss: 0.642673109424776\n"
     ]
    },
    {
     "name": "stderr",
     "output_type": "stream",
     "text": [
      "\n"
     ]
    }
   ],
   "source": [
    "train = CustomDataset(train_images,train_labels,Grayscale())\n",
    "test = CustomDataset(test_images,test_labels,Grayscale())\n",
    "BATCH_SIZE = 64\n",
    "N_EPOCHS = 3\n",
    "dl = DataLoaders(train,test,'clip',BATCH_SIZE,True,'stl10')\n",
    "train_loader, test_loader = dl.get_loaders()\n",
    "\n",
    "clip_model = CLIPModel(256)\n",
    "loss_func = nn.CrossEntropyLoss()\n",
    "optimizer = torch.optim.Adam(clip_model.parameters())\n",
    "device = 'cuda' if torch.cuda.is_available() else 'cpu'\n",
    "\n",
    "\n",
    "tr,ts = train_and_eval(train_loader,test_loader,clip_model,loss_func,optimizer,device,'clip')\n",
    "\n",
    "print(\"Final Train Accuracy:\",tr[\"Accuracy\"][-1])\n",
    "print(\"Final Test Accuracy:\",ts[\"Accuracy\"][-1])\n",
    "print(\"Final Train Loss:\",tr[\"Loss\"][-1])\n",
    "print(\"Final Test Loss:\",ts[\"Loss\"][-1])"
   ]
  },
  {
   "cell_type": "markdown",
   "metadata": {},
   "source": [
    "### Outline"
   ]
  },
  {
   "cell_type": "code",
   "execution_count": null,
   "metadata": {},
   "outputs": [
    {
     "name": "stderr",
     "output_type": "stream",
     "text": [
      "100%|██████████| 3/3 [01:28<00:00, 29.44s/it]"
     ]
    },
    {
     "name": "stdout",
     "output_type": "stream",
     "text": [
      "Final Train Accuracy: 0.5464\n",
      "Final Test Accuracy: 0.49462503\n",
      "Final Train Loss: 1.329365710668926\n",
      "Final Test Loss: 1.3969348745346069\n"
     ]
    },
    {
     "name": "stderr",
     "output_type": "stream",
     "text": [
      "\n"
     ]
    }
   ],
   "source": [
    "train = CustomDataset(train_images,train_labels,transforms.Compose([Outline(),transforms_resnet]))\n",
    "test = CustomDataset(test_images,test_labels,transforms.Compose([Outline(),transforms_resnet]))\n",
    "BATCH_SIZE = 64\n",
    "N_EPOCHS = 3\n",
    "dl = DataLoaders(train,test,'resnet',BATCH_SIZE,True,'STL10')\n",
    "train_loader, test_loader = dl.get_loaders()\n",
    "\n",
    "vit_model = ResNet50(n_classes=10)\n",
    "loss_func = nn.CrossEntropyLoss()\n",
    "optimizer = torch.optim.Adam(vit_model.parameters())\n",
    "device = 'cuda' if torch.cuda.is_available() else 'cpu'\n",
    "\n",
    "\n",
    "tr,ts = train_and_eval(train_loader,test_loader,vit_model,loss_func,optimizer,device,'resnet50')\n",
    "\n",
    "print(\"Final Train Accuracy:\",tr[\"Accuracy\"][-1])\n",
    "print(\"Final Test Accuracy:\",ts[\"Accuracy\"][-1])\n",
    "print(\"Final Train Loss:\",tr[\"Loss\"][-1])\n",
    "print(\"Final Test Loss:\",ts[\"Loss\"][-1])\n"
   ]
  },
  {
   "cell_type": "code",
   "execution_count": null,
   "metadata": {},
   "outputs": [
    {
     "name": "stderr",
     "output_type": "stream",
     "text": [
      "100%|██████████| 3/3 [03:01<00:00, 60.42s/it]"
     ]
    },
    {
     "name": "stdout",
     "output_type": "stream",
     "text": [
      "Final Train Accuracy: 0.6572\n",
      "Final Test Accuracy: 0.64837503\n",
      "Final Train Loss: 0.943323595614373\n",
      "Final Test Loss: 0.9639347290992737\n"
     ]
    },
    {
     "name": "stderr",
     "output_type": "stream",
     "text": [
      "\n"
     ]
    }
   ],
   "source": [
    "train = CustomDataset(train_images,train_labels,transforms.Compose([Outline(),transforms_vit]))\n",
    "test = CustomDataset(test_images,test_labels,transforms.Compose([Outline(),transforms_vit]))\n",
    "BATCH_SIZE = 64\n",
    "N_EPOCHS = 3\n",
    "dl = DataLoaders(train,test,'vit',BATCH_SIZE,True,'stl10')\n",
    "train_loader, test_loader = dl.get_loaders()\n",
    "\n",
    "\n",
    "dl = DataLoaders(train,test,'resnet',BATCH_SIZE,True,'stl10')\n",
    "train_loader, test_loader = dl.get_loaders()\n",
    "\n",
    "vit_model = ViTBase(n_classes=10)\n",
    "loss_func = nn.CrossEntropyLoss()\n",
    "optimizer = torch.optim.Adam(vit_model.parameters())\n",
    "device = 'cuda' if torch.cuda.is_available() else 'cpu'\n",
    "\n",
    "\n",
    "tr,ts = train_and_eval(train_loader,test_loader,vit_model,loss_func,optimizer,device,'vit')\n",
    "\n",
    "print(\"Final Train Accuracy:\",tr[\"Accuracy\"][-1])\n",
    "print(\"Final Test Accuracy:\",ts[\"Accuracy\"][-1])\n",
    "print(\"Final Train Loss:\",tr[\"Loss\"][-1])\n",
    "print(\"Final Test Loss:\",ts[\"Loss\"][-1])\n"
   ]
  },
  {
   "cell_type": "code",
   "execution_count": null,
   "metadata": {},
   "outputs": [
    {
     "name": "stderr",
     "output_type": "stream",
     "text": [
      "100%|██████████| 3/3 [00:58<00:00, 19.66s/it]"
     ]
    },
    {
     "name": "stdout",
     "output_type": "stream",
     "text": [
      "Final Train Accuracy: 0.5894\n",
      "Final Test Accuracy: 0.610875\n",
      "Final Train Loss: 3.163761470794678\n",
      "Final Test Loss: 1.990285180091858\n"
     ]
    },
    {
     "name": "stderr",
     "output_type": "stream",
     "text": [
      "\n"
     ]
    }
   ],
   "source": [
    "train = CustomDataset(train_images,train_labels,Outline())\n",
    "test = CustomDataset(test_images,test_labels,Outline())\n",
    "BATCH_SIZE = 64\n",
    "N_EPOCHS = 3\n",
    "dl = DataLoaders(train,test,'clip',BATCH_SIZE,True,'stl10')\n",
    "train_loader, test_loader = dl.get_loaders()\n",
    "\n",
    "clip_model = CLIPModel(256)\n",
    "loss_func = nn.CrossEntropyLoss()\n",
    "optimizer = torch.optim.Adam(clip_model.parameters())\n",
    "device = 'cuda' if torch.cuda.is_available() else 'cpu'\n",
    "\n",
    "\n",
    "tr,ts = train_and_eval(train_loader,test_loader,clip_model,loss_func,optimizer,device,'clip')\n",
    "\n",
    "print(\"Final Train Accuracy:\",tr[\"Accuracy\"][-1])\n",
    "print(\"Final Test Accuracy:\",ts[\"Accuracy\"][-1])\n",
    "print(\"Final Train Loss:\",tr[\"Loss\"][-1])\n",
    "print(\"Final Test Loss:\",ts[\"Loss\"][-1])"
   ]
  },
  {
   "cell_type": "markdown",
   "metadata": {},
   "source": [
    "## Color Bias"
   ]
  },
  {
   "cell_type": "markdown",
   "metadata": {},
   "source": [
    "#### Color Only (Blur)"
   ]
  },
  {
   "cell_type": "code",
   "execution_count": null,
   "metadata": {},
   "outputs": [
    {
     "name": "stderr",
     "output_type": "stream",
     "text": [
      "100%|██████████| 5/5 [01:57<00:00, 23.49s/it]"
     ]
    },
    {
     "name": "stdout",
     "output_type": "stream",
     "text": [
      "Final Train Accuracy: 0.5652\n",
      "Final Test Accuracy: 0.49050003\n",
      "Final Train Loss: 1.280713460113429\n",
      "Final Test Loss: 1.4199786157608032\n"
     ]
    },
    {
     "name": "stderr",
     "output_type": "stream",
     "text": [
      "\n"
     ]
    }
   ],
   "source": [
    "train = CustomDataset(train_images,train_labels,transforms.Compose([Blur(),transforms_resnet]))\n",
    "test = CustomDataset(test_images,test_labels,transforms.Compose([Blur(),transforms_resnet]))\n",
    "BATCH_SIZE = 64\n",
    "N_EPOCHS = 5\n",
    "dl = DataLoaders(train,test,'resnet',BATCH_SIZE,True,'STL10')\n",
    "train_loader, test_loader = dl.get_loaders()\n",
    "\n",
    "vit_model = ResNet50(n_classes=10)\n",
    "loss_func = nn.CrossEntropyLoss()\n",
    "optimizer = torch.optim.Adam(vit_model.parameters())\n",
    "device = 'cuda' if torch.cuda.is_available() else 'cpu'\n",
    "\n",
    "\n",
    "tr,ts = train_and_eval(train_loader,test_loader,vit_model,loss_func,optimizer,device,'resnet50')\n",
    "\n",
    "print(\"Final Train Accuracy:\",tr[\"Accuracy\"][-1])\n",
    "print(\"Final Test Accuracy:\",ts[\"Accuracy\"][-1])\n",
    "print(\"Final Train Loss:\",tr[\"Loss\"][-1])\n",
    "print(\"Final Test Loss:\",ts[\"Loss\"][-1])\n"
   ]
  },
  {
   "cell_type": "code",
   "execution_count": null,
   "metadata": {},
   "outputs": [
    {
     "name": "stderr",
     "output_type": "stream",
     "text": [
      "100%|██████████| 5/5 [03:29<00:00, 41.84s/it]"
     ]
    },
    {
     "name": "stdout",
     "output_type": "stream",
     "text": [
      "Final Train Accuracy: 0.7104\n",
      "Final Test Accuracy: 0.63525003\n",
      "Final Train Loss: 0.8065641024444676\n",
      "Final Test Loss: 1.0181063580513001\n"
     ]
    },
    {
     "name": "stderr",
     "output_type": "stream",
     "text": [
      "\n"
     ]
    }
   ],
   "source": [
    "train = CustomDataset(train_images,train_labels,transforms.Compose([Blur(),transforms_vit]))\n",
    "test = CustomDataset(test_images,test_labels,transforms.Compose([Blur(),transforms_vit]))\n",
    "BATCH_SIZE = 64\n",
    "N_EPOCHS = 5\n",
    "dl = DataLoaders(train,test,'vit',BATCH_SIZE,True,'stl10')\n",
    "train_loader, test_loader = dl.get_loaders()\n",
    "\n",
    "\n",
    "dl = DataLoaders(train,test,'resnet',BATCH_SIZE,True,'stl10')\n",
    "train_loader, test_loader = dl.get_loaders()\n",
    "\n",
    "vit_model = ViTBase(n_classes=10)\n",
    "loss_func = nn.CrossEntropyLoss()\n",
    "optimizer = torch.optim.Adam(vit_model.parameters())\n",
    "device = 'cuda' if torch.cuda.is_available() else 'cpu'\n",
    "\n",
    "\n",
    "tr,ts = train_and_eval(train_loader,test_loader,vit_model,loss_func,optimizer,device,'vit')\n",
    "\n",
    "print(\"Final Train Accuracy:\",tr[\"Accuracy\"][-1])\n",
    "print(\"Final Test Accuracy:\",ts[\"Accuracy\"][-1])\n",
    "print(\"Final Train Loss:\",tr[\"Loss\"][-1])\n",
    "print(\"Final Test Loss:\",ts[\"Loss\"][-1])\n"
   ]
  },
  {
   "cell_type": "code",
   "execution_count": null,
   "metadata": {},
   "outputs": [
    {
     "name": "stderr",
     "output_type": "stream",
     "text": [
      "100%|██████████| 3/3 [01:00<00:00, 20.29s/it]"
     ]
    },
    {
     "name": "stdout",
     "output_type": "stream",
     "text": [
      "Final Train Accuracy: 0.5388\n",
      "Final Test Accuracy: 0.525375\n",
      "Final Train Loss: 3.8173225779533384\n",
      "Final Test Loss: 2.4905688419342042\n"
     ]
    },
    {
     "name": "stderr",
     "output_type": "stream",
     "text": [
      "\n"
     ]
    }
   ],
   "source": [
    "train = CustomDataset(train_images,train_labels,Blur())\n",
    "test = CustomDataset(test_images,test_labels,Blur())\n",
    "BATCH_SIZE = 64\n",
    "N_EPOCHS = 3\n",
    "dl = DataLoaders(train,test,'clip',BATCH_SIZE,True,'stl10')\n",
    "train_loader, test_loader = dl.get_loaders()\n",
    "\n",
    "clip_model = CLIPModel(256)\n",
    "loss_func = nn.CrossEntropyLoss()\n",
    "optimizer = torch.optim.Adam(clip_model.parameters())\n",
    "device = 'cuda' if torch.cuda.is_available() else 'cpu'\n",
    "\n",
    "tr,ts = train_and_eval(train_loader,test_loader,clip_model,loss_func,optimizer,device,'clip')\n",
    "\n",
    "print(\"Final Train Accuracy:\",tr[\"Accuracy\"][-1])\n",
    "print(\"Final Test Accuracy:\",ts[\"Accuracy\"][-1])\n",
    "print(\"Final Train Loss:\",tr[\"Loss\"][-1])\n",
    "print(\"Final Test Loss:\",ts[\"Loss\"][-1])"
   ]
  },
  {
   "cell_type": "markdown",
   "metadata": {},
   "source": [
    "## Texture"
   ]
  },
  {
   "cell_type": "markdown",
   "metadata": {},
   "source": [
    "### Random Patch Texture"
   ]
  },
  {
   "cell_type": "code",
   "execution_count": null,
   "metadata": {},
   "outputs": [
    {
     "name": "stderr",
     "output_type": "stream",
     "text": [
      "100%|██████████| 3/3 [01:15<00:00, 25.01s/it]"
     ]
    },
    {
     "name": "stdout",
     "output_type": "stream",
     "text": [
      "Final Train Accuracy: 0.6806\n",
      "Final Test Accuracy: 0.692375\n",
      "Final Train Loss: 1.0060998389992533\n",
      "Final Test Loss: 0.9605254735946656\n"
     ]
    },
    {
     "name": "stderr",
     "output_type": "stream",
     "text": [
      "\n"
     ]
    }
   ],
   "source": [
    "train = CustomDataset(train_images,train_labels,transforms.Compose([RandomPatchTexture(),transforms_resnet]))\n",
    "test = CustomDataset(test_images,test_labels,transforms.Compose([RandomPatchTexture(),transforms_resnet]))\n",
    "BATCH_SIZE = 64\n",
    "N_EPOCHS = 3\n",
    "dl = DataLoaders(train,test,'resnet',BATCH_SIZE,True,'STL10')\n",
    "train_loader, test_loader = dl.get_loaders()\n",
    "\n",
    "vit_model = ResNet50(n_classes=10)\n",
    "loss_func = nn.CrossEntropyLoss()\n",
    "optimizer = torch.optim.Adam(vit_model.parameters())\n",
    "device = 'cuda' if torch.cuda.is_available() else 'cpu'\n",
    "\n",
    "\n",
    "tr,ts = train_and_eval(train_loader,test_loader,vit_model,loss_func,optimizer,device,'resnet50')\n",
    "\n",
    "print(\"Final Train Accuracy:\",tr[\"Accuracy\"][-1])\n",
    "print(\"Final Test Accuracy:\",ts[\"Accuracy\"][-1])\n",
    "print(\"Final Train Loss:\",tr[\"Loss\"][-1])\n",
    "print(\"Final Test Loss:\",ts[\"Loss\"][-1])\n"
   ]
  },
  {
   "cell_type": "code",
   "execution_count": null,
   "metadata": {},
   "outputs": [
    {
     "name": "stderr",
     "output_type": "stream",
     "text": [
      "100%|██████████| 3/3 [03:17<00:00, 65.86s/it]"
     ]
    },
    {
     "name": "stdout",
     "output_type": "stream",
     "text": [
      "Final Train Accuracy: 0.9666\n",
      "Final Test Accuracy: 0.96000004\n",
      "Final Train Loss: 0.10508971938368263\n",
      "Final Test Loss: 0.12228052461147308\n"
     ]
    },
    {
     "name": "stderr",
     "output_type": "stream",
     "text": [
      "\n"
     ]
    }
   ],
   "source": [
    "train = CustomDataset(train_images,train_labels,transforms.Compose([RandomPatchTexture(),transforms_vit]))\n",
    "test = CustomDataset(test_images,test_labels,transforms.Compose([RandomPatchTexture(),transforms_vit]))\n",
    "BATCH_SIZE = 64\n",
    "N_EPOCHS = 3\n",
    "dl = DataLoaders(train,test,'vit',BATCH_SIZE,True,'stl10')\n",
    "train_loader, test_loader = dl.get_loaders()\n",
    "\n",
    "\n",
    "dl = DataLoaders(train,test,'resnet',BATCH_SIZE,True,'stl10')\n",
    "train_loader, test_loader = dl.get_loaders()\n",
    "\n",
    "vit_model = ViTBase(n_classes=10)\n",
    "loss_func = nn.CrossEntropyLoss()\n",
    "optimizer = torch.optim.Adam(vit_model.parameters())\n",
    "device = 'cuda' if torch.cuda.is_available() else 'cpu'\n",
    "\n",
    "\n",
    "tr,ts = train_and_eval(train_loader,test_loader,vit_model,loss_func,optimizer,device,'vit')\n",
    "\n",
    "print(\"Final Train Accuracy:\",tr[\"Accuracy\"][-1])\n",
    "print(\"Final Test Accuracy:\",ts[\"Accuracy\"][-1])\n",
    "print(\"Final Train Loss:\",tr[\"Loss\"][-1])\n",
    "print(\"Final Test Loss:\",ts[\"Loss\"][-1])\n"
   ]
  },
  {
   "cell_type": "code",
   "execution_count": null,
   "metadata": {},
   "outputs": [
    {
     "name": "stderr",
     "output_type": "stream",
     "text": [
      "100%|██████████| 3/3 [01:40<00:00, 33.49s/it]"
     ]
    },
    {
     "name": "stdout",
     "output_type": "stream",
     "text": [
      "Final Train Accuracy: 0.8272\n",
      "Final Test Accuracy: 0.88487506\n",
      "Final Train Loss: 2.702853464268148\n",
      "Final Test Loss: 0.7691263668537139\n"
     ]
    },
    {
     "name": "stderr",
     "output_type": "stream",
     "text": [
      "\n"
     ]
    }
   ],
   "source": [
    "train = CustomDataset(train_images,train_labels,RandomPatchTexture())\n",
    "test = CustomDataset(test_images,test_labels,RandomPatchTexture())\n",
    "BATCH_SIZE = 64\n",
    "N_EPOCHS = 3\n",
    "dl = DataLoaders(train,test,'clip',BATCH_SIZE,True,'stl10')\n",
    "train_loader, test_loader = dl.get_loaders()\n",
    "\n",
    "clip_model = CLIPModel(256)\n",
    "loss_func = nn.CrossEntropyLoss()\n",
    "optimizer = torch.optim.Adam(clip_model.parameters())\n",
    "device = 'cuda' if torch.cuda.is_available() else 'cpu'\n",
    "\n",
    "\n",
    "tr,ts = train_and_eval(train_loader,test_loader,clip_model,loss_func,optimizer,device,'clip')\n",
    "\n",
    "print(\"Final Train Accuracy:\",tr[\"Accuracy\"][-1])\n",
    "print(\"Final Test Accuracy:\",ts[\"Accuracy\"][-1])\n",
    "print(\"Final Train Loss:\",tr[\"Loss\"][-1])\n",
    "print(\"Final Test Loss:\",ts[\"Loss\"][-1])"
   ]
  },
  {
   "cell_type": "markdown",
   "metadata": {},
   "source": [
    "### Distorted Texture"
   ]
  },
  {
   "cell_type": "code",
   "execution_count": null,
   "metadata": {},
   "outputs": [
    {
     "name": "stderr",
     "output_type": "stream",
     "text": [
      "100%|██████████| 3/3 [01:47<00:00, 35.97s/it]"
     ]
    },
    {
     "name": "stdout",
     "output_type": "stream",
     "text": [
      "Final Train Accuracy: 0.5704\n",
      "Final Test Accuracy: 0.57412505\n",
      "Final Train Loss: 1.2555050744286067\n",
      "Final Test Loss: 1.2385056047439575\n"
     ]
    },
    {
     "name": "stderr",
     "output_type": "stream",
     "text": [
      "\n"
     ]
    }
   ],
   "source": [
    "train = CustomDataset(train_images,train_labels,transforms.Compose([DistortedTexture(),transforms_resnet]))\n",
    "test = CustomDataset(test_images,test_labels,transforms.Compose([DistortedTexture(),transforms_resnet]))\n",
    "BATCH_SIZE = 64\n",
    "N_EPOCHS = 3\n",
    "dl = DataLoaders(train,test,'resnet',BATCH_SIZE,True,'STL10')\n",
    "train_loader, test_loader = dl.get_loaders()\n",
    "\n",
    "vit_model = ResNet50(n_classes=10)\n",
    "loss_func = nn.CrossEntropyLoss()\n",
    "optimizer = torch.optim.Adam(vit_model.parameters())\n",
    "device = 'cuda' if torch.cuda.is_available() else 'cpu'\n",
    "\n",
    "\n",
    "tr,ts = train_and_eval(train_loader,test_loader,vit_model,loss_func,optimizer,device,'resnet50')\n",
    "\n",
    "print(\"Final Train Accuracy:\",tr[\"Accuracy\"][-1])\n",
    "print(\"Final Test Accuracy:\",ts[\"Accuracy\"][-1])\n",
    "print(\"Final Train Loss:\",tr[\"Loss\"][-1])\n",
    "print(\"Final Test Loss:\",ts[\"Loss\"][-1])\n"
   ]
  },
  {
   "cell_type": "code",
   "execution_count": null,
   "metadata": {},
   "outputs": [
    {
     "name": "stderr",
     "output_type": "stream",
     "text": [
      "100%|██████████| 3/3 [03:32<00:00, 70.78s/it]"
     ]
    },
    {
     "name": "stdout",
     "output_type": "stream",
     "text": [
      "Final Train Accuracy: 0.7718\n",
      "Final Test Accuracy: 0.75000006\n",
      "Final Train Loss: 0.6663193001022821\n",
      "Final Test Loss: 0.7112998473644256\n"
     ]
    },
    {
     "name": "stderr",
     "output_type": "stream",
     "text": [
      "\n"
     ]
    }
   ],
   "source": [
    "train = CustomDataset(train_images,train_labels,transforms.Compose([DistortedTexture(),transforms_vit]))\n",
    "test = CustomDataset(test_images,test_labels,transforms.Compose([DistortedTexture(),transforms_vit]))\n",
    "BATCH_SIZE = 64\n",
    "N_EPOCHS = 3\n",
    "dl = DataLoaders(train,test,'vit',BATCH_SIZE,True,'stl10')\n",
    "train_loader, test_loader = dl.get_loaders()\n",
    "\n",
    "\n",
    "dl = DataLoaders(train,test,'resnet',BATCH_SIZE,True,'stl10')\n",
    "train_loader, test_loader = dl.get_loaders()\n",
    "\n",
    "vit_model = ViTBase(n_classes=10)\n",
    "loss_func = nn.CrossEntropyLoss()\n",
    "optimizer = torch.optim.Adam(vit_model.parameters())\n",
    "device = 'cuda' if torch.cuda.is_available() else 'cpu'\n",
    "\n",
    "\n",
    "tr,ts = train_and_eval(train_loader,test_loader,vit_model,loss_func,optimizer,device,'vit')\n",
    "\n",
    "print(\"Final Train Accuracy:\",tr[\"Accuracy\"][-1])\n",
    "print(\"Final Test Accuracy:\",ts[\"Accuracy\"][-1])\n",
    "print(\"Final Train Loss:\",tr[\"Loss\"][-1])\n",
    "print(\"Final Test Loss:\",ts[\"Loss\"][-1])\n"
   ]
  },
  {
   "cell_type": "code",
   "execution_count": null,
   "metadata": {},
   "outputs": [
    {
     "name": "stderr",
     "output_type": "stream",
     "text": [
      "100%|██████████| 3/3 [01:01<00:00, 20.63s/it]"
     ]
    },
    {
     "name": "stdout",
     "output_type": "stream",
     "text": [
      "Final Train Accuracy: 0.5956\n",
      "Final Test Accuracy: 0.59662503\n",
      "Final Train Loss: 4.486887735009193\n",
      "Final Test Loss: 2.711590178489685\n"
     ]
    },
    {
     "name": "stderr",
     "output_type": "stream",
     "text": [
      "\n"
     ]
    }
   ],
   "source": [
    "train = CustomDataset(train_images,train_labels,DistortedTexture())\n",
    "test = CustomDataset(test_images,test_labels,DistortedTexture())\n",
    "BATCH_SIZE = 64\n",
    "N_EPOCHS = 3\n",
    "dl = DataLoaders(train,test,'clip',BATCH_SIZE,True,'stl10')\n",
    "train_loader, test_loader = dl.get_loaders()\n",
    "\n",
    "clip_model = CLIPModel(256)\n",
    "loss_func = nn.CrossEntropyLoss()\n",
    "optimizer = torch.optim.Adam(clip_model.parameters())\n",
    "device = 'cuda' if torch.cuda.is_available() else 'cpu'\n",
    "\n",
    "\n",
    "tr,ts = train_and_eval(train_loader,test_loader,clip_model,loss_func,optimizer,device,'clip')\n",
    "\n",
    "print(\"Final Train Accuracy:\",tr[\"Accuracy\"][-1])\n",
    "print(\"Final Test Accuracy:\",ts[\"Accuracy\"][-1])\n",
    "print(\"Final Train Loss:\",tr[\"Loss\"][-1])\n",
    "print(\"Final Test Loss:\",ts[\"Loss\"][-1])"
   ]
  }
 ],
 "metadata": {
  "language_info": {
   "name": "python"
  }
 },
 "nbformat": 4,
 "nbformat_minor": 2
}
