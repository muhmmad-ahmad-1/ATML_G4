{
 "cells": [
  {
   "cell_type": "code",
   "execution_count": 1,
   "metadata": {},
   "outputs": [
    {
     "name": "stdout",
     "output_type": "stream",
     "text": [
      "Files already downloaded and verified\n",
      "Files already downloaded and verified\n"
     ]
    }
   ],
   "source": [
    "from models import *\n",
    "from utils import  *\n",
    "import torch\n",
    "import warnings\n",
    "warnings.filterwarnings(\"ignore\")\n",
    "import pandas as pd\n",
    "from tqdm import tqdm"
   ]
  },
  {
   "cell_type": "code",
   "execution_count": 5,
   "metadata": {},
   "outputs": [
    {
     "name": "stdout",
     "output_type": "stream",
     "text": [
      "Epoch: 1 Train Loss: 4.50 Train Accuracy: 0.02\n",
      "Epoch: 2 Train Loss: 4.33 Train Accuracy: 0.03\n",
      "Epoch: 3 Train Loss: 4.24 Train Accuracy: 0.03\n",
      "Epoch: 4 Train Loss: 4.14 Train Accuracy: 0.04\n",
      "Epoch: 5 Train Loss: 4.06 Train Accuracy: 0.05\n",
      "Epoch: 6 Train Loss: 3.99 Train Accuracy: 0.06\n",
      "Epoch: 7 Train Loss: 3.91 Train Accuracy: 0.07\n",
      "Epoch: 8 Train Loss: 3.83 Train Accuracy: 0.07\n",
      "Epoch: 9 Train Loss: 3.75 Train Accuracy: 0.08\n",
      "Epoch: 10 Train Loss: 3.70 Train Accuracy: 0.08\n",
      "Epoch: 11 Train Loss: 3.62 Train Accuracy: 0.09\n",
      "Epoch: 12 Train Loss: 3.56 Train Accuracy: 0.10\n",
      "Epoch: 13 Train Loss: 3.52 Train Accuracy: 0.11\n",
      "Epoch: 14 Train Loss: 3.69 Train Accuracy: 0.10\n",
      "Epoch: 15 Train Loss: 3.61 Train Accuracy: 0.10\n",
      "Epoch: 16 Train Loss: 3.55 Train Accuracy: 0.11\n",
      "Epoch: 17 Train Loss: 3.49 Train Accuracy: 0.12\n",
      "Epoch: 18 Train Loss: 3.42 Train Accuracy: 0.13\n",
      "Epoch: 19 Train Loss: 3.43 Train Accuracy: 0.12\n",
      "Epoch: 20 Train Loss: 3.34 Train Accuracy: 0.13\n",
      "Epoch: 21 Train Loss: 3.38 Train Accuracy: 0.13\n",
      "Epoch: 22 Train Loss: 3.27 Train Accuracy: 0.15\n",
      "Epoch: 23 Train Loss: 3.27 Train Accuracy: 0.15\n",
      "Epoch: 24 Train Loss: 3.27 Train Accuracy: 0.15\n",
      "Epoch: 25 Train Loss: 3.19 Train Accuracy: 0.16\n",
      "Epoch: 26 Train Loss: 3.38 Train Accuracy: 0.14\n",
      "Epoch: 27 Train Loss: 3.15 Train Accuracy: 0.17\n",
      "Epoch: 28 Train Loss: 3.11 Train Accuracy: 0.18\n",
      "Epoch: 29 Train Loss: 3.25 Train Accuracy: 0.16\n",
      "Epoch: 30 Train Loss: 3.19 Train Accuracy: 0.17\n",
      "Epoch: 31 Train Loss: 3.12 Train Accuracy: 0.18\n",
      "Epoch: 32 Train Loss: 3.07 Train Accuracy: 0.19\n",
      "Epoch: 33 Train Loss: 3.03 Train Accuracy: 0.19\n",
      "Epoch: 34 Train Loss: 3.09 Train Accuracy: 0.18\n",
      "Epoch: 35 Train Loss: 3.07 Train Accuracy: 0.19\n",
      "Epoch: 36 Train Loss: 3.01 Train Accuracy: 0.20\n",
      "Epoch: 37 Train Loss: 3.00 Train Accuracy: 0.20\n",
      "Epoch: 38 Train Loss: 3.00 Train Accuracy: 0.20\n",
      "Epoch: 39 Train Loss: 3.05 Train Accuracy: 0.20\n",
      "Epoch: 40 Train Loss: 2.97 Train Accuracy: 0.21\n",
      "Epoch: 41 Train Loss: 2.93 Train Accuracy: 0.22\n",
      "Epoch: 42 Train Loss: 2.91 Train Accuracy: 0.22\n",
      "Epoch: 43 Train Loss: 2.88 Train Accuracy: 0.22\n",
      "Epoch: 44 Train Loss: 2.83 Train Accuracy: 0.23\n",
      "Epoch: 45 Train Loss: 2.84 Train Accuracy: 0.23\n",
      "Epoch: 46 Train Loss: 2.83 Train Accuracy: 0.24\n",
      "Epoch: 47 Train Loss: 2.90 Train Accuracy: 0.23\n",
      "Epoch: 48 Train Loss: 2.86 Train Accuracy: 0.23\n",
      "Epoch: 49 Train Loss: 2.77 Train Accuracy: 0.25\n",
      "Epoch: 50 Train Loss: 2.90 Train Accuracy: 0.23\n",
      "Epoch: 51 Train Loss: 3.05 Train Accuracy: 0.20\n",
      "Epoch: 52 Train Loss: 2.92 Train Accuracy: 0.23\n",
      "Epoch: 53 Train Loss: 3.00 Train Accuracy: 0.22\n",
      "Epoch: 54 Train Loss: 2.96 Train Accuracy: 0.22\n",
      "Epoch: 55 Train Loss: 2.96 Train Accuracy: 0.22\n",
      "Epoch: 56 Train Loss: 2.89 Train Accuracy: 0.23\n",
      "Epoch: 57 Train Loss: 2.83 Train Accuracy: 0.24\n",
      "Epoch: 58 Train Loss: 2.85 Train Accuracy: 0.24\n",
      "Epoch: 59 Train Loss: 2.78 Train Accuracy: 0.26\n",
      "Epoch: 60 Train Loss: 2.97 Train Accuracy: 0.23\n",
      "Epoch: 61 Train Loss: 2.83 Train Accuracy: 0.25\n",
      "Epoch: 62 Train Loss: 2.86 Train Accuracy: 0.25\n",
      "Epoch: 63 Train Loss: 2.92 Train Accuracy: 0.23\n",
      "Epoch: 64 Train Loss: 2.79 Train Accuracy: 0.25\n",
      "Epoch: 65 Train Loss: 2.79 Train Accuracy: 0.25\n",
      "Epoch: 66 Train Loss: 2.80 Train Accuracy: 0.25\n",
      "Epoch: 67 Train Loss: 2.69 Train Accuracy: 0.27\n",
      "Epoch: 68 Train Loss: 2.75 Train Accuracy: 0.26\n",
      "Epoch: 69 Train Loss: 2.66 Train Accuracy: 0.28\n",
      "Epoch: 70 Train Loss: 2.79 Train Accuracy: 0.26\n",
      "Epoch: 71 Train Loss: 2.85 Train Accuracy: 0.25\n",
      "Epoch: 72 Train Loss: 2.69 Train Accuracy: 0.27\n",
      "Epoch: 73 Train Loss: 2.78 Train Accuracy: 0.26\n",
      "Epoch: 74 Train Loss: 2.80 Train Accuracy: 0.26\n",
      "Epoch: 75 Train Loss: 2.64 Train Accuracy: 0.29\n",
      "Epoch: 76 Train Loss: 2.51 Train Accuracy: 0.31\n",
      "Epoch: 77 Train Loss: 2.46 Train Accuracy: 0.32\n",
      "Epoch: 78 Train Loss: 2.42 Train Accuracy: 0.33\n",
      "Epoch: 79 Train Loss: 2.41 Train Accuracy: 0.33\n",
      "Epoch: 80 Train Loss: 2.38 Train Accuracy: 0.34\n",
      "Epoch: 81 Train Loss: 2.36 Train Accuracy: 0.35\n",
      "Epoch: 82 Train Loss: 2.33 Train Accuracy: 0.35\n",
      "Epoch: 83 Train Loss: 2.31 Train Accuracy: 0.36\n",
      "Epoch: 84 Train Loss: 2.28 Train Accuracy: 0.37\n",
      "Epoch: 85 Train Loss: 2.27 Train Accuracy: 0.37\n",
      "Epoch: 86 Train Loss: 2.22 Train Accuracy: 0.38\n",
      "Epoch: 87 Train Loss: 2.20 Train Accuracy: 0.38\n",
      "Epoch: 88 Train Loss: 2.18 Train Accuracy: 0.39\n",
      "Epoch: 89 Train Loss: 2.15 Train Accuracy: 0.40\n",
      "Epoch: 90 Train Loss: 2.12 Train Accuracy: 0.40\n",
      "Epoch: 91 Train Loss: 2.11 Train Accuracy: 0.41\n",
      "Epoch: 92 Train Loss: 2.09 Train Accuracy: 0.41\n",
      "Epoch: 93 Train Loss: 2.06 Train Accuracy: 0.42\n",
      "Epoch: 94 Train Loss: 2.04 Train Accuracy: 0.42\n",
      "Epoch: 95 Train Loss: 2.02 Train Accuracy: 0.43\n",
      "Epoch: 96 Train Loss: 1.98 Train Accuracy: 0.44\n",
      "Epoch: 97 Train Loss: 1.97 Train Accuracy: 0.44\n",
      "Epoch: 98 Train Loss: 1.95 Train Accuracy: 0.44\n",
      "Epoch: 99 Train Loss: 1.94 Train Accuracy: 0.45\n",
      "Epoch: 100 Train Loss: 1.92 Train Accuracy: 0.46\n",
      "Epoch: 100 Train Loss: 1.92 Train Accuracy: 0.46 Test Loss: 2.49 Test Accuracy: 0.40\n"
     ]
    }
   ],
   "source": [
    "teacher_model_vgg16_bn = vgg16_bn_f(False,100)\n",
    "EPOCHS = 100\n",
    "device = 'cuda' if torch.cuda.is_available() else 'cpu'\n",
    "teacher_model_vgg16_bn.to(device)\n",
    "loss_func = nn.CrossEntropyLoss()\n",
    "optimizer = torch.optim.Adam(teacher_model_vgg16_bn.parameters(), lr=0.002)\n",
    "tr_metric = {\"Accuracy\":[],\"Loss\":[]}\n",
    "ts_metric = {\"Accuracy\":[],\"Loss\":[]}\n",
    "\n",
    "for epoch in (range(EPOCHS)):\n",
    "    tr_loss, tr_acc = independent_train_f(teacher_model_vgg16_bn,train_loader,loss_func,optimizer,device)\n",
    "    tr_metric[\"Accuracy\"].append(tr_acc)\n",
    "    tr_metric[\"Loss\"].append(tr_loss)\n",
    "\n",
    "    print(\"Epoch: {} Train Loss: {:.2f} Train Accuracy: {:.2f}\".format(epoch+1, tr_loss, tr_acc))\n",
    "ts_loss, ts_acc = eval_f(teacher_model_vgg16_bn,test_loader,loss_func,device)\n",
    "ts_metric[\"Accuracy\"].append(ts_acc)\n",
    "ts_metric[\"Loss\"].append(ts_loss)\n",
    "print(\"Epoch: {} Train Loss: {:.2f} Train Accuracy: {:.2f} Test Loss: {:.2f} Test Accuracy: {:.2f}\".format(epoch+1, tr_loss, tr_acc, ts_loss, ts_acc))"
   ]
  },
  {
   "cell_type": "code",
   "execution_count": 6,
   "metadata": {},
   "outputs": [],
   "source": [
    "torch.save(teacher_model_vgg16_bn.state_dict(),\"vgg16_bn_cifar100_teacher.pth\")"
   ]
  },
  {
   "cell_type": "markdown",
   "metadata": {},
   "source": [
    "### Step 1: Train the Teacher Model for 100 Class Classification (CIFAR100)"
   ]
  },
  {
   "cell_type": "code",
   "execution_count": 2,
   "metadata": {},
   "outputs": [],
   "source": [
    "device = 'cuda' if torch.cuda.is_available() else 'cpu'\n",
    "teacher_model = VGG16(100,True).to(device)\n",
    "for param in teacher_model.parameters():\n",
    "    param.requires_grad = False\n",
    "for param in teacher_model.model.classifier[-1].parameters():\n",
    "    param.requires_grad = True\n",
    "for param in teacher_model.model.classifier[3].parameters():\n",
    "    param.requires_grad = True  "
   ]
  },
  {
   "cell_type": "code",
   "execution_count": 3,
   "metadata": {},
   "outputs": [],
   "source": [
    "EPOCHS = 30\n",
    "optimizer = torch.optim.Adam(teacher_model.parameters(),0.002)\n",
    "loss_func = torch.nn.CrossEntropyLoss()"
   ]
  },
  {
   "cell_type": "code",
   "execution_count": null,
   "metadata": {},
   "outputs": [
    {
     "name": "stdout",
     "output_type": "stream",
     "text": [
      "Epoch: 1 Train Loss: 2.37 Train Accuracy: 0.48\n",
      "Epoch: 2 Train Loss: 2.34 Train Accuracy: 0.49\n",
      "Epoch: 3 Train Loss: 2.37 Train Accuracy: 0.50\n",
      "Epoch: 4 Train Loss: 2.41 Train Accuracy: 0.50\n",
      "Epoch: 5 Train Loss: 2.40 Train Accuracy: 0.51\n",
      "Epoch: 6 Train Loss: 2.44 Train Accuracy: 0.51\n",
      "Epoch: 7 Train Loss: 2.44 Train Accuracy: 0.51\n",
      "Epoch: 8 Train Loss: 2.47 Train Accuracy: 0.51\n",
      "Epoch: 9 Train Loss: 2.44 Train Accuracy: 0.52\n",
      "Epoch: 10 Train Loss: 2.49 Train Accuracy: 0.52\n",
      "Epoch: 11 Train Loss: 2.49 Train Accuracy: 0.52\n",
      "Epoch: 12 Train Loss: 2.50 Train Accuracy: 0.52\n",
      "Epoch: 13 Train Loss: 2.50 Train Accuracy: 0.53\n",
      "Epoch: 14 Train Loss: 2.52 Train Accuracy: 0.53\n",
      "Epoch: 15 Train Loss: 2.50 Train Accuracy: 0.53\n",
      "Epoch: 16 Train Loss: 2.52 Train Accuracy: 0.53\n",
      "Epoch: 17 Train Loss: 2.50 Train Accuracy: 0.53\n",
      "Epoch: 18 Train Loss: 2.53 Train Accuracy: 0.53\n",
      "Epoch: 19 Train Loss: 2.55 Train Accuracy: 0.53\n",
      "Epoch: 20 Train Loss: 2.54 Train Accuracy: 0.53\n",
      "Epoch: 21 Train Loss: 2.55 Train Accuracy: 0.53\n",
      "Epoch: 22 Train Loss: 2.54 Train Accuracy: 0.54\n",
      "Epoch: 23 Train Loss: 2.57 Train Accuracy: 0.54\n",
      "Epoch: 24 Train Loss: 2.56 Train Accuracy: 0.54\n",
      "Epoch: 25 Train Loss: 2.54 Train Accuracy: 0.54\n",
      "Epoch: 26 Train Loss: 2.58 Train Accuracy: 0.54\n",
      "Epoch: 27 Train Loss: 2.56 Train Accuracy: 0.54\n",
      "Epoch: 28 Train Loss: 2.59 Train Accuracy: 0.54\n",
      "Epoch: 29 Train Loss: 2.56 Train Accuracy: 0.54\n",
      "Epoch: 30 Train Loss: 2.57 Train Accuracy: 0.54\n",
      "Epoch: 30 Train Loss: 2.57 Train Accuracy: 0.54 Test Loss: 3.32 Test Accuracy: 0.49\n"
     ]
    }
   ],
   "source": [
    "tr_metric = {\"Accuracy\":[],\"Loss\":[]}\n",
    "ts_metric = {\"Accuracy\":[],\"Loss\":[]}\n",
    "\n",
    "for epoch in (range(EPOCHS)):\n",
    "    tr_loss, tr_acc = independent_train(teacher_model,train_loader,loss_func,optimizer,device)\n",
    "    tr_metric[\"Accuracy\"].append(tr_acc)\n",
    "    tr_metric[\"Loss\"].append(tr_loss)\n",
    "\n",
    "    print(\"Epoch: {} Train Loss: {:.2f} Train Accuracy: {:.2f}\".format(epoch+1, tr_loss, tr_acc))\n",
    "ts_loss, ts_acc = eval(teacher_model,test_loader,loss_func,device)\n",
    "ts_metric[\"Accuracy\"].append(ts_acc)\n",
    "ts_metric[\"Loss\"].append(ts_loss)\n",
    "print(\"Epoch: {} Train Loss: {:.2f} Train Accuracy: {:.2f} Test Loss: {:.2f} Test Accuracy: {:.2f}\".format(epoch+1, tr_loss, tr_acc, ts_loss, ts_acc))"
   ]
  },
  {
   "cell_type": "code",
   "execution_count": null,
   "metadata": {},
   "outputs": [
    {
     "name": "stdout",
     "output_type": "stream",
     "text": [
      "Final Train Accuracy: 0.53924\n",
      "Final Test Accuracy: 0.4942\n",
      "Final Train Loss: 2.567952214147124\n",
      "Final Test Loss: 3.316617834340235\n"
     ]
    }
   ],
   "source": [
    "print(\"Final Train Accuracy:\",tr_metric[\"Accuracy\"][-1])\n",
    "print(\"Final Test Accuracy:\",ts_metric[\"Accuracy\"][-1])\n",
    "print(\"Final Train Loss:\",tr_metric[\"Loss\"][-1])\n",
    "print(\"Final Test Loss:\",ts_metric[\"Loss\"][-1])"
   ]
  },
  {
   "cell_type": "code",
   "execution_count": null,
   "metadata": {},
   "outputs": [],
   "source": [
    "pd.DataFrame(tr_metric).to_csv(\"vgg16_cifar100_teacher_tr.csv\") \n",
    "pd.DataFrame(ts_metric).to_csv(\"vgg16_cifar100_teacher_ts.csv\")"
   ]
  },
  {
   "cell_type": "code",
   "execution_count": null,
   "metadata": {},
   "outputs": [],
   "source": [
    "# torch.save(teacher_model.state_dict(),\"vgg16_cifar100_teacher.pth\")"
   ]
  },
  {
   "cell_type": "code",
   "execution_count": 5,
   "metadata": {},
   "outputs": [],
   "source": [
    "teacher_model.load_state_dict(torch.load(\"vgg16_cifar100_teacher.pth\"))   \n",
    "\n",
    "for params in teacher_model.parameters():\n",
    "    params.requires_grad = False # freeze the teacher model"
   ]
  },
  {
   "cell_type": "markdown",
   "metadata": {},
   "source": [
    "Also train over VGG19 for future tasks further downstream"
   ]
  },
  {
   "cell_type": "code",
   "execution_count": null,
   "metadata": {},
   "outputs": [],
   "source": [
    "device = 'cuda' if torch.cuda.is_available() else 'cpu'\n",
    "teacher_model = VGG19(100,True).to(device)\n",
    "for param in teacher_model.parameters():\n",
    "    param.requires_grad = False\n",
    "for param in teacher_model.model.classifier[-1].parameters():\n",
    "    param.requires_grad = True\n",
    "for param in teacher_model.model.classifier[3].parameters():\n",
    "    param.requires_grad = True  "
   ]
  },
  {
   "cell_type": "code",
   "execution_count": null,
   "metadata": {},
   "outputs": [],
   "source": [
    "EPOCHS = 30\n",
    "optimizer = torch.optim.Adam(teacher_model.parameters(),0.002)\n",
    "loss_func = torch.nn.CrossEntropyLoss()"
   ]
  },
  {
   "cell_type": "code",
   "execution_count": null,
   "metadata": {},
   "outputs": [
    {
     "name": "stdout",
     "output_type": "stream",
     "text": [
      "Epoch: 1 Train Loss: 2.55 Train Accuracy: 0.35\n",
      "Epoch: 2 Train Loss: 2.37 Train Accuracy: 0.39\n",
      "Epoch: 3 Train Loss: 2.35 Train Accuracy: 0.40\n",
      "Epoch: 4 Train Loss: 2.33 Train Accuracy: 0.41\n",
      "Epoch: 5 Train Loss: 2.31 Train Accuracy: 0.41\n",
      "Epoch: 6 Train Loss: 2.29 Train Accuracy: 0.42\n",
      "Epoch: 7 Train Loss: 2.32 Train Accuracy: 0.42\n",
      "Epoch: 8 Train Loss: 2.30 Train Accuracy: 0.42\n",
      "Epoch: 9 Train Loss: 2.30 Train Accuracy: 0.42\n",
      "Epoch: 10 Train Loss: 2.29 Train Accuracy: 0.43\n",
      "Epoch: 11 Train Loss: 2.31 Train Accuracy: 0.43\n",
      "Epoch: 12 Train Loss: 2.29 Train Accuracy: 0.43\n",
      "Epoch: 13 Train Loss: 2.30 Train Accuracy: 0.43\n",
      "Epoch: 14 Train Loss: 2.30 Train Accuracy: 0.43\n",
      "Epoch: 15 Train Loss: 2.31 Train Accuracy: 0.43\n",
      "Epoch: 16 Train Loss: 2.32 Train Accuracy: 0.43\n",
      "Epoch: 17 Train Loss: 2.33 Train Accuracy: 0.43\n",
      "Epoch: 18 Train Loss: 2.32 Train Accuracy: 0.43\n",
      "Epoch: 19 Train Loss: 2.32 Train Accuracy: 0.44\n",
      "Epoch: 20 Train Loss: 2.34 Train Accuracy: 0.43\n",
      "Epoch: 21 Train Loss: 2.32 Train Accuracy: 0.43\n",
      "Epoch: 22 Train Loss: 2.33 Train Accuracy: 0.44\n",
      "Epoch: 23 Train Loss: 2.33 Train Accuracy: 0.43\n",
      "Epoch: 24 Train Loss: 2.35 Train Accuracy: 0.43\n",
      "Epoch: 25 Train Loss: 2.37 Train Accuracy: 0.43\n",
      "Epoch: 26 Train Loss: 2.34 Train Accuracy: 0.43\n",
      "Epoch: 27 Train Loss: 2.38 Train Accuracy: 0.43\n",
      "Epoch: 28 Train Loss: 2.36 Train Accuracy: 0.43\n",
      "Epoch: 29 Train Loss: 2.37 Train Accuracy: 0.43\n",
      "Epoch: 30 Train Loss: 2.37 Train Accuracy: 0.43\n",
      "Epoch: 30 Train Loss: 2.37 Train Accuracy: 0.43 Test Loss: 2.63 Test Accuracy: 0.40\n"
     ]
    }
   ],
   "source": [
    "tr_metric = {\"Accuracy\":[],\"Loss\":[]}\n",
    "ts_metric = {\"Accuracy\":[],\"Loss\":[]}\n",
    "\n",
    "for epoch in (range(EPOCHS)):\n",
    "    tr_loss, tr_acc = independent_train(teacher_model,train_loader,loss_func,optimizer,device)\n",
    "    tr_metric[\"Accuracy\"].append(tr_acc)\n",
    "    tr_metric[\"Loss\"].append(tr_loss)\n",
    "\n",
    "    print(\"Epoch: {} Train Loss: {:.2f} Train Accuracy: {:.2f}\".format(epoch+1, tr_loss, tr_acc))\n",
    "ts_loss, ts_acc = eval(teacher_model,test_loader,loss_func,device)\n",
    "ts_metric[\"Accuracy\"].append(ts_acc)\n",
    "ts_metric[\"Loss\"].append(ts_loss)\n",
    "print(\"Epoch: {} Train Loss: {:.2f} Train Accuracy: {:.2f} Test Loss: {:.2f} Test Accuracy: {:.2f}\".format(epoch+1, tr_loss, tr_acc, ts_loss, ts_acc))"
   ]
  },
  {
   "cell_type": "code",
   "execution_count": null,
   "metadata": {},
   "outputs": [
    {
     "name": "stdout",
     "output_type": "stream",
     "text": [
      "Final Train Accuracy: 0.43442\n",
      "Final Test Accuracy: 0.4035\n",
      "Final Train Loss: 2.3663177505478528\n",
      "Final Test Loss: 2.631490182724728\n"
     ]
    }
   ],
   "source": [
    "print(\"Final Train Accuracy:\",tr_metric[\"Accuracy\"][-1])\n",
    "print(\"Final Test Accuracy:\",ts_metric[\"Accuracy\"][-1])\n",
    "print(\"Final Train Loss:\",tr_metric[\"Loss\"][-1])\n",
    "print(\"Final Test Loss:\",ts_metric[\"Loss\"][-1])"
   ]
  },
  {
   "cell_type": "code",
   "execution_count": null,
   "metadata": {},
   "outputs": [],
   "source": [
    "# torch.save(teacher_model.state_dict(),\"vgg19_cifar100_teacher_new.pth\")"
   ]
  },
  {
   "cell_type": "code",
   "execution_count": null,
   "metadata": {},
   "outputs": [],
   "source": [
    "teacher_model.load_state_dict(torch.load(\"vgg19_cifar100_teacher_new.pth\"))   \n",
    "\n",
    "for params in teacher_model.parameters():\n",
    "    params.requires_grad = False # freeze the teacher model"
   ]
  },
  {
   "cell_type": "markdown",
   "metadata": {},
   "source": [
    "Also train an independent [no pretraining] student (VGG11) over 15 epochs [This number of epochs is held constant over further distillation models and so is maintained here as well]"
   ]
  },
  {
   "cell_type": "code",
   "execution_count": 4,
   "metadata": {},
   "outputs": [],
   "source": [
    "EPOCHS = 15"
   ]
  },
  {
   "cell_type": "code",
   "execution_count": 11,
   "metadata": {},
   "outputs": [],
   "source": [
    "device = 'cuda' if torch.cuda.is_available() else 'cpu'\n",
    "student_model = VGG11(100,False).to(device)\n",
    "for param in student_model.parameters():\n",
    "    param.requires_grad = True"
   ]
  },
  {
   "cell_type": "code",
   "execution_count": 12,
   "metadata": {},
   "outputs": [],
   "source": [
    "optimizer = torch.optim.Adam(teacher_model.parameters(),0.002)\n",
    "loss_func = torch.nn.CrossEntropyLoss()"
   ]
  },
  {
   "cell_type": "code",
   "execution_count": 13,
   "metadata": {},
   "outputs": [
    {
     "name": "stdout",
     "output_type": "stream",
     "text": [
      "Epoch: 1 Train Loss: 4.61 Train Accuracy: 0.01\n",
      "Epoch: 2 Train Loss: 4.61 Train Accuracy: 0.01\n",
      "Epoch: 3 Train Loss: 4.61 Train Accuracy: 0.01\n",
      "Epoch: 4 Train Loss: 4.61 Train Accuracy: 0.01\n",
      "Epoch: 5 Train Loss: 4.61 Train Accuracy: 0.01\n",
      "Epoch: 6 Train Loss: 4.61 Train Accuracy: 0.01\n",
      "Epoch: 7 Train Loss: 4.61 Train Accuracy: 0.01\n",
      "Epoch: 8 Train Loss: 4.61 Train Accuracy: 0.01\n",
      "Epoch: 9 Train Loss: 4.61 Train Accuracy: 0.01\n",
      "Epoch: 10 Train Loss: 4.61 Train Accuracy: 0.01\n",
      "Epoch: 11 Train Loss: 4.61 Train Accuracy: 0.01\n",
      "Epoch: 12 Train Loss: 4.61 Train Accuracy: 0.01\n",
      "Epoch: 13 Train Loss: 4.61 Train Accuracy: 0.01\n",
      "Epoch: 14 Train Loss: 4.61 Train Accuracy: 0.01\n",
      "Epoch: 15 Train Loss: 4.61 Train Accuracy: 0.01\n",
      "Epoch: 15 Train Loss: 4.61 Train Accuracy: 0.01 Test Loss: 2.72 Test Accuracy: 0.41\n"
     ]
    }
   ],
   "source": [
    "tr_metric = {\"Accuracy\":[],\"Loss\":[]}\n",
    "ts_metric = {\"Accuracy\":[],\"Loss\":[]}\n",
    "\n",
    "for epoch in (range(EPOCHS)):\n",
    "    tr_loss, tr_acc = independent_train(student_model,train_loader,loss_func,optimizer,device)\n",
    "    tr_metric[\"Accuracy\"].append(tr_acc)\n",
    "    tr_metric[\"Loss\"].append(tr_loss)\n",
    "\n",
    "    print(\"Epoch: {} Train Loss: {:.2f} Train Accuracy: {:.2f}\".format(epoch+1, tr_loss, tr_acc))\n",
    "ts_loss, ts_acc = eval(teacher_model,test_loader,loss_func,device)\n",
    "ts_metric[\"Accuracy\"].append(ts_acc)\n",
    "ts_metric[\"Loss\"].append(ts_loss)\n",
    "print(\"Epoch: {} Train Loss: {:.2f} Train Accuracy: {:.2f} Test Loss: {:.2f} Test Accuracy: {:.2f}\".format(epoch+1, tr_loss, tr_acc, ts_loss, ts_acc))"
   ]
  },
  {
   "cell_type": "code",
   "execution_count": 14,
   "metadata": {},
   "outputs": [
    {
     "name": "stdout",
     "output_type": "stream",
     "text": [
      "Final Train Accuracy: 0.00968\n",
      "Final Test Accuracy: 0.40809998\n",
      "Final Train Loss: 4.608823677462995\n",
      "Final Test Loss: 2.7197890509465696\n"
     ]
    }
   ],
   "source": [
    "print(\"Final Train Accuracy:\",tr_metric[\"Accuracy\"][-1])\n",
    "print(\"Final Test Accuracy:\",ts_metric[\"Accuracy\"][-1])\n",
    "print(\"Final Train Loss:\",tr_metric[\"Loss\"][-1])\n",
    "print(\"Final Test Loss:\",ts_metric[\"Loss\"][-1])"
   ]
  },
  {
   "cell_type": "code",
   "execution_count": 15,
   "metadata": {},
   "outputs": [],
   "source": [
    "pd.DataFrame(tr_metric).to_csv(\"vgg11_cifar100_student_tr.csv\") \n",
    "pd.DataFrame(ts_metric).to_csv(\"vgg11_cifar100_student_ts.csv\")"
   ]
  },
  {
   "cell_type": "code",
   "execution_count": 16,
   "metadata": {},
   "outputs": [],
   "source": [
    "# torch.save(student_model.state_dict(),\"vgg11_cifar100_student.pth\")"
   ]
  },
  {
   "cell_type": "markdown",
   "metadata": {},
   "source": [
    "#### 3.1.2.1: Basic Logit Matching"
   ]
  },
  {
   "cell_type": "code",
   "execution_count": 7,
   "metadata": {},
   "outputs": [
    {
     "name": "stdout",
     "output_type": "stream",
     "text": [
      "Epoch: 1 Train Loss: 12.20 Train Accuracy: 0.04\n",
      "Epoch: 2 Train Loss: 9.52 Train Accuracy: 0.09\n",
      "Epoch: 3 Train Loss: 9.10 Train Accuracy: 0.12\n",
      "Epoch: 4 Train Loss: 8.80 Train Accuracy: 0.14\n",
      "Epoch: 5 Train Loss: 8.51 Train Accuracy: 0.15\n",
      "Epoch: 6 Train Loss: 8.31 Train Accuracy: 0.17\n",
      "Epoch: 7 Train Loss: 8.08 Train Accuracy: 0.18\n",
      "Epoch: 8 Train Loss: 7.94 Train Accuracy: 0.19\n",
      "Epoch: 9 Train Loss: 7.79 Train Accuracy: 0.20\n",
      "Epoch: 10 Train Loss: 7.72 Train Accuracy: 0.21\n",
      "Epoch: 11 Train Loss: 7.62 Train Accuracy: 0.22\n",
      "Epoch: 12 Train Loss: 7.51 Train Accuracy: 0.23\n",
      "Epoch: 13 Train Loss: 7.47 Train Accuracy: 0.23\n",
      "Epoch: 14 Train Loss: 7.41 Train Accuracy: 0.24\n",
      "Epoch: 15 Train Loss: 7.36 Train Accuracy: 0.24\n",
      "Epoch: 15 Train Loss: 7.36 Train Accuracy: 0.24 Test Loss: 3.34 Test Accuracy: 0.24\n"
     ]
    }
   ],
   "source": [
    "from tqdm import tqdm\n",
    "student_model = VGG11(100,False,device)\n",
    "student_model = student_model.to(device)\n",
    "optimizer = torch.optim.Adam(student_model.parameters(),lr=0.002)\n",
    "loss_func = torch.nn.CrossEntropyLoss()\n",
    "tr_metric = {\"Accuracy\":[],\"Loss\":[]}\n",
    "ts_metric = {\"Accuracy\":[],\"Loss\":[]}\n",
    "\n",
    "for epoch in (range(EPOCHS)):\n",
    "    tr_loss, tr_acc = train(student_model,teacher_model,train_loader,optimizer,device)\n",
    "    tr_metric[\"Accuracy\"].append(tr_acc)\n",
    "    tr_metric[\"Loss\"].append(tr_loss)\n",
    "\n",
    "    print(\"Epoch: {} Train Loss: {:.2f} Train Accuracy: {:.2f}\".format(epoch+1, tr_loss, tr_acc))\n",
    "ts_loss, ts_acc = eval(student_model,test_loader,loss_func,device)\n",
    "ts_metric[\"Accuracy\"].append(ts_acc)\n",
    "ts_metric[\"Loss\"].append(ts_loss)\n",
    "print(\"Epoch: {} Train Loss: {:.2f} Train Accuracy: {:.2f} Test Loss: {:.2f} Test Accuracy: {:.2f}\".format(epoch+1, tr_loss, tr_acc, ts_loss, ts_acc))\n"
   ]
  },
  {
   "cell_type": "code",
   "execution_count": 8,
   "metadata": {},
   "outputs": [
    {
     "name": "stdout",
     "output_type": "stream",
     "text": [
      "Final Train Accuracy: 0.23852\n",
      "Final Test Accuracy: 0.2373\n",
      "Final Train Loss: 7.3556922658934925\n",
      "Final Test Loss: 3.338558784715689\n"
     ]
    }
   ],
   "source": [
    "print(\"Final Train Accuracy:\",tr_metric[\"Accuracy\"][-1])\n",
    "print(\"Final Test Accuracy:\",ts_metric[\"Accuracy\"][-1])\n",
    "print(\"Final Train Loss:\",tr_metric[\"Loss\"][-1])\n",
    "print(\"Final Test Loss:\",ts_metric[\"Loss\"][-1])"
   ]
  },
  {
   "cell_type": "code",
   "execution_count": 9,
   "metadata": {},
   "outputs": [],
   "source": [
    "pd.DataFrame(tr_metric).to_csv(\"vgg11_cifar100_blm_tr.csv\") \n",
    "pd.DataFrame(ts_metric).to_csv(\"vgg11_cifar100_blm_ts.csv\")"
   ]
  },
  {
   "cell_type": "code",
   "execution_count": 10,
   "metadata": {},
   "outputs": [],
   "source": [
    "torch.save(student_model.state_dict(),\"vgg11_cifar100_blm.pth\")"
   ]
  },
  {
   "cell_type": "markdown",
   "metadata": {},
   "source": [
    "#### 3.1.2.2: Label Smooth Regularization"
   ]
  },
  {
   "cell_type": "code",
   "execution_count": 6,
   "metadata": {},
   "outputs": [
    {
     "ename": "KeyboardInterrupt",
     "evalue": "",
     "output_type": "error",
     "traceback": [
      "\u001b[1;31m---------------------------------------------------------------------------\u001b[0m",
      "\u001b[1;31mKeyboardInterrupt\u001b[0m                         Traceback (most recent call last)",
      "Cell \u001b[1;32mIn[6], line 11\u001b[0m\n\u001b[0;32m      8\u001b[0m ts_metric \u001b[38;5;241m=\u001b[39m {\u001b[38;5;124m\"\u001b[39m\u001b[38;5;124mAccuracy\u001b[39m\u001b[38;5;124m\"\u001b[39m:[],\u001b[38;5;124m\"\u001b[39m\u001b[38;5;124mLoss\u001b[39m\u001b[38;5;124m\"\u001b[39m:[]}\n\u001b[0;32m     10\u001b[0m \u001b[38;5;28;01mfor\u001b[39;00m epoch \u001b[38;5;129;01min\u001b[39;00m (\u001b[38;5;28mrange\u001b[39m(EPOCHS)):\n\u001b[1;32m---> 11\u001b[0m     tr_loss, tr_acc \u001b[38;5;241m=\u001b[39m \u001b[43mtrain\u001b[49m\u001b[43m(\u001b[49m\u001b[43mstudent_model\u001b[49m\u001b[43m,\u001b[49m\u001b[43mteacher_model\u001b[49m\u001b[43m,\u001b[49m\u001b[43mtrain_loader\u001b[49m\u001b[43m,\u001b[49m\u001b[43moptimizer\u001b[49m\u001b[43m,\u001b[49m\u001b[43mdevice\u001b[49m\u001b[43m,\u001b[49m\u001b[43mtypes\u001b[49m\u001b[38;5;241;43m=\u001b[39;49m\u001b[38;5;124;43m\"\u001b[39;49m\u001b[38;5;124;43mlsr\u001b[39;49m\u001b[38;5;124;43m\"\u001b[39;49m\u001b[43m)\u001b[49m\n\u001b[0;32m     12\u001b[0m     tr_metric[\u001b[38;5;124m\"\u001b[39m\u001b[38;5;124mAccuracy\u001b[39m\u001b[38;5;124m\"\u001b[39m]\u001b[38;5;241m.\u001b[39mappend(tr_acc)\n\u001b[0;32m     13\u001b[0m     tr_metric[\u001b[38;5;124m\"\u001b[39m\u001b[38;5;124mLoss\u001b[39m\u001b[38;5;124m\"\u001b[39m]\u001b[38;5;241m.\u001b[39mappend(tr_loss)\n",
      "File \u001b[1;32mf:\\Muhammad Ahmad\\A3\\utils\\logit_matching.py:248\u001b[0m, in \u001b[0;36mtrain\u001b[1;34m(student_model, teacher_model, train_loader, optimizer, device, types)\u001b[0m\n\u001b[0;32m    246\u001b[0m     loss,preds \u001b[38;5;241m=\u001b[39m basic_logic_matching(student_model,teacher_model,x_batch,y_batch,optimizer,device)\n\u001b[0;32m    247\u001b[0m \u001b[38;5;28;01melif\u001b[39;00m types \u001b[38;5;241m==\u001b[39m \u001b[38;5;124m\"\u001b[39m\u001b[38;5;124mlsr\u001b[39m\u001b[38;5;124m\"\u001b[39m:\n\u001b[1;32m--> 248\u001b[0m     loss,preds \u001b[38;5;241m=\u001b[39m \u001b[43mlsr_logit_matching\u001b[49m\u001b[43m(\u001b[49m\u001b[43mstudent_model\u001b[49m\u001b[43m,\u001b[49m\u001b[43mteacher_model\u001b[49m\u001b[43m,\u001b[49m\u001b[43mx_batch\u001b[49m\u001b[43m,\u001b[49m\u001b[43my_batch\u001b[49m\u001b[43m,\u001b[49m\u001b[43moptimizer\u001b[49m\u001b[43m,\u001b[49m\u001b[43mdevice\u001b[49m\u001b[43m)\u001b[49m\n\u001b[0;32m    249\u001b[0m \u001b[38;5;28;01melif\u001b[39;00m types \u001b[38;5;241m==\u001b[39m \u001b[38;5;124m\"\u001b[39m\u001b[38;5;124mdkd\u001b[39m\u001b[38;5;124m\"\u001b[39m:\n\u001b[0;32m    250\u001b[0m     loss,preds \u001b[38;5;241m=\u001b[39m decoupled_logit_matching(student_model,teacher_model,x_batch,y_batch,optimizer,device)\n",
      "File \u001b[1;32mf:\\Muhammad Ahmad\\A3\\utils\\logit_matching.py:70\u001b[0m, in \u001b[0;36mlsr_logit_matching\u001b[1;34m(student_model, teacher_model, batch_x, batch_y, optimizer, device, epsilon, weight)\u001b[0m\n\u001b[0;32m     67\u001b[0m optimizer\u001b[38;5;241m.\u001b[39mstep()\n\u001b[0;32m     68\u001b[0m pred_list \u001b[38;5;241m=\u001b[39m torch\u001b[38;5;241m.\u001b[39margmax(logits_s, dim\u001b[38;5;241m=\u001b[39m\u001b[38;5;241m1\u001b[39m) \u001b[38;5;241m==\u001b[39m batch_y\n\u001b[1;32m---> 70\u001b[0m \u001b[38;5;28;01mreturn\u001b[39;00m \u001b[43mloss\u001b[49m\u001b[38;5;241;43m.\u001b[39;49m\u001b[43mitem\u001b[49m\u001b[43m(\u001b[49m\u001b[43m)\u001b[49m, pred_list\n",
      "\u001b[1;31mKeyboardInterrupt\u001b[0m: "
     ]
    }
   ],
   "source": [
    "from tqdm import tqdm\n",
    "\n",
    "student_model = VGG11(100,False,device)\n",
    "student_model = student_model.to(device)\n",
    "optimizer = torch.optim.Adam(student_model.parameters(),0.002)\n",
    "loss_func = torch.nn.CrossEntropyLoss()\n",
    "tr_metric = {\"Accuracy\":[],\"Loss\":[]}\n",
    "ts_metric = {\"Accuracy\":[],\"Loss\":[]}\n",
    "\n",
    "for epoch in (range(EPOCHS)):\n",
    "    tr_loss, tr_acc = train(student_model,teacher_model,train_loader,optimizer,device,types=\"lsr\")\n",
    "    tr_metric[\"Accuracy\"].append(tr_acc)\n",
    "    tr_metric[\"Loss\"].append(tr_loss)\n",
    "\n",
    "    print(\"Epoch: {} Train Loss: {:.2f} Train Accuracy: {:.2f}\".format(epoch+1, tr_loss, tr_acc))\n",
    "ts_loss, ts_acc = eval(student_model,test_loader,loss_func,device)\n",
    "ts_metric[\"Accuracy\"].append(ts_acc)\n",
    "ts_metric[\"Loss\"].append(ts_loss)\n",
    "print(\"Epoch: {} Train Loss: {:.2f} Train Accuracy: {:.2f} Test Loss: {:.2f} Test Accuracy: {:.2f}\".format(epoch+1, tr_loss, tr_acc, ts_loss, ts_acc))"
   ]
  },
  {
   "cell_type": "code",
   "execution_count": 17,
   "metadata": {},
   "outputs": [
    {
     "name": "stdout",
     "output_type": "stream",
     "text": [
      "Final Train Accuracy: 0.00968\n",
      "Final Test Accuracy: 0.40809998\n",
      "Final Train Loss: 4.608823677462995\n",
      "Final Test Loss: 2.7197890509465696\n"
     ]
    }
   ],
   "source": [
    "print(\"Final Train Accuracy:\",tr_metric[\"Accuracy\"][-1])\n",
    "print(\"Final Test Accuracy:\",ts_metric[\"Accuracy\"][-1])\n",
    "print(\"Final Train Loss:\",tr_metric[\"Loss\"][-1])\n",
    "print(\"Final Test Loss:\",ts_metric[\"Loss\"][-1])"
   ]
  },
  {
   "cell_type": "code",
   "execution_count": 11,
   "metadata": {},
   "outputs": [],
   "source": [
    "pd.DataFrame(tr_metric).to_csv(\"vgg11_cifar100_lsr_tr.csv\") \n",
    "pd.DataFrame(ts_metric).to_csv(\"vgg11_cifar100_lsr_ts.csv\")"
   ]
  },
  {
   "cell_type": "code",
   "execution_count": 12,
   "metadata": {},
   "outputs": [],
   "source": [
    "torch.save(student_model.state_dict(),\"vgg11_cifar100_lsr.pth\")"
   ]
  },
  {
   "cell_type": "markdown",
   "metadata": {},
   "source": [
    "#### 3.2.1.3: Decoupled Knowledge Distillation"
   ]
  },
  {
   "cell_type": "code",
   "execution_count": 7,
   "metadata": {},
   "outputs": [
    {
     "name": "stdout",
     "output_type": "stream",
     "text": [
      "Epoch: 1 Train Loss: 18.88 Train Accuracy: 0.01\n",
      "Epoch: 2 Train Loss: 15.95 Train Accuracy: 0.01\n",
      "Epoch: 3 Train Loss: 15.97 Train Accuracy: 0.01\n",
      "Epoch: 4 Train Loss: 15.98 Train Accuracy: 0.01\n"
     ]
    },
    {
     "ename": "KeyboardInterrupt",
     "evalue": "",
     "output_type": "error",
     "traceback": [
      "\u001b[1;31m---------------------------------------------------------------------------\u001b[0m",
      "\u001b[1;31mKeyboardInterrupt\u001b[0m                         Traceback (most recent call last)",
      "Cell \u001b[1;32mIn[7], line 11\u001b[0m\n\u001b[0;32m      8\u001b[0m ts_metric \u001b[38;5;241m=\u001b[39m {\u001b[38;5;124m\"\u001b[39m\u001b[38;5;124mAccuracy\u001b[39m\u001b[38;5;124m\"\u001b[39m:[],\u001b[38;5;124m\"\u001b[39m\u001b[38;5;124mLoss\u001b[39m\u001b[38;5;124m\"\u001b[39m:[]}\n\u001b[0;32m     10\u001b[0m \u001b[38;5;28;01mfor\u001b[39;00m epoch \u001b[38;5;129;01min\u001b[39;00m (\u001b[38;5;28mrange\u001b[39m(EPOCHS)):\n\u001b[1;32m---> 11\u001b[0m     tr_loss, tr_acc \u001b[38;5;241m=\u001b[39m \u001b[43mtrain\u001b[49m\u001b[43m(\u001b[49m\u001b[43mstudent_model\u001b[49m\u001b[43m,\u001b[49m\u001b[43mteacher_model\u001b[49m\u001b[43m,\u001b[49m\u001b[43mtrain_loader\u001b[49m\u001b[43m,\u001b[49m\u001b[43moptimizer\u001b[49m\u001b[43m,\u001b[49m\u001b[43mdevice\u001b[49m\u001b[43m,\u001b[49m\u001b[43mtypes\u001b[49m\u001b[38;5;241;43m=\u001b[39;49m\u001b[38;5;124;43m\"\u001b[39;49m\u001b[38;5;124;43mdkd\u001b[39;49m\u001b[38;5;124;43m\"\u001b[39;49m\u001b[43m)\u001b[49m\n\u001b[0;32m     12\u001b[0m     tr_metric[\u001b[38;5;124m\"\u001b[39m\u001b[38;5;124mAccuracy\u001b[39m\u001b[38;5;124m\"\u001b[39m]\u001b[38;5;241m.\u001b[39mappend(tr_acc)\n\u001b[0;32m     13\u001b[0m     tr_metric[\u001b[38;5;124m\"\u001b[39m\u001b[38;5;124mLoss\u001b[39m\u001b[38;5;124m\"\u001b[39m]\u001b[38;5;241m.\u001b[39mappend(tr_loss)\n",
      "File \u001b[1;32mf:\\Muhammad Ahmad\\A3\\utils\\logit_matching.py:250\u001b[0m, in \u001b[0;36mtrain\u001b[1;34m(student_model, teacher_model, train_loader, optimizer, device, types)\u001b[0m\n\u001b[0;32m    248\u001b[0m     loss,preds \u001b[38;5;241m=\u001b[39m lsr_logit_matching(student_model,teacher_model,x_batch,y_batch,optimizer,device)\n\u001b[0;32m    249\u001b[0m \u001b[38;5;28;01melif\u001b[39;00m types \u001b[38;5;241m==\u001b[39m \u001b[38;5;124m\"\u001b[39m\u001b[38;5;124mdkd\u001b[39m\u001b[38;5;124m\"\u001b[39m:\n\u001b[1;32m--> 250\u001b[0m     loss,preds \u001b[38;5;241m=\u001b[39m \u001b[43mdecoupled_logit_matching\u001b[49m\u001b[43m(\u001b[49m\u001b[43mstudent_model\u001b[49m\u001b[43m,\u001b[49m\u001b[43mteacher_model\u001b[49m\u001b[43m,\u001b[49m\u001b[43mx_batch\u001b[49m\u001b[43m,\u001b[49m\u001b[43my_batch\u001b[49m\u001b[43m,\u001b[49m\u001b[43moptimizer\u001b[49m\u001b[43m,\u001b[49m\u001b[43mdevice\u001b[49m\u001b[43m)\u001b[49m\n\u001b[0;32m    252\u001b[0m total_loss \u001b[38;5;241m+\u001b[39m\u001b[38;5;241m=\u001b[39m loss\n\u001b[0;32m    253\u001b[0m pred_list \u001b[38;5;241m=\u001b[39m torch\u001b[38;5;241m.\u001b[39mcat([pred_list,preds]) \u001b[38;5;28;01mif\u001b[39;00m pred_list \u001b[38;5;129;01mis\u001b[39;00m \u001b[38;5;129;01mnot\u001b[39;00m \u001b[38;5;28;01mNone\u001b[39;00m \u001b[38;5;28;01melse\u001b[39;00m preds\n",
      "File \u001b[1;32mf:\\Muhammad Ahmad\\A3\\utils\\logit_matching.py:193\u001b[0m, in \u001b[0;36mdecoupled_logit_matching\u001b[1;34m(student_model, teacher_model, batch_x, batch_y, optimizer, device, temperature, weight, alpha, beta)\u001b[0m\n\u001b[0;32m    190\u001b[0m optimizer\u001b[38;5;241m.\u001b[39mstep()\n\u001b[0;32m    191\u001b[0m pred_list \u001b[38;5;241m=\u001b[39m torch\u001b[38;5;241m.\u001b[39margmax(logits_s, dim\u001b[38;5;241m=\u001b[39m\u001b[38;5;241m1\u001b[39m) \u001b[38;5;241m==\u001b[39m batch_y\n\u001b[1;32m--> 193\u001b[0m \u001b[38;5;28;01mreturn\u001b[39;00m \u001b[43mloss\u001b[49m\u001b[38;5;241;43m.\u001b[39;49m\u001b[43mitem\u001b[49m\u001b[43m(\u001b[49m\u001b[43m)\u001b[49m, pred_list\n",
      "\u001b[1;31mKeyboardInterrupt\u001b[0m: "
     ]
    }
   ],
   "source": [
    "from tqdm import tqdm\n",
    "\n",
    "student_model = VGG11(100,False,device)\n",
    "student_model = student_model.to(device)\n",
    "optimizer = torch.optim.Adam(student_model.parameters(),0.002)\n",
    "loss_func = torch.nn.CrossEntropyLoss()\n",
    "tr_metric = {\"Accuracy\":[],\"Loss\":[]}\n",
    "ts_metric = {\"Accuracy\":[],\"Loss\":[]}\n",
    "\n",
    "for epoch in (range(EPOCHS)):\n",
    "    tr_loss, tr_acc = train(student_model,teacher_model,train_loader,optimizer,device,types=\"dkd\")\n",
    "    tr_metric[\"Accuracy\"].append(tr_acc)\n",
    "    tr_metric[\"Loss\"].append(tr_loss)\n",
    "\n",
    "    print(\"Epoch: {} Train Loss: {:.2f} Train Accuracy: {:.2f}\".format(epoch+1, tr_loss, tr_acc))\n",
    "ts_loss, ts_acc = eval(student_model,test_loader,loss_func,device)\n",
    "ts_metric[\"Accuracy\"].append(ts_acc)\n",
    "ts_metric[\"Loss\"].append(ts_loss)\n",
    "print(\"Epoch: {} Train Loss: {:.2f} Train Accuracy: {:.2f} Test Loss: {:.2f} Test Accuracy: {:.2f}\".format(epoch+1, tr_loss, tr_acc, ts_loss, ts_acc))"
   ]
  },
  {
   "cell_type": "code",
   "execution_count": 13,
   "metadata": {},
   "outputs": [
    {
     "name": "stdout",
     "output_type": "stream",
     "text": [
      "Final Train Accuracy: 0.01\n",
      "Final Test Accuracy: 0.01\n",
      "Final Train Loss: 106.83971564056318\n",
      "Final Test Loss: 4.884688668949589\n"
     ]
    }
   ],
   "source": [
    "print(\"Final Train Accuracy:\",tr_metric[\"Accuracy\"][-1])\n",
    "print(\"Final Test Accuracy:\",ts_metric[\"Accuracy\"][-1])\n",
    "print(\"Final Train Loss:\",tr_metric[\"Loss\"][-1])\n",
    "print(\"Final Test Loss:\",ts_metric[\"Loss\"][-1])"
   ]
  },
  {
   "cell_type": "code",
   "execution_count": 14,
   "metadata": {},
   "outputs": [],
   "source": [
    "pd.DataFrame(tr_metric).to_csv(\"vgg11_cifar100_dkd_tr.csv\") \n",
    "pd.DataFrame(ts_metric).to_csv(\"vgg11_cifar100_dkd_ts.csv\")"
   ]
  },
  {
   "cell_type": "code",
   "execution_count": 15,
   "metadata": {},
   "outputs": [],
   "source": [
    "torch.save(student_model.state_dict(),\"vgg11_cifar100_dkd.pth\")"
   ]
  }
 ],
 "metadata": {
  "kernelspec": {
   "display_name": "Python 3",
   "language": "python",
   "name": "python3"
  },
  "language_info": {
   "codemirror_mode": {
    "name": "ipython",
    "version": 3
   },
   "file_extension": ".py",
   "mimetype": "text/x-python",
   "name": "python",
   "nbconvert_exporter": "python",
   "pygments_lexer": "ipython3",
   "version": "3.11.5"
  }
 },
 "nbformat": 4,
 "nbformat_minor": 2
}
