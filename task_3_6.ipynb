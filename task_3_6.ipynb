{
 "cells": [
  {
   "cell_type": "code",
   "execution_count": 1,
   "metadata": {},
   "outputs": [
    {
     "name": "stdout",
     "output_type": "stream",
     "text": [
      "Files already downloaded and verified\n",
      "Files already downloaded and verified\n"
     ]
    }
   ],
   "source": [
    "from models import *\n",
    "from utils import  *\n",
    "import torch\n",
    "import warnings\n",
    "warnings.filterwarnings(\"ignore\")\n",
    "import pandas as pd\n",
    "from tqdm import tqdm"
   ]
  },
  {
   "cell_type": "code",
   "execution_count": 2,
   "metadata": {},
   "outputs": [],
   "source": [
    "EPOCHS = 30"
   ]
  },
  {
   "cell_type": "markdown",
   "metadata": {},
   "source": [
    "#### 3.1.2.1: Basic Logit Matching with VGG 16 Teacher"
   ]
  },
  {
   "cell_type": "code",
   "execution_count": 3,
   "metadata": {},
   "outputs": [
    {
     "name": "stdout",
     "output_type": "stream",
     "text": [
      "Epoch: 1 Train Loss: 1.67 Train Accuracy: 0.03\n",
      "Epoch: 2 Train Loss: 1.61 Train Accuracy: 0.05\n",
      "Epoch: 3 Train Loss: 1.58 Train Accuracy: 0.07\n",
      "Epoch: 4 Train Loss: 1.54 Train Accuracy: 0.09\n",
      "Epoch: 5 Train Loss: 1.52 Train Accuracy: 0.11\n",
      "Epoch: 6 Train Loss: 1.49 Train Accuracy: 0.13\n",
      "Epoch: 7 Train Loss: 1.47 Train Accuracy: 0.14\n",
      "Epoch: 8 Train Loss: 1.45 Train Accuracy: 0.16\n",
      "Epoch: 9 Train Loss: 1.42 Train Accuracy: 0.18\n",
      "Epoch: 10 Train Loss: 1.40 Train Accuracy: 0.19\n",
      "Epoch: 11 Train Loss: 1.38 Train Accuracy: 0.21\n",
      "Epoch: 12 Train Loss: 1.36 Train Accuracy: 0.22\n",
      "Epoch: 13 Train Loss: 1.34 Train Accuracy: 0.24\n",
      "Epoch: 14 Train Loss: 1.32 Train Accuracy: 0.26\n",
      "Epoch: 15 Train Loss: 1.31 Train Accuracy: 0.27\n",
      "Epoch: 16 Train Loss: 1.29 Train Accuracy: 0.29\n",
      "Epoch: 17 Train Loss: 1.27 Train Accuracy: 0.30\n",
      "Epoch: 18 Train Loss: 1.25 Train Accuracy: 0.32\n",
      "Epoch: 19 Train Loss: 1.24 Train Accuracy: 0.33\n",
      "Epoch: 20 Train Loss: 1.22 Train Accuracy: 0.35\n",
      "Epoch: 21 Train Loss: 1.21 Train Accuracy: 0.37\n",
      "Epoch: 22 Train Loss: 1.20 Train Accuracy: 0.38\n",
      "Epoch: 23 Train Loss: 1.18 Train Accuracy: 0.39\n",
      "Epoch: 24 Train Loss: 1.17 Train Accuracy: 0.40\n",
      "Epoch: 25 Train Loss: 1.16 Train Accuracy: 0.41\n",
      "Epoch: 26 Train Loss: 1.14 Train Accuracy: 0.43\n",
      "Epoch: 27 Train Loss: 1.14 Train Accuracy: 0.44\n",
      "Epoch: 28 Train Loss: 1.12 Train Accuracy: 0.45\n",
      "Epoch: 29 Train Loss: 1.11 Train Accuracy: 0.46\n",
      "Epoch: 30 Train Loss: 1.11 Train Accuracy: 0.47\n",
      "Epoch: 30 Train Loss: 1.11 Train Accuracy: 0.47 Test Loss: 2.75 Test Accuracy: 0.42\n"
     ]
    }
   ],
   "source": [
    "student_model = vgg11_bn_f(False,100)\n",
    "teacher_model_vgg16_bn = vgg16_bn_f(False,100)\n",
    "device = 'cuda' if torch.cuda.is_available() else 'cpu'\n",
    "teacher_model_vgg16_bn.load_state_dict(torch.load(\"teacher_model_vgg16_bn.pth\")) \n",
    "for param in student_model.parameters():\n",
    "    param.requires_grad = True          \n",
    "for param in teacher_model_vgg16_bn.parameters():\n",
    "    param.requires_grad = False\n",
    "teacher_model = teacher_model_vgg16_bn.to(device)\n",
    "student_model = student_model.to(device)\n",
    "optimizer = torch.optim.Adam(student_model.parameters(),lr=0.002)\n",
    "loss_func = torch.nn.CrossEntropyLoss()\n",
    "tr_metric = {\"Accuracy\":[],\"Loss\":[]}\n",
    "ts_metric = {\"Accuracy\":[],\"Loss\":[]}\n",
    "\n",
    "for epoch in (range(EPOCHS)):\n",
    "    tr_loss, tr_acc = train(student_model,teacher_model,train_loader,optimizer,device)\n",
    "    tr_metric[\"Accuracy\"].append(tr_acc)\n",
    "    tr_metric[\"Loss\"].append(tr_loss)\n",
    "\n",
    "    print(\"Epoch: {} Train Loss: {:.2f} Train Accuracy: {:.2f}\".format(epoch+1, tr_loss, tr_acc))\n",
    "ts_loss, ts_acc = eval_f(student_model,test_loader,loss_func,device)\n",
    "ts_metric[\"Accuracy\"].append(ts_acc)\n",
    "ts_metric[\"Loss\"].append(ts_loss)\n",
    "print(\"Epoch: {} Train Loss: {:.2f} Train Accuracy: {:.2f} Test Loss: {:.2f} Test Accuracy: {:.2f}\".format(epoch+1, tr_loss, tr_acc, ts_loss, ts_acc))\n"
   ]
  },
  {
   "cell_type": "code",
   "execution_count": 4,
   "metadata": {},
   "outputs": [
    {
     "name": "stdout",
     "output_type": "stream",
     "text": [
      "Final Train Accuracy: 0.46699998\n",
      "Final Test Accuracy: 0.4244\n",
      "Final Train Loss: 1.1058401812220473\n",
      "Final Test Loss: 2.7474925426920507\n"
     ]
    }
   ],
   "source": [
    "print(\"Final Train Accuracy:\",tr_metric[\"Accuracy\"][-1])\n",
    "print(\"Final Test Accuracy:\",ts_metric[\"Accuracy\"][-1])\n",
    "print(\"Final Train Loss:\",tr_metric[\"Loss\"][-1])\n",
    "print(\"Final Test Loss:\",ts_metric[\"Loss\"][-1])"
   ]
  },
  {
   "cell_type": "code",
   "execution_count": 5,
   "metadata": {},
   "outputs": [],
   "source": [
    "pd.DataFrame(tr_metric).to_csv(\"vgg11_cifar100_blm_tr.csv\") \n",
    "pd.DataFrame(ts_metric).to_csv(\"vgg11_cifar100_blm_ts.csv\")"
   ]
  },
  {
   "cell_type": "code",
   "execution_count": 6,
   "metadata": {},
   "outputs": [],
   "source": [
    "torch.save(student_model.state_dict(),\"vgg11_cifar100_blm.pth\")"
   ]
  },
  {
   "cell_type": "markdown",
   "metadata": {},
   "source": [
    "#### 3.6: Basic Logit Matching with VGG 19 Teacher"
   ]
  },
  {
   "cell_type": "code",
   "execution_count": 7,
   "metadata": {},
   "outputs": [
    {
     "name": "stdout",
     "output_type": "stream",
     "text": [
      "Epoch: 1 Train Loss: 1.57 Train Accuracy: 0.03\n",
      "Epoch: 2 Train Loss: 1.52 Train Accuracy: 0.04\n",
      "Epoch: 3 Train Loss: 1.50 Train Accuracy: 0.06\n",
      "Epoch: 4 Train Loss: 1.48 Train Accuracy: 0.07\n",
      "Epoch: 5 Train Loss: 1.45 Train Accuracy: 0.08\n",
      "Epoch: 6 Train Loss: 1.42 Train Accuracy: 0.10\n",
      "Epoch: 7 Train Loss: 1.40 Train Accuracy: 0.11\n",
      "Epoch: 8 Train Loss: 1.38 Train Accuracy: 0.13\n",
      "Epoch: 9 Train Loss: 1.35 Train Accuracy: 0.15\n",
      "Epoch: 10 Train Loss: 1.33 Train Accuracy: 0.16\n",
      "Epoch: 11 Train Loss: 1.32 Train Accuracy: 0.18\n",
      "Epoch: 12 Train Loss: 1.30 Train Accuracy: 0.19\n",
      "Epoch: 13 Train Loss: 1.28 Train Accuracy: 0.20\n",
      "Epoch: 14 Train Loss: 1.27 Train Accuracy: 0.22\n",
      "Epoch: 15 Train Loss: 1.25 Train Accuracy: 0.23\n",
      "Epoch: 16 Train Loss: 1.24 Train Accuracy: 0.25\n",
      "Epoch: 17 Train Loss: 1.22 Train Accuracy: 0.26\n",
      "Epoch: 18 Train Loss: 1.21 Train Accuracy: 0.28\n",
      "Epoch: 19 Train Loss: 1.20 Train Accuracy: 0.28\n",
      "Epoch: 20 Train Loss: 1.18 Train Accuracy: 0.30\n",
      "Epoch: 21 Train Loss: 1.18 Train Accuracy: 0.31\n",
      "Epoch: 22 Train Loss: 1.17 Train Accuracy: 0.32\n",
      "Epoch: 23 Train Loss: 1.15 Train Accuracy: 0.34\n",
      "Epoch: 24 Train Loss: 1.14 Train Accuracy: 0.35\n",
      "Epoch: 25 Train Loss: 1.13 Train Accuracy: 0.36\n",
      "Epoch: 26 Train Loss: 1.12 Train Accuracy: 0.37\n",
      "Epoch: 27 Train Loss: 1.11 Train Accuracy: 0.38\n",
      "Epoch: 28 Train Loss: 1.10 Train Accuracy: 0.39\n",
      "Epoch: 29 Train Loss: 1.09 Train Accuracy: 0.40\n",
      "Epoch: 30 Train Loss: 1.09 Train Accuracy: 0.41\n",
      "Epoch: 30 Train Loss: 1.09 Train Accuracy: 0.41 Test Loss: 2.86 Test Accuracy: 0.38\n"
     ]
    }
   ],
   "source": [
    "student_model = vgg11_bn_f(False,100)\n",
    "teacher_model_vgg16_bn = vgg19_bn_f(False,100)\n",
    "device = 'cuda' if torch.cuda.is_available() else 'cpu'\n",
    "teacher_model_vgg16_bn.load_state_dict(torch.load(\"teacher_model_vgg19_bn.pth\")) \n",
    "for param in student_model.parameters():\n",
    "    param.requires_grad = True          \n",
    "for param in teacher_model_vgg16_bn.parameters():\n",
    "    param.requires_grad = False\n",
    "teacher_model = teacher_model_vgg16_bn.to(device)\n",
    "student_model = student_model.to(device)\n",
    "optimizer = torch.optim.Adam(student_model.parameters(),lr=0.002)\n",
    "loss_func = torch.nn.CrossEntropyLoss()\n",
    "tr_metric = {\"Accuracy\":[],\"Loss\":[]}\n",
    "ts_metric = {\"Accuracy\":[],\"Loss\":[]}\n",
    "\n",
    "for epoch in (range(EPOCHS)):\n",
    "    tr_loss, tr_acc = train(student_model,teacher_model,train_loader,optimizer,device)\n",
    "    tr_metric[\"Accuracy\"].append(tr_acc)\n",
    "    tr_metric[\"Loss\"].append(tr_loss)\n",
    "\n",
    "    print(\"Epoch: {} Train Loss: {:.2f} Train Accuracy: {:.2f}\".format(epoch+1, tr_loss, tr_acc))\n",
    "ts_loss, ts_acc = eval_f(student_model,test_loader,loss_func,device)\n",
    "ts_metric[\"Accuracy\"].append(ts_acc)\n",
    "ts_metric[\"Loss\"].append(ts_loss)\n",
    "print(\"Epoch: {} Train Loss: {:.2f} Train Accuracy: {:.2f} Test Loss: {:.2f} Test Accuracy: {:.2f}\".format(epoch+1, tr_loss, tr_acc, ts_loss, ts_acc))\n"
   ]
  },
  {
   "cell_type": "code",
   "execution_count": 8,
   "metadata": {},
   "outputs": [
    {
     "name": "stdout",
     "output_type": "stream",
     "text": [
      "Final Train Accuracy: 0.41364\n",
      "Final Test Accuracy: 0.3845\n",
      "Final Train Loss: 1.085148689310874\n",
      "Final Test Loss: 2.858510863249469\n"
     ]
    }
   ],
   "source": [
    "print(\"Final Train Accuracy:\",tr_metric[\"Accuracy\"][-1])\n",
    "print(\"Final Test Accuracy:\",ts_metric[\"Accuracy\"][-1])\n",
    "print(\"Final Train Loss:\",tr_metric[\"Loss\"][-1])\n",
    "print(\"Final Test Loss:\",ts_metric[\"Loss\"][-1])"
   ]
  },
  {
   "cell_type": "code",
   "execution_count": 9,
   "metadata": {},
   "outputs": [],
   "source": [
    "pd.DataFrame(tr_metric).to_csv(\"vgg11_cifar100_blm_tr_vgg19.csv\") \n",
    "pd.DataFrame(ts_metric).to_csv(\"vgg11_cifar100_blm_ts_vgg19.csv\")"
   ]
  },
  {
   "cell_type": "code",
   "execution_count": 10,
   "metadata": {},
   "outputs": [],
   "source": [
    "torch.save(student_model.state_dict(),\"vgg11_cifar100_blm_vgg19.pth\")"
   ]
  }
 ],
 "metadata": {
  "kernelspec": {
   "display_name": "SProj",
   "language": "python",
   "name": "python3"
  },
  "language_info": {
   "codemirror_mode": {
    "name": "ipython",
    "version": 3
   },
   "file_extension": ".py",
   "mimetype": "text/x-python",
   "name": "python",
   "nbconvert_exporter": "python",
   "pygments_lexer": "ipython3",
   "version": "3.11.5"
  }
 },
 "nbformat": 4,
 "nbformat_minor": 2
}
