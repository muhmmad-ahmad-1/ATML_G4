{
 "cells": [
  {
   "cell_type": "code",
   "execution_count": 1,
   "metadata": {},
   "outputs": [],
   "source": [
    "from models.model import ResNet18, CLIPModel, ResNet50, ViTBase\n",
    "from models.utils import train_step, eval_step, DataLoaders\n",
    "from models.transforms import transforms_resnet, RandomColorChange, RandomNoise, RandomScramble, transforms_clip_vit, transforms_vit\n",
    "import torch\n",
    "import torch.nn as nn\n",
    "from torchvision.datasets import CIFAR10\n",
    "import warnings\n",
    "warnings.filterwarnings(\"ignore\")\n",
    "import matplotlib.pyplot as plt\n",
    "from torchvision import transforms\n",
    "import numpy as np"
   ]
  },
  {
   "cell_type": "code",
   "execution_count": 7,
   "metadata": {},
   "outputs": [
    {
     "name": "stdout",
     "output_type": "stream",
     "text": [
      "Files already downloaded and verified\n",
      "Files already downloaded and verified\n",
      "Files already downloaded and verified\n"
     ]
    }
   ],
   "source": [
    "test_noise = CIFAR10(root='data',transform=transforms.Compose([RandomNoise(16)]),train=False,download=True)\n",
    "test_color = CIFAR10(root='data',transform=transforms.Compose([RandomColorChange()]),train=False,download=True)\n",
    "test_scramble = CIFAR10(root='data',transform=transforms.Compose([RandomScramble()]),train=False,download=True) "
   ]
  },
  {
   "cell_type": "code",
   "execution_count": 6,
   "metadata": {},
   "outputs": [],
   "source": [
    "to_pil = transforms.ToPILImage()\n",
    "i = np.zeros(10,dtype=int)\n",
    "for image,label in test_color:\n",
    "    image = to_pil(image)\n",
    "    image.save('test/colour/test'+str(label)+'_'+str(i[label])+'.png')\n",
    "    i[label]+=1"
   ]
  },
  {
   "cell_type": "markdown",
   "metadata": {},
   "source": [
    "## Random Noise"
   ]
  },
  {
   "cell_type": "markdown",
   "metadata": {},
   "source": [
    "### Resnet50"
   ]
  },
  {
   "cell_type": "code",
   "execution_count": 15,
   "metadata": {},
   "outputs": [
    {
     "name": "stdout",
     "output_type": "stream",
     "text": [
      "Files already downloaded and verified\n",
      "Files already downloaded and verified\n",
      "Final Train Accuracy: 0.8142\n",
      "Final Train Loss: 0.5573203010327371\n",
      "Final Test Accuracy: 0.6587\n",
      "Final Test Loss: 0.9867075791784153\n"
     ]
    }
   ],
   "source": [
    "train = CIFAR10(root='data',transform=transforms_resnet,download=True)\n",
    "test = CIFAR10(root='data',transform=transforms.Compose([RandomNoise(8),transforms_resnet]),train=False,download=True)\n",
    "BATCH_SIZE = 64\n",
    "N_EPOCHS = 3\n",
    "dl = DataLoaders(train,test,'resnet',BATCH_SIZE,True,'cifar10')\n",
    "train_loader, test_loader = dl.get_loaders()\n",
    "\n",
    "\n",
    "resnet_model = ResNet50(n_classes=10)\n",
    "resnet_model.load_state_dict(torch.load(\"resnet50_cifar10.pth\")) \n",
    "loss_func = nn.CrossEntropyLoss()\n",
    "device = 'cuda' if torch.cuda.is_available() else 'cpu'\n",
    "\n",
    "\n",
    "tr_loss,tr_acc = eval_step(resnet_model,train_loader,loss_func,device,'resnet','cifar10')\n",
    "ts_loss,ts_acc = eval_step(resnet_model,test_loader,loss_func,device,'resnet','cifar10')\n",
    "\n",
    "print(\"Final Train Accuracy:\",tr_acc)\n",
    "print(\"Final Train Loss:\",tr_loss)\n",
    "print(\"Final Test Accuracy:\",ts_acc)\n",
    "print(\"Final Test Loss:\",ts_loss)\n"
   ]
  },
  {
   "cell_type": "markdown",
   "metadata": {},
   "source": [
    "### ViT"
   ]
  },
  {
   "cell_type": "code",
   "execution_count": 16,
   "metadata": {},
   "outputs": [
    {
     "name": "stdout",
     "output_type": "stream",
     "text": [
      "Files already downloaded and verified\n",
      "Files already downloaded and verified\n",
      "Final Train Accuracy: 0.97889996\n",
      "Final Train Loss: 0.06728012103062181\n",
      "Final Test Accuracy: 0.9659\n",
      "Final Test Loss: 0.1081453295139845\n"
     ]
    }
   ],
   "source": [
    "train = CIFAR10(root='data',transform=transforms_vit,download=True)\n",
    "test = CIFAR10(root='data',transform=transforms.Compose([RandomNoise(),transforms_vit]),train=False,download=True)\n",
    "BATCH_SIZE = 64\n",
    "N_EPOCHS = 3\n",
    "dl = DataLoaders(train,test,'resnet',BATCH_SIZE,True,'cifar10')\n",
    "train_loader, test_loader = dl.get_loaders()\n",
    "\n",
    "\n",
    "vit_model = ViTBase(n_classes=10)\n",
    "vit_model.load_state_dict(torch.load(\"vitbase_cifar10.pth\")) \n",
    "loss_func = nn.CrossEntropyLoss()\n",
    "device = 'cuda' if torch.cuda.is_available() else 'cpu'\n",
    "\n",
    "\n",
    "tr_loss,tr_acc = eval_step(vit_model,train_loader,loss_func,device,'vit','cifar10')\n",
    "ts_loss,ts_acc = eval_step(vit_model,test_loader,loss_func,device,'vit','cifar10')\n",
    "\n",
    "print(\"Final Train Accuracy:\",tr_acc)\n",
    "print(\"Final Train Loss:\",tr_loss)\n",
    "print(\"Final Test Accuracy:\",ts_acc)\n",
    "print(\"Final Test Loss:\",ts_loss)"
   ]
  },
  {
   "cell_type": "markdown",
   "metadata": {},
   "source": [
    "### CLIP"
   ]
  },
  {
   "cell_type": "code",
   "execution_count": 28,
   "metadata": {},
   "outputs": [
    {
     "name": "stdout",
     "output_type": "stream",
     "text": [
      "Files already downloaded and verified\n",
      "Files already downloaded and verified\n",
      "Final Train Accuracy: 0.96632\n",
      "Final Train Loss: 2.2430548102794696\n",
      "Final Test Accuracy: 0.91279995\n",
      "Final Test Loss: 7.143724216017754\n"
     ]
    }
   ],
   "source": [
    "train = CIFAR10(root='data',download=True)\n",
    "test = CIFAR10(root='data',train=False,transform=RandomNoise(),download=True)\n",
    "\n",
    "dl = DataLoaders(train,test,'clip',BATCH_SIZE,True,'cifar10')\n",
    "train_loader, test_loader = dl.get_loaders()\n",
    "\n",
    "clip_model =CLIPModel(emb_dim=256)\n",
    "clip_model.load_state_dict(torch.load(\"clip_cifar10.pth\")) \n",
    "loss_func = nn.CrossEntropyLoss()\n",
    "device = 'cuda' if torch.cuda.is_available() else 'cpu'\n",
    "\n",
    "\n",
    "tr_loss,tr_acc = eval_step(clip_model,train_loader,loss_func,device,'clip','cifar10')\n",
    "ts_loss,ts_acc = eval_step(clip_model,test_loader,loss_func,device,'clip','cifar10')\n",
    "\n",
    "\n",
    "print(\"Final Train Accuracy:\",tr_acc)\n",
    "print(\"Final Train Loss:\",tr_loss)\n",
    "print(\"Final Test Accuracy:\",ts_acc)\n",
    "print(\"Final Test Loss:\",ts_loss)"
   ]
  },
  {
   "cell_type": "markdown",
   "metadata": {},
   "source": [
    "## Random Color Change"
   ]
  },
  {
   "cell_type": "markdown",
   "metadata": {},
   "source": [
    "### Resnet50"
   ]
  },
  {
   "cell_type": "code",
   "execution_count": 29,
   "metadata": {},
   "outputs": [
    {
     "name": "stdout",
     "output_type": "stream",
     "text": [
      "Files already downloaded and verified\n",
      "Files already downloaded and verified\n",
      "Final Train Accuracy: 0.8142\n",
      "Final Train Loss: 0.557473156305835\n",
      "Final Test Accuracy: 0.27539998\n",
      "Final Test Loss: 2.0754595782346787\n"
     ]
    }
   ],
   "source": [
    "train = CIFAR10(root='data',transform=transforms_resnet,download=True)\n",
    "test = CIFAR10(root='data',transform=transforms.Compose([RandomColorChange(),transforms_resnet]),train=False,download=True)\n",
    "BATCH_SIZE = 64\n",
    "N_EPOCHS = 3\n",
    "dl = DataLoaders(train,test,'resnet',BATCH_SIZE,True,'cifar10')\n",
    "train_loader, test_loader = dl.get_loaders()\n",
    "\n",
    "\n",
    "resnet_model = ResNet50(n_classes=10)\n",
    "resnet_model.load_state_dict(torch.load(\"resnet50_cifar10.pth\")) \n",
    "loss_func = nn.CrossEntropyLoss()\n",
    "device = 'cuda' if torch.cuda.is_available() else 'cpu'\n",
    "\n",
    "\n",
    "tr_loss,tr_acc = eval_step(resnet_model,train_loader,loss_func,device,'resnet','cifar10')\n",
    "ts_loss,ts_acc = eval_step(resnet_model,test_loader,loss_func,device,'resnet','cifar10')\n",
    "\n",
    "print(\"Final Train Accuracy:\",tr_acc)\n",
    "print(\"Final Train Loss:\",tr_loss)\n",
    "print(\"Final Test Accuracy:\",ts_acc)\n",
    "print(\"Final Test Loss:\",ts_loss)\n"
   ]
  },
  {
   "cell_type": "markdown",
   "metadata": {},
   "source": [
    "### ViT"
   ]
  },
  {
   "cell_type": "code",
   "execution_count": 30,
   "metadata": {},
   "outputs": [
    {
     "name": "stdout",
     "output_type": "stream",
     "text": [
      "Files already downloaded and verified\n",
      "Files already downloaded and verified\n",
      "Final Train Accuracy: 0.97889996\n",
      "Final Train Loss: 0.06732959464958171\n",
      "Final Test Accuracy: 0.624\n",
      "Final Test Loss: 1.3198931000794574\n"
     ]
    }
   ],
   "source": [
    "train = CIFAR10(root='data',transform=transforms_vit,download=True)\n",
    "test = CIFAR10(root='data',transform=transforms.Compose([RandomColorChange(),transforms_vit]),train=False,download=True)\n",
    "BATCH_SIZE = 64\n",
    "N_EPOCHS = 3\n",
    "dl = DataLoaders(train,test,'resnet',BATCH_SIZE,True,'cifar10')\n",
    "train_loader, test_loader = dl.get_loaders()\n",
    "\n",
    "\n",
    "vit_model = ViTBase(n_classes=10)\n",
    "vit_model.load_state_dict(torch.load(\"vitbase_cifar10.pth\")) \n",
    "loss_func = nn.CrossEntropyLoss()\n",
    "device = 'cuda' if torch.cuda.is_available() else 'cpu'\n",
    "\n",
    "\n",
    "tr_loss,tr_acc = eval_step(vit_model,train_loader,loss_func,device,'vit','cifar10')\n",
    "ts_loss,ts_acc = eval_step(vit_model,test_loader,loss_func,device,'vit','cifar10')\n",
    "\n",
    "print(\"Final Train Accuracy:\",tr_acc)\n",
    "print(\"Final Train Loss:\",tr_loss)\n",
    "print(\"Final Test Accuracy:\",ts_acc)\n",
    "print(\"Final Test Loss:\",ts_loss)"
   ]
  },
  {
   "cell_type": "markdown",
   "metadata": {},
   "source": [
    "### CLIP"
   ]
  },
  {
   "cell_type": "code",
   "execution_count": 31,
   "metadata": {},
   "outputs": [
    {
     "name": "stdout",
     "output_type": "stream",
     "text": [
      "Files already downloaded and verified\n",
      "Files already downloaded and verified\n",
      "Final Train Accuracy: 0.96632\n",
      "Final Train Loss: 2.2430548102794687\n",
      "Final Test Accuracy: 0.48099998\n",
      "Final Test Loss: 49.14668980981134\n"
     ]
    }
   ],
   "source": [
    "train = CIFAR10(root='data',download=True)\n",
    "test = CIFAR10(root='data',train=False,transform=RandomColorChange(),download=True)\n",
    "\n",
    "dl = DataLoaders(train,test,'clip',BATCH_SIZE,True,'cifar10')\n",
    "train_loader, test_loader = dl.get_loaders()\n",
    "\n",
    "clip_model =CLIPModel(emb_dim=256)\n",
    "clip_model.load_state_dict(torch.load(\"clip_cifar10.pth\")) \n",
    "loss_func = nn.CrossEntropyLoss()\n",
    "device = 'cuda' if torch.cuda.is_available() else 'cpu'\n",
    "\n",
    "\n",
    "tr_loss,tr_acc = eval_step(clip_model,train_loader,loss_func,device,'clip','cifar10')\n",
    "ts_loss,ts_acc = eval_step(clip_model,test_loader,loss_func,device,'clip','cifar10')\n",
    "\n",
    "\n",
    "print(\"Final Train Accuracy:\",tr_acc)\n",
    "print(\"Final Train Loss:\",tr_loss)\n",
    "print(\"Final Test Accuracy:\",ts_acc)\n",
    "print(\"Final Test Loss:\",ts_loss)"
   ]
  },
  {
   "cell_type": "markdown",
   "metadata": {},
   "source": [
    "## Random Scramble"
   ]
  },
  {
   "cell_type": "markdown",
   "metadata": {},
   "source": [
    "### Resnet50"
   ]
  },
  {
   "cell_type": "code",
   "execution_count": 20,
   "metadata": {},
   "outputs": [
    {
     "name": "stdout",
     "output_type": "stream",
     "text": [
      "Files already downloaded and verified\n",
      "Files already downloaded and verified\n",
      "Final Train Accuracy: 0.8142\n",
      "Final Train Loss: 0.5568898919293338\n",
      "Final Test Accuracy: 0.3586\n",
      "Final Test Loss: 2.0135921513199047\n"
     ]
    }
   ],
   "source": [
    "train = CIFAR10(root='data',transform=transforms_resnet,download=True)\n",
    "test = CIFAR10(root='data',transform=transforms.Compose([RandomScramble(8),transforms_resnet]),train=False,download=True)\n",
    "BATCH_SIZE = 64\n",
    "N_EPOCHS = 3\n",
    "dl = DataLoaders(train,test,'resnet',BATCH_SIZE,True,'cifar10')\n",
    "train_loader, test_loader = dl.get_loaders()\n",
    "\n",
    "\n",
    "resnet_model = ResNet50(n_classes=10)\n",
    "resnet_model.load_state_dict(torch.load(\"resnet50_cifar10.pth\")) \n",
    "loss_func = nn.CrossEntropyLoss()\n",
    "device = 'cuda' if torch.cuda.is_available() else 'cpu'\n",
    "\n",
    "\n",
    "tr_loss,tr_acc = eval_step(resnet_model,train_loader,loss_func,device,'resnet','cifar10')\n",
    "ts_loss,ts_acc = eval_step(resnet_model,test_loader,loss_func,device,'resnet','cifar10')\n",
    "\n",
    "print(\"Final Train Accuracy:\",tr_acc)\n",
    "print(\"Final Train Loss:\",tr_loss)\n",
    "print(\"Final Test Accuracy:\",ts_acc)\n",
    "print(\"Final Test Loss:\",ts_loss)\n"
   ]
  },
  {
   "cell_type": "markdown",
   "metadata": {},
   "source": [
    "### ViT"
   ]
  },
  {
   "cell_type": "code",
   "execution_count": 23,
   "metadata": {},
   "outputs": [
    {
     "name": "stdout",
     "output_type": "stream",
     "text": [
      "Files already downloaded and verified\n",
      "Files already downloaded and verified\n",
      "Final Train Accuracy: 0.97889996\n",
      "Final Train Loss: 0.06726822829724925\n",
      "Final Test Accuracy: 0.6556\n",
      "Final Test Loss: 1.1533814065016\n"
     ]
    }
   ],
   "source": [
    "train = CIFAR10(root='data',transform=transforms_vit,download=True)\n",
    "test = CIFAR10(root='data',transform=transforms.Compose([RandomScramble(),transforms_vit]),train=False,download=True)\n",
    "BATCH_SIZE = 64\n",
    "N_EPOCHS = 3\n",
    "dl = DataLoaders(train,test,'resnet',BATCH_SIZE,True,'cifar10')\n",
    "train_loader, test_loader = dl.get_loaders()\n",
    "\n",
    "\n",
    "vit_model = ViTBase(n_classes=10)\n",
    "vit_model.load_state_dict(torch.load(\"vitbase_cifar10.pth\")) \n",
    "loss_func = nn.CrossEntropyLoss()\n",
    "device = 'cuda' if torch.cuda.is_available() else 'cpu'\n",
    "\n",
    "\n",
    "tr_loss,tr_acc = eval_step(vit_model,train_loader,loss_func,device,'vit','cifar10')\n",
    "ts_loss,ts_acc = eval_step(vit_model,test_loader,loss_func,device,'vit','cifar10')\n",
    "\n",
    "print(\"Final Train Accuracy:\",tr_acc)\n",
    "print(\"Final Train Loss:\",tr_loss)\n",
    "print(\"Final Test Accuracy:\",ts_acc)\n",
    "print(\"Final Test Loss:\",ts_loss)"
   ]
  },
  {
   "cell_type": "markdown",
   "metadata": {},
   "source": [
    "### CLIP"
   ]
  },
  {
   "cell_type": "code",
   "execution_count": 24,
   "metadata": {},
   "outputs": [
    {
     "name": "stdout",
     "output_type": "stream",
     "text": [
      "Files already downloaded and verified\n",
      "Files already downloaded and verified\n",
      "Final Train Accuracy: 0.96632\n",
      "Final Train Loss: 2.24305481027947\n",
      "Final Test Accuracy: 0.4535\n",
      "Final Test Loss: 51.53690602976805\n"
     ]
    }
   ],
   "source": [
    "train = CIFAR10(root='data',download=True)\n",
    "test = CIFAR10(root='data',train=False,transform=RandomScramble(),download=True)\n",
    "\n",
    "dl = DataLoaders(train,test,'clip',BATCH_SIZE,True,'cifar10')\n",
    "train_loader, test_loader = dl.get_loaders()\n",
    "\n",
    "clip_model =CLIPModel(emb_dim=256)\n",
    "clip_model.load_state_dict(torch.load(\"clip_cifar10.pth\")) \n",
    "loss_func = nn.CrossEntropyLoss()\n",
    "device = 'cuda' if torch.cuda.is_available() else 'cpu'\n",
    "\n",
    "\n",
    "tr_loss,tr_acc = eval_step(clip_model,train_loader,loss_func,device,'clip','cifar10')\n",
    "ts_loss,ts_acc = eval_step(clip_model,test_loader,loss_func,device,'clip','cifar10')\n",
    "\n",
    "\n",
    "print(\"Final Train Accuracy:\",tr_acc)\n",
    "print(\"Final Train Loss:\",tr_loss)\n",
    "print(\"Final Test Accuracy:\",ts_acc)\n",
    "print(\"Final Test Loss:\",ts_loss)"
   ]
  }
 ],
 "metadata": {
  "kernelspec": {
   "display_name": "SProj",
   "language": "python",
   "name": "python3"
  },
  "language_info": {
   "codemirror_mode": {
    "name": "ipython",
    "version": 3
   },
   "file_extension": ".py",
   "mimetype": "text/x-python",
   "name": "python",
   "nbconvert_exporter": "python",
   "pygments_lexer": "ipython3",
   "version": "3.11.5"
  }
 },
 "nbformat": 4,
 "nbformat_minor": 2
}
