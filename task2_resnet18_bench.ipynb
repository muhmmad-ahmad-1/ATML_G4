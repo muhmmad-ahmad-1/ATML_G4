{
 "cells": [
  {
   "cell_type": "code",
   "execution_count": 1,
   "metadata": {},
   "outputs": [],
   "source": [
    "from models.model import ResNet18\n",
    "from models.utils import train_step, eval_step, DataLoaders\n",
    "from models.transforms import transforms_resnet\n",
    "import torch\n",
    "import torch.nn as nn\n",
    "from torchvision.datasets import CIFAR10"
   ]
  },
  {
   "cell_type": "code",
   "execution_count": 3,
   "metadata": {},
   "outputs": [
    {
     "name": "stdout",
     "output_type": "stream",
     "text": [
      "Files already downloaded and verified\n",
      "Files already downloaded and verified\n"
     ]
    }
   ],
   "source": [
    "train = CIFAR10(root='data',transform=transforms_resnet,download=True)\n",
    "test = CIFAR10(root='data',transform=transforms_resnet,train=False,download=True)"
   ]
  },
  {
   "cell_type": "code",
   "execution_count": 8,
   "metadata": {},
   "outputs": [],
   "source": [
    "BATCH_SIZE = 64\n",
    "N_EPOCHS = 30"
   ]
  },
  {
   "cell_type": "code",
   "execution_count": 9,
   "metadata": {},
   "outputs": [],
   "source": [
    "dl = DataLoaders(train,test,'resnet',BATCH_SIZE,True,'cifar10')"
   ]
  },
  {
   "cell_type": "code",
   "execution_count": 10,
   "metadata": {},
   "outputs": [],
   "source": [
    "train_loader, test_loader = dl.get_loaders()"
   ]
  },
  {
   "cell_type": "code",
   "execution_count": 11,
   "metadata": {},
   "outputs": [
    {
     "name": "stderr",
     "output_type": "stream",
     "text": [
      "100%|██████████| 30/30 [26:19<00:00, 52.66s/it]"
     ]
    },
    {
     "name": "stdout",
     "output_type": "stream",
     "text": [
      "Final Train Accuracy: 0.7905\n",
      "Final Test Accuracy: 0.78209996\n",
      "Final Train Loss: 0.6016889525496442\n",
      "Final Test Loss: 0.6397212705794414\n"
     ]
    },
    {
     "name": "stderr",
     "output_type": "stream",
     "text": [
      "\n"
     ]
    }
   ],
   "source": [
    "# Train and then Evaluate (Three Different Train and Evaluation Loops)\n",
    "from tqdm import tqdm\n",
    "def train_and_eval(train_loader,test_loader,model,loss_fn,optimizer,device,modeltype):\n",
    "    tr_metric = {\"Accuracy\":[],\"Loss\":[]}\n",
    "    ts_metric = {\"Accuracy\":[],\"Loss\":[]}\n",
    "\n",
    "    for epoch in tqdm(range(N_EPOCHS)):\n",
    "        tr_loss, tr_acc = train_step(model,train_loader,loss_fn,optimizer,device,modeltype)\n",
    "        ts_loss, ts_acc = eval_step(model,test_loader,loss_fn,device,modeltype,data=\"cifar10\")\n",
    "\n",
    "        tr_metric[\"Accuracy\"].append(tr_acc)\n",
    "        tr_metric[\"Loss\"].append(tr_loss)\n",
    "\n",
    "        ts_metric[\"Accuracy\"].append(ts_acc)\n",
    "        ts_metric[\"Loss\"].append(ts_loss)\n",
    "    \n",
    "    return tr_metric, ts_metric\n",
    "\n",
    "model = ResNet18(n_classes=10)\n",
    "loss_func = nn.CrossEntropyLoss()\n",
    "optimizer = torch.optim.Adam(model.parameters())\n",
    "device = 'cuda' if torch.cuda.is_available() else 'cpu'\n",
    "\n",
    "\n",
    "tr,ts = train_and_eval(train_loader,test_loader,model,loss_func,optimizer,device,'resnet18')\n",
    "\n",
    "print(\"Final Train Accuracy:\",tr[\"Accuracy\"][-1])\n",
    "print(\"Final Test Accuracy:\",ts[\"Accuracy\"][-1])\n",
    "print(\"Final Train Loss:\",tr[\"Loss\"][-1])\n",
    "print(\"Final Test Loss:\",ts[\"Loss\"][-1])"
   ]
  },
  {
   "cell_type": "code",
   "execution_count": 12,
   "metadata": {},
   "outputs": [],
   "source": [
    "import pandas as pd\n",
    "pd.DataFrame(tr).to_csv(\"resnet18_cifar10_tr_1.csv\") \n",
    "pd.DataFrame(ts).to_csv(\"resnet18_cifar10_ts_1.csv\")"
   ]
  },
  {
   "cell_type": "code",
   "execution_count": 14,
   "metadata": {},
   "outputs": [],
   "source": [
    "torch.save(model.state_dict(),\"resnet18_cifar10.pth\")\n",
    "model.load_state_dict(torch.load(\"resnet18_cifar10.pth\"))   "
   ]
  }
 ],
 "metadata": {
  "kernelspec": {
   "display_name": "Python 3",
   "language": "python",
   "name": "python3"
  },
  "language_info": {
   "codemirror_mode": {
    "name": "ipython",
    "version": 3
   },
   "file_extension": ".py",
   "mimetype": "text/x-python",
   "name": "python",
   "nbconvert_exporter": "python",
   "pygments_lexer": "ipython3",
   "version": "3.11.5"
  }
 },
 "nbformat": 4,
 "nbformat_minor": 2
}
